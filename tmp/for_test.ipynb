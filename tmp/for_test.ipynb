{
 "cells": [
  {
   "cell_type": "code",
   "execution_count": 2,
   "metadata": {},
   "outputs": [],
   "source": [
    "import pickle\n",
    "author_dict = pickle.load(open('data/citationv1_author.pkl','rb'))\n",
    "node_dict = pickle.load(open('data/citationv1.pkl','rb'))"
   ]
  },
  {
   "cell_type": "code",
   "execution_count": 7,
   "metadata": {},
   "outputs": [],
   "source": [
    "import networkx as nx"
   ]
  },
  {
   "cell_type": "code",
   "execution_count": 3,
   "metadata": {},
   "outputs": [
    {
     "data": {
      "text/plain": [
       "{'title': 'Automated Deduction in Geometry: 5th International Workshop, ADG 2004, Gainesville, FL, USA, September 16-18, 2004, Revised Papers (Lecture Notes in Computer ... / Lecture Notes in Artificial Intelligence)',\n",
       " 'authers': ['Hoon Hong', 'Dongming Wang'],\n",
       " 'year': 2006,\n",
       " 'venue': '',\n",
       " 'index': 0,\n",
       " 'references': [],\n",
       " 'abstract': '',\n",
       " 'cited': []}"
      ]
     },
     "execution_count": 3,
     "metadata": {},
     "output_type": "execute_result"
    }
   ],
   "source": [
    "node_dict[0]"
   ]
  },
  {
   "cell_type": "code",
   "execution_count": 9,
   "metadata": {},
   "outputs": [],
   "source": [
    "def gen_graph(index):\n",
    "    g = nx.DiGraph()\n",
    "    root_name = node_dict[index]['title']\n",
    "    g.add_node(index,label = root_name,modularity_class = 'self')\n",
    "    for nd in node_dict[index]['references']:\n",
    "        g.add_node(nd,label = node_dict[nd]['title'],modularity_class = 'references')\n",
    "        g.add_edge(nd,index)\n",
    "    for nd in node_dict[index]['cited']:\n",
    "        g.add_node(nd,label = node_dict[nd]['title'],modularity_class = 'cited')\n",
    "        g.add_edge(index,nd)\n",
    "    for aut in node_dict[index]['authers']:\n",
    "        for nd in author_dict[aut]:\n",
    "            if nd not in g.nodes:\n",
    "                g.add_node(nd,label = node_dict[nd]['title'],modularity_class = 'co-author')\n",
    "                g.add_edge(index,nd)\n",
    "    return g"
   ]
  },
  {
   "cell_type": "code",
   "execution_count": 10,
   "metadata": {},
   "outputs": [],
   "source": [
    "g = gen_graph(436405)"
   ]
  },
  {
   "cell_type": "code",
   "execution_count": 13,
   "metadata": {},
   "outputs": [
    {
     "name": "stdout",
     "output_type": "stream",
     "text": [
      "{'label': 'Information geometry of U-Boost and Bregman divergence', 'modularity_class': 'self'}\n",
      "{'label': 'A decision-theoretic generalization of on-line learning and an application to boosting', 'modularity_class': 'references'}\n",
      "{'label': 'Boosting as entropy projection', 'modularity_class': 'references'}\n",
      "{'label': 'Information geometry of the EM and em algorithms for neural networks', 'modularity_class': 'references'}\n",
      "{'label': 'Neural Networks for Pattern Recognition', 'modularity_class': 'references'}\n",
      "{'label': 'Logistic Regression, AdaBoost and Bregman Distances', 'modularity_class': 'references'}\n",
      "{'label': 'MadaBoost: A Modification of AdaBoost', 'modularity_class': 'references'}\n",
      "{'label': 'Boosting a weak learning algorithm by majority', 'modularity_class': 'references'}\n",
      "{'label': 'The Strength of Weak Learnability', 'modularity_class': 'references'}\n",
      "{'label': 'The nature of statistical learning theory', 'modularity_class': 'references'}\n",
      "{'label': 'Interpreting Kullback-Leibler divergence with the Neyman-Pearson lemma', 'modularity_class': 'cited'}\n",
      "{'label': 'Robust boosting algorithm against mislabeling in multiclass problems', 'modularity_class': 'cited'}\n",
      "{'label': 'Multiclass Boosting Algorithms for Shrinkage Estimators of Class Probability', 'modularity_class': 'cited'}\n",
      "{'label': 'Tutorial series on brain-inspired computing: part 6: geometrical structure of boosting algorithm', 'modularity_class': 'cited'}\n",
      "{'label': 'Robust parameter estimation with a small bias against heavy contamination', 'modularity_class': 'cited'}\n",
      "{'label': 'Robust Loss Functions for Boosting', 'modularity_class': 'cited'}\n",
      "{'label': 'An Information Theoretic Perspective of the Sparse Coding', 'modularity_class': 'co-author'}\n",
      "{'label': 'Support vector machines with different norms: motivation, formulations and results', 'modularity_class': 'co-author'}\n",
      "{'label': 'A statistical study of on-line learning', 'modularity_class': 'co-author'}\n",
      "{'label': 'On-line learning in switching and drifting environments with application to blind source separation', 'modularity_class': 'co-author'}\n",
      "{'label': 'Learning Curves, Model Selection and Complexity of Neural Networks', 'modularity_class': 'co-author'}\n",
      "{'label': 'Calibration of Radially Symmetric Distortion by Fitting Principal Component', 'modularity_class': 'co-author'}\n",
      "{'label': 'Bayesian Collaborative Predictors for General User Modeling Tasks', 'modularity_class': 'co-author'}\n",
      "{'label': 'GroupAdaBoost for Selecting Important Genes', 'modularity_class': 'co-author'}\n",
      "{'label': 'Inlier-Based Outlier Detection via Direct Density Ratio Estimation', 'modularity_class': 'co-author'}\n",
      "{'label': 'Nonparametric conditional density estimation using piecewise-linear solution path of kernel quantile regression', 'modularity_class': 'co-author'}\n",
      "{'label': 'Pool-based active learning with optimal sampling distribution and its information geometrical interpretation', 'modularity_class': 'co-author'}\n",
      "{'label': 'A New Sequential Algorithm for Regression Problems by Using Mixture Distribution', 'modularity_class': 'co-author'}\n",
      "{'label': 'Image classification based on Markov random field models with Jeffreys divergence', 'modularity_class': 'co-author'}\n",
      "{'label': 'Robust Principal Component Analysis with Adaptive Selection for Tuning Parameters', 'modularity_class': 'co-author'}\n"
     ]
    }
   ],
   "source": [
    "for node in g.nodes:\n",
    "    print(g.nodes[node])"
   ]
  },
  {
   "cell_type": "code",
   "execution_count": 14,
   "metadata": {},
   "outputs": [
    {
     "data": {
      "text/plain": [
       "'1'"
      ]
     },
     "execution_count": 14,
     "metadata": {},
     "output_type": "execute_result"
    }
   ],
   "source": [
    "a = '1'\n",
    "str(a)"
   ]
  },
  {
   "cell_type": "code",
   "execution_count": 15,
   "metadata": {},
   "outputs": [
    {
     "name": "stdout",
     "output_type": "stream",
     "text": [
      "\"1\"\n"
     ]
    }
   ],
   "source": [
    "a = '\"1\"'\n",
    "print(a)"
   ]
  },
  {
   "cell_type": "code",
   "execution_count": 1,
   "metadata": {},
   "outputs": [],
   "source": [
    "import pickle\n",
    "from rake_nltk import Rake"
   ]
  },
  {
   "cell_type": "code",
   "execution_count": 3,
   "metadata": {},
   "outputs": [],
   "source": [
    "r = Rake()\n",
    "nodes = pickle.load(open('data/citationv1.pkl','rb'))"
   ]
  },
  {
   "cell_type": "code",
   "execution_count": 9,
   "metadata": {},
   "outputs": [
    {
     "data": {
      "text/plain": [
       "{'title': 'Performance engineering in industry: current practices and adoption challenges',\n",
       " 'authers': ['Ahmed E. Hassan', 'Parminder Flora'],\n",
       " 'year': 2007,\n",
       " 'venue': 'Proceedings of the 6th international workshop on Software and performance',\n",
       " 'index': 2,\n",
       " 'references': [],\n",
       " 'abstract': 'This panel session discusses performance engineering practices in industry. Presentations in the session will explore the use of lightweight techniques and approaches in order to permit the cost effective and rapid adoption of performance modeling research by large industrial software systems.',\n",
       " 'cited': []}"
      ]
     },
     "execution_count": 9,
     "metadata": {},
     "output_type": "execute_result"
    }
   ],
   "source": [
    "nodes[2]"
   ]
  },
  {
   "cell_type": "code",
   "execution_count": 10,
   "metadata": {},
   "outputs": [
    {
     "data": {
      "text/plain": [
       "[(32.0, 'panel session discusses performance engineering practices'),\n",
       " (16.0, 'large industrial software systems'),\n",
       " (10.5, 'performance modeling research'),\n",
       " (4.0, 'rapid adoption'),\n",
       " (4.0, 'lightweight techniques'),\n",
       " (4.0, 'cost effective'),\n",
       " (3.5, 'session'),\n",
       " (1.0, 'use'),\n",
       " (1.0, 'presentations'),\n",
       " (1.0, 'permit'),\n",
       " (1.0, 'order'),\n",
       " (1.0, 'industry'),\n",
       " (1.0, 'explore'),\n",
       " (1.0, 'approaches')]"
      ]
     },
     "execution_count": 10,
     "metadata": {},
     "output_type": "execute_result"
    }
   ],
   "source": [
    "r.extract_keywords_from_text(nodes[2]['abstract'])\n",
    "r.get_ranked_phrases_with_scores()"
   ]
  },
  {
   "cell_type": "code",
   "execution_count": 11,
   "metadata": {},
   "outputs": [],
   "source": [
    "import json"
   ]
  },
  {
   "cell_type": "code",
   "execution_count": 14,
   "metadata": {},
   "outputs": [],
   "source": [
    "a\n",
    "    nodes = f.readlines()"
   ]
  },
  {
   "cell_type": "code",
   "execution_count": 15,
   "metadata": {},
   "outputs": [
    {
     "data": {
      "text/plain": [
       "'{\"id\": \"100001334\", \"title\": \"Ontologies in HYDRA - Middleware for Ambient Intelligent Devices.\", \"authors\": [{\"name\": \"Peter Kostelnik\", \"id\": \"2702511795\"}, {\"name\": \"Martin Sarnovsky\", \"id\": \"2041014688\"}, {\"name\": \"Jan Hreno\", \"id\": \"2398560122\"}], \"venue\": {\"raw\": \"AMIF\"}, \"year\": 2009, \"n_citation\": 2, \"page_start\": \"43\", \"page_end\": \"46\", \"doc_type\": \"\", \"publisher\": \"\", \"volume\": \"\", \"issue\": \"\", \"fos\": [{\"name\": \"Lernaean Hydra\", \"w\": 0.4178039}, {\"name\": \"Database\", \"w\": 0.4269269}, {\"name\": \"World Wide Web\", \"w\": 0.415332377}, {\"name\": \"Ontology (information science)\", \"w\": 0.459045082}, {\"name\": \"Computer science\", \"w\": 0.399807781}, {\"name\": \"Middleware\", \"w\": 0.5905041}, {\"name\": \"Ambient intelligence\", \"w\": 0.5440575}], \"references\": []}\\n'"
      ]
     },
     "execution_count": 15,
     "metadata": {},
     "output_type": "execute_result"
    }
   ],
   "source": [
    "nodes[0]"
   ]
  },
  {
   "cell_type": "code",
   "execution_count": 16,
   "metadata": {},
   "outputs": [
    {
     "data": {
      "text/plain": [
       "'{\"id\": \"1000018889\", \"title\": \"Remote Policy Enforcement for Trusted Application Execution in Mobile Environments\", \"authors\": [{\"name\": \"Fabio Martinelli\", \"id\": \"2107438709\", \"org\": \"Istituto di Informatica e Telematica, Consiglio Nazionale delle Ricerche, Pisa, Italy#TAB#\"}, {\"name\": \"Ilaria Matteucci\", \"id\": \"2311169168\", \"org\": \"Istituto di Informatica e Telematica, Consiglio Nazionale delle Ricerche, Pisa, Italy#TAB#\"}, {\"name\": \"Andrea Saracino\", \"id\": \"2140477378\", \"org\": \"Dipartimento di Ingegneria dell\\'Informazione, Universit di Pisa, Pisa, Italy and Istituto di Informatica e Telematica, Consiglio Nazionale delle Ricerche, Pisa, Italy#TAB#\"}, {\"name\": \"Daniele Sgandurra\", \"id\": \"252575161\", \"org\": \"Istituto di Informatica e Telematica, Consiglio Nazionale delle Ricerche, Pisa, Italy#TAB#\"}], \"venue\": {\"raw\": \"international conference on trusted systems\", \"id\": \"2760518661\"}, \"year\": 2013, \"n_citation\": 2, \"page_start\": \"70\", \"page_end\": \"84\", \"doc_type\": \"Conference\", \"publisher\": \"Springer, Cham\", \"volume\": \"\", \"issue\": \"\", \"doi\": \"10.1007/978-3-319-03491-1_5\", \"references\": [\"1504669610\", \"1542792105\", \"1639158619\"], \"indexed_abstract\": {\"IndexLength\": 173, \"InvertedIndex\": {\"Both\": [0], \"in\": [1, 64], \"the\": [2, 43, 70, 93, 101, 110, 118, 124, 129, 133, 136, 140, 142, 151, 166], \"cloud\": [3], \"and\": [4, 18, 24, 77, 126, 138, 156, 171], \"mobile\": [5], \"environments,\": [6], \"a\": [7, 36, 83, 157], \"large\": [8], \"number\": [9], \"of\": [10, 51, 95, 128, 135, 139], \"online\": [11], \"services\": [12], \"is\": [13, 114, 168], \"daily\": [14], \"accessed\": [15], \"through\": [16], \"smartphones\": [17, 163], \"tablets.\": [19], \"Since\": [20], \"several\": [21], \"security,\": [22], \"safety\": [23], \"trust\": [25], \"concerns\": [26], \"may\": [27, 34], \"arise\": [28], \"when\": [29, 68], \"using\": [30, 69], \"these\": [31, 47], \"services,\": [32], \"providers\": [33, 56, 88], \"require\": [35], \"usage\": [37], \"policy\": [38, 52, 120], \"to\": [39, 57, 74, 89, 121, 148], \"be\": [40], \"enforced\": [41], \"on\": [42, 100], \"devices\": [44, 62], \"while\": [45], \"accessing\": [46], \"services.\": [48], \"This\": [49], \"kind\": [50], \"enforcements\": [53], \"enables\": [54], \"service\": [55, 87], \"have\": [58, 90], \"assurance\": [59, 91], \"that\": [60, 165], \"remote\": [61], \"are\": [63], \"an\": [65, 107], \"acceptable\": [66], \"state\": [67], \"provided\": [71], \"service,\": [72], \"according\": [73], \"their\": [75], \"terms\": [76, 125], \"conditions.\\\\r\\\\n\\\\r\\\\nIn\": [78], \"this\": [79], \"paper,\": [80], \"we\": [81], \"propose\": [82], \"framework\": [84, 105, 143], \"which\": [85, 113], \"allows\": [86], \"about\": [92], \"enforcement\": [94], \"some\": [96], \"functional\": [97], \"policies\": [98], \"directly\": [99], \"device.\": [102], \"The\": [103], \"proposed\": [104], \"inserts\": [106], \"enforcer\": [108, 137], \"into\": [109], \"client\\'s\": [111], \"device,\": [112], \"responsible\": [115], \"for\": [116, 161], \"enforcing\": [117], \"provider\\'s\": [119], \"abide\": [122], \"by\": [123], \"conditions\": [127], \"service.\": [130], \"To\": [131], \"assure\": [132], \"integrity\": [134], \"policy,\": [141], \"exploits\": [144], \"Trusted\": [145], \"Computing\": [146], \"techniques\": [147], \"remotely\": [149], \"attest\": [150], \"enforcer\\'s\": [152], \"measurements.\": [153], \"Preliminary\": [154], \"experiments\": [155], \"first\": [158], \"prototype\": [159], \"implementation\": [160], \"Android-based\": [162], \"suggest\": [164], \"approach\": [167], \"both\": [169], \"viable\": [170], \"effective.\": [172]}}, \"fos\": [{\"name\": \"Trusted Computing\", \"w\": 0.6314859}, {\"name\": \"Exploit\", \"w\": 0.454504043}, {\"name\": \"Mobile device\", \"w\": 0.527162254}, {\"name\": \"Computer security\", \"w\": 0.4636836}, {\"name\": \"Android (operating system)\", \"w\": 0.4973744}, {\"name\": \"Service provider\", \"w\": 0.613621056}, {\"name\": \"Enforcement\", \"w\": 0.486138523}, {\"name\": \"Trusted Platform Module\", \"w\": 0.5545424}, {\"name\": \"Cloud computing\", \"w\": 0.5464316}, {\"name\": \"Business\", \"w\": 0.410246879}]}\\n'"
      ]
     },
     "execution_count": 16,
     "metadata": {},
     "output_type": "execute_result"
    }
   ],
   "source": [
    "nodes[1]"
   ]
  },
  {
   "cell_type": "code",
   "execution_count": 21,
   "metadata": {},
   "outputs": [
    {
     "name": "stderr",
     "output_type": "stream",
     "text": [
      "100%|██████████| 614214/614214 [00:55<00:00, 11117.87it/s]\n"
     ]
    }
   ],
   "source": [
    "node_dict = {}\n",
    "citation_dict = {}\n",
    "author_dict = {}\n",
    "useful_keys = ['id','title','references','authors']\n",
    "with open('data/subgraph_v11_1.json','r') as f:\n",
    "    jsons = f.readlines()\n",
    "for js in tqdm(jsons):\n",
    "    js_l = json.loads(js)\n",
    "    js_l = dict((k,v) for k,v in js_l.items() if k in useful_keys)\n",
    "    node_dict[js_l['id']] = js_l\n",
    "    for aut in js_l['authors']:\n",
    "        if aut['id'] not in author_dict:\n",
    "            author_dict[aut['id']] = []\n",
    "        author_dict[aut['id']].append(js_l['id'])\n",
    "    for ref in js_l['references']:\n",
    "        if ref not in citation_dict:\n",
    "            citation_dict[ref] = []\n",
    "        citation_dict[ref].append(js_l['id'])"
   ]
  },
  {
   "cell_type": "code",
   "execution_count": 22,
   "metadata": {},
   "outputs": [
    {
     "data": {
      "text/plain": [
       "213661"
      ]
     },
     "execution_count": 22,
     "metadata": {},
     "output_type": "execute_result"
    }
   ],
   "source": [
    "len(citation_dict)"
   ]
  },
  {
   "cell_type": "code",
   "execution_count": 19,
   "metadata": {},
   "outputs": [
    {
     "name": "stderr",
     "output_type": "stream",
     "text": [
      "100%|██████████| 5/5 [00:00<00:00, 158.45it/s]"
     ]
    },
    {
     "name": "stdout",
     "output_type": "stream",
     "text": [
      "1\n",
      "2\n",
      "3\n",
      "4\n",
      "7\n"
     ]
    },
    {
     "name": "stderr",
     "output_type": "stream",
     "text": [
      "\n"
     ]
    }
   ],
   "source": [
    "a = [1,2,3,4,7]\n",
    "for i in tqdm(a):\n",
    "    print(i)"
   ]
  },
  {
   "cell_type": "code",
   "execution_count": 18,
   "metadata": {},
   "outputs": [],
   "source": [
    "from tqdm import tqdm"
   ]
  },
  {
   "cell_type": "code",
   "execution_count": 23,
   "metadata": {},
   "outputs": [],
   "source": [
    "import pickle"
   ]
  },
  {
   "cell_type": "code",
   "execution_count": 24,
   "metadata": {},
   "outputs": [
    {
     "data": {
      "text/plain": [
       "{'id': '1000018889',\n",
       " 'title': 'Remote Policy Enforcement for Trusted Application Execution in Mobile Environments',\n",
       " 'authors': [{'name': 'Fabio Martinelli',\n",
       "   'id': '2107438709',\n",
       "   'org': 'Istituto di Informatica e Telematica, Consiglio Nazionale delle Ricerche, Pisa, Italy#TAB#'},\n",
       "  {'name': 'Ilaria Matteucci',\n",
       "   'id': '2311169168',\n",
       "   'org': 'Istituto di Informatica e Telematica, Consiglio Nazionale delle Ricerche, Pisa, Italy#TAB#'},\n",
       "  {'name': 'Andrea Saracino',\n",
       "   'id': '2140477378',\n",
       "   'org': \"Dipartimento di Ingegneria dell'Informazione, Universit di Pisa, Pisa, Italy and Istituto di Informatica e Telematica, Consiglio Nazionale delle Ricerche, Pisa, Italy#TAB#\"},\n",
       "  {'name': 'Daniele Sgandurra',\n",
       "   'id': '252575161',\n",
       "   'org': 'Istituto di Informatica e Telematica, Consiglio Nazionale delle Ricerche, Pisa, Italy#TAB#'}],\n",
       " 'references': ['1504669610', '1542792105', '1639158619']}"
      ]
     },
     "execution_count": 24,
     "metadata": {},
     "output_type": "execute_result"
    }
   ],
   "source": [
    "node_dict['1000018889']"
   ]
  },
  {
   "cell_type": "code",
   "execution_count": 38,
   "metadata": {},
   "outputs": [
    {
     "data": {
      "text/plain": [
       "['1000018889',\n",
       " '1000328014',\n",
       " '101667962',\n",
       " '113540453',\n",
       " '1172671697',\n",
       " '121425029',\n",
       " '135494744',\n",
       " '138746455',\n",
       " '139529891',\n",
       " '140180654',\n",
       " '1480908949',\n",
       " '1485377379',\n",
       " '1485725695',\n",
       " '1486199168',\n",
       " '1486853642',\n",
       " '1492629097',\n",
       " '1492794793',\n",
       " '1494423854',\n",
       " '1497836530',\n",
       " '1510961363',\n",
       " '1512963268',\n",
       " '1513989276',\n",
       " '1533718058',\n",
       " '1539700910',\n",
       " '1539721902',\n",
       " '1540359676',\n",
       " '1543782959',\n",
       " '1557188230',\n",
       " '1562425714',\n",
       " '1562827700',\n",
       " '1565275587',\n",
       " '1571942358',\n",
       " '1579534168',\n",
       " '1582567049',\n",
       " '1584984507',\n",
       " '1591991997',\n",
       " '1592544607',\n",
       " '1597048264',\n",
       " '1600323250',\n",
       " '1601816691',\n",
       " '1617766523',\n",
       " '1639158619',\n",
       " '1657886273',\n",
       " '1658613573',\n",
       " '1753645083',\n",
       " '175930347',\n",
       " '1773459340',\n",
       " '1825665527',\n",
       " '183206270']"
      ]
     },
     "execution_count": 38,
     "metadata": {},
     "output_type": "execute_result"
    }
   ],
   "source": [
    "author_dict['2107438709']"
   ]
  },
  {
   "cell_type": "code",
   "execution_count": 39,
   "metadata": {},
   "outputs": [],
   "source": [
    "with open('data/processed_data_v11_1.pkl','wb') as f:\n",
    "    pickle.dump((node_dict,citation_dict,author_dict),f)"
   ]
  },
  {
   "cell_type": "code",
   "execution_count": null,
   "metadata": {},
   "outputs": [],
   "source": [
    "citation_dict['']"
   ]
  },
  {
   "cell_type": "code",
   "execution_count": 35,
   "metadata": {},
   "outputs": [],
   "source": [
    "def gen_graph(index):\n",
    "    index = str(index)\n",
    "    g = nx.DiGraph()\n",
    "    root_name = node_dict[index]['title']\n",
    "    g.add_node(index,label = root_name,value = 1.0,modularity_class = 'self')\n",
    "    for nd in node_dict[index]['references']:\n",
    "        if len(g.nodes)<5:\n",
    "            g.add_node(nd,label = node_dict[nd]['title'],value = get_value(index,nd), modularity_class = 'references')\n",
    "            g.add_edge(nd,index)\n",
    "    for nd in citation_dict.get(index,[]):\n",
    "        if len(g.nodes)<10:\n",
    "            g.add_node(nd,label = node_dict[nd]['title'],value = get_value(index,nd), modularity_class = 'cited')\n",
    "            g.add_edge(index,nd)\n",
    "    for aut in node_dict[index]['authors']:\n",
    "        for nd in author_dict[aut['id']]:\n",
    "            if nd not in g.nodes and len(g.nodes)<15:\n",
    "                g.add_node(nd,label = node_dict[nd]['title'],value = get_value(index,nd), modularity_class = 'co-author')\n",
    "                g.add_edge(index,nd)\n",
    "    return g"
   ]
  },
  {
   "cell_type": "code",
   "execution_count": 36,
   "metadata": {},
   "outputs": [],
   "source": [
    "g = gen_graph('1000018889')"
   ]
  },
  {
   "cell_type": "code",
   "execution_count": null,
   "metadata": {},
   "outputs": [],
   "source": [
    "import time"
   ]
  },
  {
   "cell_type": "code",
   "execution_count": 29,
   "metadata": {},
   "outputs": [],
   "source": [
    "import networkx as nx"
   ]
  },
  {
   "cell_type": "code",
   "execution_count": 31,
   "metadata": {},
   "outputs": [],
   "source": [
    "def get_value(x,y):\n",
    "    return 1.0"
   ]
  },
  {
   "cell_type": "code",
   "execution_count": 43,
   "metadata": {},
   "outputs": [
    {
     "name": "stdout",
     "output_type": "stream",
     "text": [
      "11.968333959579468\n"
     ]
    }
   ],
   "source": [
    "tic = time()\n",
    "with open('data/processed_data_v11_1.pkl','rb') as f:\n",
    "    node_dict,citation_dict,author_dict = pickle.load(f)\n",
    "toc = time()\n",
    "print(toc-tic)"
   ]
  },
  {
   "cell_type": "code",
   "execution_count": 42,
   "metadata": {},
   "outputs": [
    {
     "data": {
      "text/plain": [
       "1584241841.9177232"
      ]
     },
     "execution_count": 42,
     "metadata": {},
     "output_type": "execute_result"
    }
   ],
   "source": [
    "from time import time\n",
    "time()"
   ]
  },
  {
   "cell_type": "code",
   "execution_count": 44,
   "metadata": {},
   "outputs": [],
   "source": [
    "g = nx.DiGraph()\n",
    "g.add_node('a',attr = 1)\n",
    "g.add_node('b',attr = 2)\n",
    "g.add_edge('a','b',val = 1)"
   ]
  },
  {
   "cell_type": "code",
   "execution_count": 47,
   "metadata": {},
   "outputs": [
    {
     "data": {
      "text/plain": [
       "[('a', {'attr': 1}), ('b', {'attr': 2})]"
      ]
     },
     "execution_count": 47,
     "metadata": {},
     "output_type": "execute_result"
    }
   ],
   "source": [
    "list(dict(g.nodes).items())"
   ]
  },
  {
   "cell_type": "code",
   "execution_count": 49,
   "metadata": {},
   "outputs": [
    {
     "data": {
      "text/plain": [
       "{'val': 1}"
      ]
     },
     "execution_count": 49,
     "metadata": {},
     "output_type": "execute_result"
    }
   ],
   "source": [
    "g.edges[('a','b')]"
   ]
  },
  {
   "cell_type": "code",
   "execution_count": 60,
   "metadata": {},
   "outputs": [
    {
     "data": {
      "text/plain": [
       "[5, 3, 3, 2, 2, 2, 1, 1, 1, 0, 0]"
      ]
     },
     "execution_count": 60,
     "metadata": {},
     "output_type": "execute_result"
    }
   ],
   "source": [
    "a = [3,2,1,0,1,2,3,5,0,1,2]\n",
    "a.sort(reverse = True)\n",
    "a"
   ]
  },
  {
   "cell_type": "code",
   "execution_count": 61,
   "metadata": {},
   "outputs": [],
   "source": [
    "a = filter(lambda x:x>1,a)"
   ]
  },
  {
   "cell_type": "code",
   "execution_count": 62,
   "metadata": {},
   "outputs": [
    {
     "data": {
      "text/plain": [
       "[5, 3, 3, 2, 2, 2]"
      ]
     },
     "execution_count": 62,
     "metadata": {},
     "output_type": "execute_result"
    }
   ],
   "source": [
    "list(a)"
   ]
  },
  {
   "cell_type": "code",
   "execution_count": null,
   "metadata": {},
   "outputs": [],
   "source": []
  }
 ],
 "metadata": {
  "kernelspec": {
   "display_name": "Python 3",
   "language": "python",
   "name": "python3"
  },
  "language_info": {
   "codemirror_mode": {
    "name": "ipython",
    "version": 3
   },
   "file_extension": ".py",
   "mimetype": "text/x-python",
   "name": "python",
   "nbconvert_exporter": "python",
   "pygments_lexer": "ipython3",
   "version": "3.6.6"
  }
 },
 "nbformat": 4,
 "nbformat_minor": 2
}

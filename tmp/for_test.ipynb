{
 "cells": [
  {
   "cell_type": "code",
   "execution_count": 1,
   "metadata": {},
   "outputs": [],
   "source": [
    "import pickle\n",
    "with open('data/processed_data.pkl','rb') as f:\n",
    "    data = pickle.load(f)"
   ]
  },
  {
   "cell_type": "code",
   "execution_count": 2,
   "metadata": {},
   "outputs": [
    {
     "data": {
      "text/plain": [
       "tuple"
      ]
     },
     "execution_count": 2,
     "metadata": {},
     "output_type": "execute_result"
    }
   ],
   "source": [
    "type(data)"
   ]
  },
  {
   "cell_type": "code",
   "execution_count": 8,
   "metadata": {},
   "outputs": [],
   "source": [
    "weight_dict,id2idx = load_baseline()"
   ]
  },
  {
   "cell_type": "code",
   "execution_count": 12,
   "metadata": {},
   "outputs": [
    {
     "ename": "AppRegistryNotReady",
     "evalue": "Apps aren't loaded yet.",
     "output_type": "error",
     "traceback": [
      "\u001b[1;31m---------------------------------------------------------------------------\u001b[0m",
      "\u001b[1;31mAppRegistryNotReady\u001b[0m                       Traceback (most recent call last)",
      "\u001b[1;32m<ipython-input-12-347823fd0edf>\u001b[0m in \u001b[0;36m<module>\u001b[1;34m\u001b[0m\n\u001b[1;32m----> 1\u001b[1;33m \u001b[1;32mfrom\u001b[0m \u001b[0mtemp\u001b[0m\u001b[1;33m.\u001b[0m\u001b[0mmodels\u001b[0m \u001b[1;32mimport\u001b[0m \u001b[1;33m*\u001b[0m\u001b[1;33m\u001b[0m\u001b[1;33m\u001b[0m\u001b[0m\n\u001b[0m",
      "\u001b[1;32mF:\\iSOA_DormLabPlus\\tmp\\temp\\models.py\u001b[0m in \u001b[0;36m<module>\u001b[1;34m\u001b[0m\n\u001b[0;32m      3\u001b[0m \u001b[1;31m# Create your models here.\u001b[0m\u001b[1;33m\u001b[0m\u001b[1;33m\u001b[0m\u001b[1;33m\u001b[0m\u001b[0m\n\u001b[0;32m      4\u001b[0m \u001b[1;33m\u001b[0m\u001b[0m\n\u001b[1;32m----> 5\u001b[1;33m \u001b[1;32mclass\u001b[0m \u001b[0mAuthor\u001b[0m\u001b[1;33m(\u001b[0m\u001b[0mmodels\u001b[0m\u001b[1;33m.\u001b[0m\u001b[0mModel\u001b[0m\u001b[1;33m)\u001b[0m\u001b[1;33m:\u001b[0m\u001b[1;33m\u001b[0m\u001b[1;33m\u001b[0m\u001b[0m\n\u001b[0m\u001b[0;32m      6\u001b[0m     \u001b[0mname\u001b[0m \u001b[1;33m=\u001b[0m \u001b[0mmodels\u001b[0m\u001b[1;33m.\u001b[0m\u001b[0mCharField\u001b[0m\u001b[1;33m(\u001b[0m\u001b[0mmax_length\u001b[0m\u001b[1;33m=\u001b[0m\u001b[1;36m100\u001b[0m\u001b[1;33m)\u001b[0m\u001b[1;33m\u001b[0m\u001b[1;33m\u001b[0m\u001b[0m\n\u001b[0;32m      7\u001b[0m \u001b[1;33m\u001b[0m\u001b[0m\n",
      "\u001b[1;32mc:\\users\\q\\appdata\\local\\programs\\python\\python37\\lib\\site-packages\\django\\db\\models\\base.py\u001b[0m in \u001b[0;36m__new__\u001b[1;34m(cls, name, bases, attrs, **kwargs)\u001b[0m\n\u001b[0;32m    101\u001b[0m \u001b[1;33m\u001b[0m\u001b[0m\n\u001b[0;32m    102\u001b[0m         \u001b[1;31m# Look for an application configuration to attach the model to.\u001b[0m\u001b[1;33m\u001b[0m\u001b[1;33m\u001b[0m\u001b[1;33m\u001b[0m\u001b[0m\n\u001b[1;32m--> 103\u001b[1;33m         \u001b[0mapp_config\u001b[0m \u001b[1;33m=\u001b[0m \u001b[0mapps\u001b[0m\u001b[1;33m.\u001b[0m\u001b[0mget_containing_app_config\u001b[0m\u001b[1;33m(\u001b[0m\u001b[0mmodule\u001b[0m\u001b[1;33m)\u001b[0m\u001b[1;33m\u001b[0m\u001b[1;33m\u001b[0m\u001b[0m\n\u001b[0m\u001b[0;32m    104\u001b[0m \u001b[1;33m\u001b[0m\u001b[0m\n\u001b[0;32m    105\u001b[0m         \u001b[1;32mif\u001b[0m \u001b[0mgetattr\u001b[0m\u001b[1;33m(\u001b[0m\u001b[0mmeta\u001b[0m\u001b[1;33m,\u001b[0m \u001b[1;34m'app_label'\u001b[0m\u001b[1;33m,\u001b[0m \u001b[1;32mNone\u001b[0m\u001b[1;33m)\u001b[0m \u001b[1;32mis\u001b[0m \u001b[1;32mNone\u001b[0m\u001b[1;33m:\u001b[0m\u001b[1;33m\u001b[0m\u001b[1;33m\u001b[0m\u001b[0m\n",
      "\u001b[1;32mc:\\users\\q\\appdata\\local\\programs\\python\\python37\\lib\\site-packages\\django\\apps\\registry.py\u001b[0m in \u001b[0;36mget_containing_app_config\u001b[1;34m(self, object_name)\u001b[0m\n\u001b[0;32m    250\u001b[0m         \u001b[0mReturn\u001b[0m \u001b[1;32mNone\u001b[0m \u001b[1;32mif\u001b[0m \u001b[0mthe\u001b[0m \u001b[0mobject\u001b[0m \u001b[0misn\u001b[0m\u001b[0;31m'\u001b[0m\u001b[0mt\u001b[0m \u001b[1;32min\u001b[0m \u001b[0many\u001b[0m \u001b[0mregistered\u001b[0m \u001b[0mapp\u001b[0m \u001b[0mconfig\u001b[0m\u001b[1;33m.\u001b[0m\u001b[1;33m\u001b[0m\u001b[1;33m\u001b[0m\u001b[0m\n\u001b[0;32m    251\u001b[0m         \"\"\"\n\u001b[1;32m--> 252\u001b[1;33m         \u001b[0mself\u001b[0m\u001b[1;33m.\u001b[0m\u001b[0mcheck_apps_ready\u001b[0m\u001b[1;33m(\u001b[0m\u001b[1;33m)\u001b[0m\u001b[1;33m\u001b[0m\u001b[1;33m\u001b[0m\u001b[0m\n\u001b[0m\u001b[0;32m    253\u001b[0m         \u001b[0mcandidates\u001b[0m \u001b[1;33m=\u001b[0m \u001b[1;33m[\u001b[0m\u001b[1;33m]\u001b[0m\u001b[1;33m\u001b[0m\u001b[1;33m\u001b[0m\u001b[0m\n\u001b[0;32m    254\u001b[0m         \u001b[1;32mfor\u001b[0m \u001b[0mapp_config\u001b[0m \u001b[1;32min\u001b[0m \u001b[0mself\u001b[0m\u001b[1;33m.\u001b[0m\u001b[0mapp_configs\u001b[0m\u001b[1;33m.\u001b[0m\u001b[0mvalues\u001b[0m\u001b[1;33m(\u001b[0m\u001b[1;33m)\u001b[0m\u001b[1;33m:\u001b[0m\u001b[1;33m\u001b[0m\u001b[1;33m\u001b[0m\u001b[0m\n",
      "\u001b[1;32mc:\\users\\q\\appdata\\local\\programs\\python\\python37\\lib\\site-packages\\django\\apps\\registry.py\u001b[0m in \u001b[0;36mcheck_apps_ready\u001b[1;34m(self)\u001b[0m\n\u001b[0;32m    133\u001b[0m             \u001b[1;31m# exception.\u001b[0m\u001b[1;33m\u001b[0m\u001b[1;33m\u001b[0m\u001b[1;33m\u001b[0m\u001b[0m\n\u001b[0;32m    134\u001b[0m             \u001b[0msettings\u001b[0m\u001b[1;33m.\u001b[0m\u001b[0mINSTALLED_APPS\u001b[0m\u001b[1;33m\u001b[0m\u001b[1;33m\u001b[0m\u001b[0m\n\u001b[1;32m--> 135\u001b[1;33m             \u001b[1;32mraise\u001b[0m \u001b[0mAppRegistryNotReady\u001b[0m\u001b[1;33m(\u001b[0m\u001b[1;34m\"Apps aren't loaded yet.\"\u001b[0m\u001b[1;33m)\u001b[0m\u001b[1;33m\u001b[0m\u001b[1;33m\u001b[0m\u001b[0m\n\u001b[0m\u001b[0;32m    136\u001b[0m \u001b[1;33m\u001b[0m\u001b[0m\n\u001b[0;32m    137\u001b[0m     \u001b[1;32mdef\u001b[0m \u001b[0mcheck_models_ready\u001b[0m\u001b[1;33m(\u001b[0m\u001b[0mself\u001b[0m\u001b[1;33m)\u001b[0m\u001b[1;33m:\u001b[0m\u001b[1;33m\u001b[0m\u001b[1;33m\u001b[0m\u001b[0m\n",
      "\u001b[1;31mAppRegistryNotReady\u001b[0m: Apps aren't loaded yet."
     ]
    }
   ],
   "source": [
    "from temp.models import *"
   ]
  },
  {
   "cell_type": "code",
   "execution_count": 7,
   "metadata": {},
   "outputs": [],
   "source": [
    "import json"
   ]
  },
  {
   "cell_type": "code",
   "execution_count": 10,
   "metadata": {},
   "outputs": [],
   "source": [
    "from django.conf import settings\n",
    "\n",
    "settings.configure()"
   ]
  },
  {
   "cell_type": "code",
   "execution_count": 5,
   "metadata": {},
   "outputs": [],
   "source": [
    "def load_baseline():\n",
    "    with open('data/edge_query_dict.json', 'r') as f:\n",
    "        edge_query_dict = json.load(f)\n",
    "    with open('data/id2idx.json', 'r') as f:\n",
    "        id2idx = json.load(f)\n",
    "    return edge_query_dict, id2idx\n",
    "\n",
    "def query_weight(id_i, id_j, weight: dict, id2idx: dict) -> list:\n",
    "    idx_i, idx_j = id2idx[id_i], id2idx[id_j]\n",
    "    key = str(idx_i) + '_' + str(idx_j)\n",
    "    queried_results = weight[key]\n",
    "    return queried_results\n",
    "\n",
    "def sigmoid(x):\n",
    "    return 1 / (1 + math.exp(-x))\n",
    "\n",
    "\n",
    "def compute_score(cross_feature, n_citation):\n",
    "    impact = sigmoid(n_citation / 10)\n",
    "    score = cross_feature * impact\n",
    "    return score\n",
    "\n",
    "def get_value(id_i,id_j):\n",
    "    try:\n",
    "        ans = query_weight(id_i,id_j,weight_dict,id2idx)\n",
    "        ans[2] = compute_score(ans[0],ans[1])\n",
    "        return tuple(ans)\n",
    "    except:\n",
    "        ans = [0,node_dict[id_j]['citation'],0]\n",
    "        ans[2] = compute_score(ans[0],ans[1])\n",
    "        return tuple(ans)\n",
    "    \n",
    "def gen_graph(index):\n",
    "    index = str(index)\n",
    "    g = nx.DiGraph()\n",
    "    root_name = node_dict[index]['title']\n",
    "    g.add_node(index,label = root_name,showValue = 1.5,relevance = 1.0, impact = node_dict[index]['citation'], score = 1.0,modularity_class = 'self')\n",
    "    nb_list = []\n",
    "    co_list = []\n",
    "    nb_set = set()\n",
    "    nb_set.add(index)\n",
    "    for nd in node_dict[index]['references']:\n",
    "        nb_list.append((nd,get_value(index,nd),'references'))\n",
    "        nb_set.add(nd)\n",
    "    for nd in citation_dict.get(index,[]):\n",
    "        nb_list.append((nd,get_value(index,nd),'cited'))\n",
    "        nb_set.add(nd)\n",
    "    for aut in node_dict[index]['authors']:\n",
    "        for nd in author_dict[aut]:\n",
    "            if nd not in nb_set:\n",
    "                co_list.append((nd,get_value(index,nd),'co-author'))\n",
    "                nb_set.add(nd)\n",
    "    nb_list.sort(key = lambda x:x[1][2],reverse = True)\n",
    "    nb_list = list(filter(lambda x:x[1][2]>0.0,nb_list))[:10]\n",
    "    co_list.sort(key = lambda x:x[1][2],reverse = True)\n",
    "    co_list = list(filter(lambda x:x[1][2]>0.0,co_list))[:15-len(nb_list)]\n",
    "    if len(nb_list) > 0:\n",
    "        val_max = nb_list[0][1][2]\n",
    "        for nd,val,clas in nb_list:\n",
    "            showValue,relevance,impact,score = 0.5*val[2]/val_max+0.7,val[0],val[1],val[2]\n",
    "            g.add_node(nd,label = node_dict[nd]['title'],showValue = showValue,relevance = relevance, impact = impact, score = score, modularity_class = clas)\n",
    "            g.add_edge(nd,index,weight = showValue)\n",
    "    if len(co_list) > 0:\n",
    "        val_max = co_list[0][1][2]\n",
    "        for nd,val,clas in co_list:\n",
    "            showValue,relevance,impact,score = 0.4*val[2]/val_max+0.3,val[0],val[1],val[2]\n",
    "            g.add_node(nd,label = node_dict[nd]['title'],showValue = showValue,relevance = relevance, impact = impact, score = score, modularity_class = clas)\n",
    "            g.add_edge(nd,index,weight = showValue)\n",
    "    return g"
   ]
  },
  {
   "cell_type": "code",
   "execution_count": 2,
   "metadata": {},
   "outputs": [],
   "source": [
    "node_dict,citation_dict,author_dict,kw_dic,title_dic = data"
   ]
  },
  {
   "cell_type": "code",
   "execution_count": 25,
   "metadata": {},
   "outputs": [
    {
     "data": {
      "text/plain": [
       "5465652"
      ]
     },
     "execution_count": 25,
     "metadata": {},
     "output_type": "execute_result"
    }
   ],
   "source": [
    "sum([len(_) for _ in kw_dic.values()])"
   ]
  },
  {
   "cell_type": "code",
   "execution_count": 26,
   "metadata": {},
   "outputs": [
    {
     "data": {
      "text/plain": [
       "55241"
      ]
     },
     "execution_count": 26,
     "metadata": {},
     "output_type": "execute_result"
    }
   ],
   "source": [
    "len(kw_dic['data mining'])"
   ]
  },
  {
   "cell_type": "code",
   "execution_count": 4,
   "metadata": {},
   "outputs": [],
   "source": [
    "with open('data/keywords.pkl','wb') as f:\n",
    "    pickle.dump((kw_dic,title_dic),f)"
   ]
  },
  {
   "cell_type": "code",
   "execution_count": 3,
   "metadata": {},
   "outputs": [
    {
     "data": {
      "text/plain": [
       "58815"
      ]
     },
     "execution_count": 3,
     "metadata": {},
     "output_type": "execute_result"
    }
   ],
   "source": [
    "len(kw_dic)"
   ]
  },
  {
   "cell_type": "code",
   "execution_count": 4,
   "metadata": {},
   "outputs": [
    {
     "data": {
      "text/plain": [
       "'100001334'"
      ]
     },
     "execution_count": 4,
     "metadata": {},
     "output_type": "execute_result"
    }
   ],
   "source": [
    "list(node_dict.keys())[0]"
   ]
  },
  {
   "cell_type": "code",
   "execution_count": 20,
   "metadata": {},
   "outputs": [
    {
     "data": {
      "text/plain": [
       "604712"
      ]
     },
     "execution_count": 20,
     "metadata": {},
     "output_type": "execute_result"
    }
   ],
   "source": [
    "len(author_dict)"
   ]
  },
  {
   "cell_type": "code",
   "execution_count": 21,
   "metadata": {},
   "outputs": [],
   "source": [
    "from tqdm import tqdm"
   ]
  },
  {
   "cell_type": "code",
   "execution_count": 22,
   "metadata": {},
   "outputs": [
    {
     "name": "stderr",
     "output_type": "stream",
     "text": [
      "100%|███████████████████████████████████████████████████████████████████████████████| 10/10 [00:00<00:00, 55115.69it/s]\n"
     ]
    }
   ],
   "source": [
    "a = [x for x in tqdm(range(10))]"
   ]
  },
  {
   "cell_type": "code",
   "execution_count": 5,
   "metadata": {},
   "outputs": [
    {
     "data": {
      "text/plain": [
       "{'title': 'Ontologies in HYDRA - Middleware for Ambient Intelligent Devices.',\n",
       " 'authors': ['Peter Kostelnik', 'Martin Sarnovsky', 'Jan Hreno'],\n",
       " 'venue': 'AMIF',\n",
       " 'year': 2009,\n",
       " 'citation': 2,\n",
       " 'keywords': ['Middleware',\n",
       "  'Ambient intelligence',\n",
       "  'Ontology (information science)',\n",
       "  'Database',\n",
       "  'Lernaean Hydra'],\n",
       " 'abstract': '',\n",
       " 'references': []}"
      ]
     },
     "execution_count": 5,
     "metadata": {},
     "output_type": "execute_result"
    }
   ],
   "source": [
    "node_dict['100001334']"
   ]
  },
  {
   "cell_type": "code",
   "execution_count": 14,
   "metadata": {},
   "outputs": [],
   "source": [
    "from tqdm import tqdm"
   ]
  },
  {
   "cell_type": "code",
   "execution_count": 14,
   "metadata": {},
   "outputs": [],
   "source": [
    "import networkx as nx"
   ]
  },
  {
   "cell_type": "code",
   "execution_count": 16,
   "metadata": {},
   "outputs": [],
   "source": [
    "import math"
   ]
  },
  {
   "cell_type": "code",
   "execution_count": 17,
   "metadata": {},
   "outputs": [],
   "source": [
    "g = gen_graph('100001334')"
   ]
  },
  {
   "cell_type": "code",
   "execution_count": 18,
   "metadata": {},
   "outputs": [
    {
     "data": {
      "text/plain": [
       "NodeView(('100001334', '1443096424'))"
      ]
     },
     "execution_count": 18,
     "metadata": {},
     "output_type": "execute_result"
    }
   ],
   "source": [
    "g.nodes"
   ]
  },
  {
   "cell_type": "code",
   "execution_count": 19,
   "metadata": {},
   "outputs": [
    {
     "data": {
      "text/plain": [
       "{'label': 'Evaluating Energy Profiles as Resource of Context and as Added Value in Integrated and Pervasive Socio-Medical Technologies using LinkSmart Middleware',\n",
       " 'showValue': 1.2,\n",
       " 'relevance': 0.329912438089707,\n",
       " 'impact': 1,\n",
       " 'score': 0.17319716368753046,\n",
       " 'modularity_class': 'cited'}"
      ]
     },
     "execution_count": 19,
     "metadata": {},
     "output_type": "execute_result"
    }
   ],
   "source": [
    "g.nodes['1443096424']"
   ]
  },
  {
   "cell_type": "code",
   "execution_count": 28,
   "metadata": {},
   "outputs": [
    {
     "data": {
      "text/plain": [
       "1879660786"
      ]
     },
     "execution_count": 28,
     "metadata": {},
     "output_type": "execute_result"
    }
   ],
   "source": [
    "max([int(x) for x in node_dict.keys()])"
   ]
  },
  {
   "cell_type": "code",
   "execution_count": 26,
   "metadata": {},
   "outputs": [
    {
     "data": {
      "text/plain": [
       "236"
      ]
     },
     "execution_count": 26,
     "metadata": {},
     "output_type": "execute_result"
    }
   ],
   "source": [
    "max([len(';'.join(x['keywords'][:5])) for x in node_dict.values()])"
   ]
  },
  {
   "cell_type": "code",
   "execution_count": 2,
   "metadata": {},
   "outputs": [],
   "source": [
    "import pickle\n",
    "author_dict = pickle.load(open('data/citationv1_author.pkl','rb'))\n",
    "node_dict = pickle.load(open('data/citationv1.pkl','rb'))"
   ]
  },
  {
   "cell_type": "code",
   "execution_count": 7,
   "metadata": {},
   "outputs": [],
   "source": [
    "import networkx as nx"
   ]
  },
  {
   "cell_type": "code",
   "execution_count": 3,
   "metadata": {},
   "outputs": [
    {
     "data": {
      "text/plain": [
       "{'title': 'Automated Deduction in Geometry: 5th International Workshop, ADG 2004, Gainesville, FL, USA, September 16-18, 2004, Revised Papers (Lecture Notes in Computer ... / Lecture Notes in Artificial Intelligence)',\n",
       " 'authers': ['Hoon Hong', 'Dongming Wang'],\n",
       " 'year': 2006,\n",
       " 'venue': '',\n",
       " 'index': 0,\n",
       " 'references': [],\n",
       " 'abstract': '',\n",
       " 'cited': []}"
      ]
     },
     "execution_count": 3,
     "metadata": {},
     "output_type": "execute_result"
    }
   ],
   "source": [
    "node_dict[0]"
   ]
  },
  {
   "cell_type": "code",
   "execution_count": null,
   "metadata": {},
   "outputs": [],
   "source": []
  },
  {
   "cell_type": "code",
   "execution_count": 9,
   "metadata": {},
   "outputs": [],
   "source": [
    "def gen_graph(index):\n",
    "    g = nx.DiGraph()\n",
    "    root_name = node_dict[index]['title']\n",
    "    g.add_node(index,label = root_name,modularity_class = 'self')\n",
    "    for nd in node_dict[index]['references']:\n",
    "        g.add_node(nd,label = node_dict[nd]['title'],modularity_class = 'references')\n",
    "        g.add_edge(nd,index)\n",
    "    for nd in node_dict[index]['cited']:\n",
    "        g.add_node(nd,label = node_dict[nd]['title'],modularity_class = 'cited')\n",
    "        g.add_edge(index,nd)\n",
    "    for aut in node_dict[index]['authers']:\n",
    "        for nd in author_dict[aut]:\n",
    "            if nd not in g.nodes:\n",
    "                g.add_node(nd,label = node_dict[nd]['title'],modularity_class = 'co-author')\n",
    "                g.add_edge(index,nd)\n",
    "    return g"
   ]
  },
  {
   "cell_type": "code",
   "execution_count": 10,
   "metadata": {},
   "outputs": [],
   "source": [
    "g = gen_graph(436405)"
   ]
  },
  {
   "cell_type": "code",
   "execution_count": 13,
   "metadata": {},
   "outputs": [
    {
     "name": "stdout",
     "output_type": "stream",
     "text": [
      "{'label': 'Information geometry of U-Boost and Bregman divergence', 'modularity_class': 'self'}\n",
      "{'label': 'A decision-theoretic generalization of on-line learning and an application to boosting', 'modularity_class': 'references'}\n",
      "{'label': 'Boosting as entropy projection', 'modularity_class': 'references'}\n",
      "{'label': 'Information geometry of the EM and em algorithms for neural networks', 'modularity_class': 'references'}\n",
      "{'label': 'Neural Networks for Pattern Recognition', 'modularity_class': 'references'}\n",
      "{'label': 'Logistic Regression, AdaBoost and Bregman Distances', 'modularity_class': 'references'}\n",
      "{'label': 'MadaBoost: A Modification of AdaBoost', 'modularity_class': 'references'}\n",
      "{'label': 'Boosting a weak learning algorithm by majority', 'modularity_class': 'references'}\n",
      "{'label': 'The Strength of Weak Learnability', 'modularity_class': 'references'}\n",
      "{'label': 'The nature of statistical learning theory', 'modularity_class': 'references'}\n",
      "{'label': 'Interpreting Kullback-Leibler divergence with the Neyman-Pearson lemma', 'modularity_class': 'cited'}\n",
      "{'label': 'Robust boosting algorithm against mislabeling in multiclass problems', 'modularity_class': 'cited'}\n",
      "{'label': 'Multiclass Boosting Algorithms for Shrinkage Estimators of Class Probability', 'modularity_class': 'cited'}\n",
      "{'label': 'Tutorial series on brain-inspired computing: part 6: geometrical structure of boosting algorithm', 'modularity_class': 'cited'}\n",
      "{'label': 'Robust parameter estimation with a small bias against heavy contamination', 'modularity_class': 'cited'}\n",
      "{'label': 'Robust Loss Functions for Boosting', 'modularity_class': 'cited'}\n",
      "{'label': 'An Information Theoretic Perspective of the Sparse Coding', 'modularity_class': 'co-author'}\n",
      "{'label': 'Support vector machines with different norms: motivation, formulations and results', 'modularity_class': 'co-author'}\n",
      "{'label': 'A statistical study of on-line learning', 'modularity_class': 'co-author'}\n",
      "{'label': 'On-line learning in switching and drifting environments with application to blind source separation', 'modularity_class': 'co-author'}\n",
      "{'label': 'Learning Curves, Model Selection and Complexity of Neural Networks', 'modularity_class': 'co-author'}\n",
      "{'label': 'Calibration of Radially Symmetric Distortion by Fitting Principal Component', 'modularity_class': 'co-author'}\n",
      "{'label': 'Bayesian Collaborative Predictors for General User Modeling Tasks', 'modularity_class': 'co-author'}\n",
      "{'label': 'GroupAdaBoost for Selecting Important Genes', 'modularity_class': 'co-author'}\n",
      "{'label': 'Inlier-Based Outlier Detection via Direct Density Ratio Estimation', 'modularity_class': 'co-author'}\n",
      "{'label': 'Nonparametric conditional density estimation using piecewise-linear solution path of kernel quantile regression', 'modularity_class': 'co-author'}\n",
      "{'label': 'Pool-based active learning with optimal sampling distribution and its information geometrical interpretation', 'modularity_class': 'co-author'}\n",
      "{'label': 'A New Sequential Algorithm for Regression Problems by Using Mixture Distribution', 'modularity_class': 'co-author'}\n",
      "{'label': 'Image classification based on Markov random field models with Jeffreys divergence', 'modularity_class': 'co-author'}\n",
      "{'label': 'Robust Principal Component Analysis with Adaptive Selection for Tuning Parameters', 'modularity_class': 'co-author'}\n"
     ]
    }
   ],
   "source": [
    "for node in g.nodes:\n",
    "    print(g.nodes[node])"
   ]
  },
  {
   "cell_type": "code",
   "execution_count": 14,
   "metadata": {},
   "outputs": [
    {
     "data": {
      "text/plain": [
       "'1'"
      ]
     },
     "execution_count": 14,
     "metadata": {},
     "output_type": "execute_result"
    }
   ],
   "source": [
    "a = '1'\n",
    "str(a)"
   ]
  },
  {
   "cell_type": "code",
   "execution_count": 15,
   "metadata": {},
   "outputs": [
    {
     "name": "stdout",
     "output_type": "stream",
     "text": [
      "\"1\"\n"
     ]
    }
   ],
   "source": [
    "a = '\"1\"'\n",
    "print(a)"
   ]
  },
  {
   "cell_type": "code",
   "execution_count": 1,
   "metadata": {},
   "outputs": [],
   "source": [
    "import pickle\n",
    "from rake_nltk import Rake"
   ]
  },
  {
   "cell_type": "code",
   "execution_count": 3,
   "metadata": {},
   "outputs": [],
   "source": [
    "r = Rake()\n",
    "nodes = pickle.load(open('data/citationv1.pkl','rb'))"
   ]
  },
  {
   "cell_type": "code",
   "execution_count": 9,
   "metadata": {},
   "outputs": [
    {
     "data": {
      "text/plain": [
       "{'title': 'Performance engineering in industry: current practices and adoption challenges',\n",
       " 'authers': ['Ahmed E. Hassan', 'Parminder Flora'],\n",
       " 'year': 2007,\n",
       " 'venue': 'Proceedings of the 6th international workshop on Software and performance',\n",
       " 'index': 2,\n",
       " 'references': [],\n",
       " 'abstract': 'This panel session discusses performance engineering practices in industry. Presentations in the session will explore the use of lightweight techniques and approaches in order to permit the cost effective and rapid adoption of performance modeling research by large industrial software systems.',\n",
       " 'cited': []}"
      ]
     },
     "execution_count": 9,
     "metadata": {},
     "output_type": "execute_result"
    }
   ],
   "source": [
    "nodes[2]"
   ]
  },
  {
   "cell_type": "code",
   "execution_count": 10,
   "metadata": {},
   "outputs": [
    {
     "data": {
      "text/plain": [
       "[(32.0, 'panel session discusses performance engineering practices'),\n",
       " (16.0, 'large industrial software systems'),\n",
       " (10.5, 'performance modeling research'),\n",
       " (4.0, 'rapid adoption'),\n",
       " (4.0, 'lightweight techniques'),\n",
       " (4.0, 'cost effective'),\n",
       " (3.5, 'session'),\n",
       " (1.0, 'use'),\n",
       " (1.0, 'presentations'),\n",
       " (1.0, 'permit'),\n",
       " (1.0, 'order'),\n",
       " (1.0, 'industry'),\n",
       " (1.0, 'explore'),\n",
       " (1.0, 'approaches')]"
      ]
     },
     "execution_count": 10,
     "metadata": {},
     "output_type": "execute_result"
    }
   ],
   "source": [
    "r.extract_keywords_from_text(nodes[2]['abstract'])\n",
    "r.get_ranked_phrases_with_scores()"
   ]
  },
  {
   "cell_type": "code",
   "execution_count": 11,
   "metadata": {},
   "outputs": [],
   "source": [
    "import json"
   ]
  },
  {
   "cell_type": "code",
   "execution_count": 14,
   "metadata": {},
   "outputs": [],
   "source": [
    "a\n",
    "    nodes = f.readlines()"
   ]
  },
  {
   "cell_type": "code",
   "execution_count": 15,
   "metadata": {},
   "outputs": [
    {
     "data": {
      "text/plain": [
       "'{\"id\": \"100001334\", \"title\": \"Ontologies in HYDRA - Middleware for Ambient Intelligent Devices.\", \"authors\": [{\"name\": \"Peter Kostelnik\", \"id\": \"2702511795\"}, {\"name\": \"Martin Sarnovsky\", \"id\": \"2041014688\"}, {\"name\": \"Jan Hreno\", \"id\": \"2398560122\"}], \"venue\": {\"raw\": \"AMIF\"}, \"year\": 2009, \"n_citation\": 2, \"page_start\": \"43\", \"page_end\": \"46\", \"doc_type\": \"\", \"publisher\": \"\", \"volume\": \"\", \"issue\": \"\", \"fos\": [{\"name\": \"Lernaean Hydra\", \"w\": 0.4178039}, {\"name\": \"Database\", \"w\": 0.4269269}, {\"name\": \"World Wide Web\", \"w\": 0.415332377}, {\"name\": \"Ontology (information science)\", \"w\": 0.459045082}, {\"name\": \"Computer science\", \"w\": 0.399807781}, {\"name\": \"Middleware\", \"w\": 0.5905041}, {\"name\": \"Ambient intelligence\", \"w\": 0.5440575}], \"references\": []}\\n'"
      ]
     },
     "execution_count": 15,
     "metadata": {},
     "output_type": "execute_result"
    }
   ],
   "source": [
    "nodes[0]"
   ]
  },
  {
   "cell_type": "code",
   "execution_count": 67,
   "metadata": {},
   "outputs": [
    {
     "name": "stdout",
     "output_type": "stream",
     "text": [
      "136064334\n"
     ]
    }
   ],
   "source": [
    "for aut in nds['136064334']['authors']:\n",
    "    for nd in author_dict[aut]:\n",
    "        print(nd)"
   ]
  },
  {
   "cell_type": "code",
   "execution_count": 66,
   "metadata": {},
   "outputs": [
    {
     "data": {
      "text/plain": [
       "{'title': 'Some comments on human archival memory as a very large data base',\n",
       " 'authors': ['R. S. Nickerson'],\n",
       " 'venue': 'very large data bases',\n",
       " 'year': 1977,\n",
       " 'citation': 2,\n",
       " 'keywords': ['Data',\n",
       "  'Information retrieval',\n",
       "  'Data mining',\n",
       "  'Database',\n",
       "  'Computer science'],\n",
       " 'abstract': 'Human archival memory is discussed as a very large data base. Attention is focused primarily on the questions: What is stored? and How is what is stored retrieved and used? The relevance of the study of human memory to the design of computer data bases is considered.',\n",
       " 'references': []}"
      ]
     },
     "execution_count": 66,
     "metadata": {},
     "output_type": "execute_result"
    }
   ],
   "source": [
    "nds['136064334']"
   ]
  },
  {
   "cell_type": "code",
   "execution_count": 56,
   "metadata": {},
   "outputs": [
    {
     "data": {
      "text/plain": [
       "{'title': 'Ontologies in HYDRA - Middleware for Ambient Intelligent Devices.',\n",
       " 'authors': ['Peter Kostelnik', 'Martin Sarnovsky', 'Jan Hreno'],\n",
       " 'venue': 'AMIF',\n",
       " 'year': 2009,\n",
       " 'citation': 2,\n",
       " 'keywords': ['Middleware',\n",
       "  'Ambient intelligence',\n",
       "  'Ontology (information science)',\n",
       "  'Database',\n",
       "  'Lernaean Hydra'],\n",
       " 'abstract': '',\n",
       " 'references': []}"
      ]
     },
     "execution_count": 56,
     "metadata": {},
     "output_type": "execute_result"
    }
   ],
   "source": [
    "nds['100001334']"
   ]
  },
  {
   "cell_type": "code",
   "execution_count": 16,
   "metadata": {},
   "outputs": [
    {
     "data": {
      "text/plain": [
       "'{\"id\": \"1000018889\", \"title\": \"Remote Policy Enforcement for Trusted Application Execution in Mobile Environments\", \"authors\": [{\"name\": \"Fabio Martinelli\", \"id\": \"2107438709\", \"org\": \"Istituto di Informatica e Telematica, Consiglio Nazionale delle Ricerche, Pisa, Italy#TAB#\"}, {\"name\": \"Ilaria Matteucci\", \"id\": \"2311169168\", \"org\": \"Istituto di Informatica e Telematica, Consiglio Nazionale delle Ricerche, Pisa, Italy#TAB#\"}, {\"name\": \"Andrea Saracino\", \"id\": \"2140477378\", \"org\": \"Dipartimento di Ingegneria dell\\'Informazione, Universit di Pisa, Pisa, Italy and Istituto di Informatica e Telematica, Consiglio Nazionale delle Ricerche, Pisa, Italy#TAB#\"}, {\"name\": \"Daniele Sgandurra\", \"id\": \"252575161\", \"org\": \"Istituto di Informatica e Telematica, Consiglio Nazionale delle Ricerche, Pisa, Italy#TAB#\"}], \"venue\": {\"raw\": \"international conference on trusted systems\", \"id\": \"2760518661\"}, \"year\": 2013, \"n_citation\": 2, \"page_start\": \"70\", \"page_end\": \"84\", \"doc_type\": \"Conference\", \"publisher\": \"Springer, Cham\", \"volume\": \"\", \"issue\": \"\", \"doi\": \"10.1007/978-3-319-03491-1_5\", \"references\": [\"1504669610\", \"1542792105\", \"1639158619\"], \"indexed_abstract\": {\"IndexLength\": 173, \"InvertedIndex\": {\"Both\": [0], \"in\": [1, 64], \"the\": [2, 43, 70, 93, 101, 110, 118, 124, 129, 133, 136, 140, 142, 151, 166], \"cloud\": [3], \"and\": [4, 18, 24, 77, 126, 138, 156, 171], \"mobile\": [5], \"environments,\": [6], \"a\": [7, 36, 83, 157], \"large\": [8], \"number\": [9], \"of\": [10, 51, 95, 128, 135, 139], \"online\": [11], \"services\": [12], \"is\": [13, 114, 168], \"daily\": [14], \"accessed\": [15], \"through\": [16], \"smartphones\": [17, 163], \"tablets.\": [19], \"Since\": [20], \"several\": [21], \"security,\": [22], \"safety\": [23], \"trust\": [25], \"concerns\": [26], \"may\": [27, 34], \"arise\": [28], \"when\": [29, 68], \"using\": [30, 69], \"these\": [31, 47], \"services,\": [32], \"providers\": [33, 56, 88], \"require\": [35], \"usage\": [37], \"policy\": [38, 52, 120], \"to\": [39, 57, 74, 89, 121, 148], \"be\": [40], \"enforced\": [41], \"on\": [42, 100], \"devices\": [44, 62], \"while\": [45], \"accessing\": [46], \"services.\": [48], \"This\": [49], \"kind\": [50], \"enforcements\": [53], \"enables\": [54], \"service\": [55, 87], \"have\": [58, 90], \"assurance\": [59, 91], \"that\": [60, 165], \"remote\": [61], \"are\": [63], \"an\": [65, 107], \"acceptable\": [66], \"state\": [67], \"provided\": [71], \"service,\": [72], \"according\": [73], \"their\": [75], \"terms\": [76, 125], \"conditions.\\\\r\\\\n\\\\r\\\\nIn\": [78], \"this\": [79], \"paper,\": [80], \"we\": [81], \"propose\": [82], \"framework\": [84, 105, 143], \"which\": [85, 113], \"allows\": [86], \"about\": [92], \"enforcement\": [94], \"some\": [96], \"functional\": [97], \"policies\": [98], \"directly\": [99], \"device.\": [102], \"The\": [103], \"proposed\": [104], \"inserts\": [106], \"enforcer\": [108, 137], \"into\": [109], \"client\\'s\": [111], \"device,\": [112], \"responsible\": [115], \"for\": [116, 161], \"enforcing\": [117], \"provider\\'s\": [119], \"abide\": [122], \"by\": [123], \"conditions\": [127], \"service.\": [130], \"To\": [131], \"assure\": [132], \"integrity\": [134], \"policy,\": [141], \"exploits\": [144], \"Trusted\": [145], \"Computing\": [146], \"techniques\": [147], \"remotely\": [149], \"attest\": [150], \"enforcer\\'s\": [152], \"measurements.\": [153], \"Preliminary\": [154], \"experiments\": [155], \"first\": [158], \"prototype\": [159], \"implementation\": [160], \"Android-based\": [162], \"suggest\": [164], \"approach\": [167], \"both\": [169], \"viable\": [170], \"effective.\": [172]}}, \"fos\": [{\"name\": \"Trusted Computing\", \"w\": 0.6314859}, {\"name\": \"Exploit\", \"w\": 0.454504043}, {\"name\": \"Mobile device\", \"w\": 0.527162254}, {\"name\": \"Computer security\", \"w\": 0.4636836}, {\"name\": \"Android (operating system)\", \"w\": 0.4973744}, {\"name\": \"Service provider\", \"w\": 0.613621056}, {\"name\": \"Enforcement\", \"w\": 0.486138523}, {\"name\": \"Trusted Platform Module\", \"w\": 0.5545424}, {\"name\": \"Cloud computing\", \"w\": 0.5464316}, {\"name\": \"Business\", \"w\": 0.410246879}]}\\n'"
      ]
     },
     "execution_count": 16,
     "metadata": {},
     "output_type": "execute_result"
    }
   ],
   "source": [
    "nodes[1]"
   ]
  },
  {
   "cell_type": "code",
   "execution_count": 58,
   "metadata": {},
   "outputs": [
    {
     "data": {
      "text/plain": [
       "['1000018889', '1597048264', '175930347']"
      ]
     },
     "execution_count": 58,
     "metadata": {},
     "output_type": "execute_result"
    }
   ],
   "source": [
    "author_dict['Andrea Saracino']"
   ]
  },
  {
   "cell_type": "code",
   "execution_count": 61,
   "metadata": {},
   "outputs": [
    {
     "data": {
      "text/plain": [
       "[('100014528', 0.451454639),\n",
       " ('1000228583', 0.456178755),\n",
       " ('1000250121', 0.456649959),\n",
       " ('100028214', 0.458733618),\n",
       " ('1000328014', 0.4454233),\n",
       " ('100034732', 0.454395),\n",
       " ('100036502', 0.473031968),\n",
       " ('100040114', 0.454733878),\n",
       " ('100040545', 0.418463737),\n",
       " ('100041910', 0.45997867),\n",
       " ('10004740', 0.4620256),\n",
       " ('100055053', 0.423765659),\n",
       " ('100059100', 0.446314067),\n",
       " ('100059397', 0.473002732),\n",
       " ('100069005', 0.454070926),\n",
       " ('1000699894', 0.4648623),\n",
       " ('1000727832', 0.458965272),\n",
       " ('100077324', 0.464521676),\n",
       " ('100082076', 0.455378741),\n",
       " ('100088125', 0.452119917),\n",
       " ('1000902583', 0.4145464),\n",
       " ('1000946100', 0.445888668),\n",
       " ('1000950318', 0.449208975),\n",
       " ('10012888', 0.453852355),\n",
       " ('10013091', 0.435298949),\n",
       " ('100133193', 0.456425369),\n",
       " ('100133723', 0.4660011),\n",
       " ('100138144', 0.450856328),\n",
       " ('1001387650', 0.4186962),\n",
       " ('100144571', 0.442406446),\n",
       " ('10014481', 0.4570644),\n",
       " ('1001528088', 0.4378227),\n",
       " ('100161002', 0.4317576),\n",
       " ('100172483', 0.447235167),\n",
       " ('100184113', 0.423039317),\n",
       " ('100195478', 0.429757565),\n",
       " ('1002015759', 0.453456),\n",
       " ('1002055276', 0.4367609),\n",
       " ('100211916', 0.4675789),\n",
       " ('100226699', 0.472649),\n",
       " ('100235795', 0.466878861),\n",
       " ('100239005', 0.455359519),\n",
       " ('100239594', 0.363478839),\n",
       " ('100248161', 0.467034221),\n",
       " ('1002543468', 0.462029845),\n",
       " ('1002544205', 0.458227634),\n",
       " ('100262307', 0.444579929),\n",
       " ('100264977', 0.467073232),\n",
       " ('1002735560', 0.395960569),\n",
       " ('10027688', 0.465404034),\n",
       " ('100283742', 0.4664947),\n",
       " ('1002938726', 0.4045042),\n",
       " ('100294479', 0.456998616),\n",
       " ('1003001081', 0.45842728),\n",
       " ('1003073390', 0.446740538),\n",
       " ('100310820', 0.459856033),\n",
       " ('10031117', 0.445033342),\n",
       " ('100318991', 0.445738047),\n",
       " ('1003202300', 0.465810478),\n",
       " ('100322211', 0.455763221),\n",
       " ('1003236940', 0.460531056),\n",
       " ('1003264877', 0.4341415),\n",
       " ('1003315906', 0.426999718),\n",
       " ('100337150', 0.433888316),\n",
       " ('10035428', 0.3866889),\n",
       " ('100363509', 0.462795168),\n",
       " ('100370533', 0.437654316),\n",
       " ('100372560', 0.450942),\n",
       " ('1003794197', 0.4152851),\n",
       " ('1003971826', 0.448471),\n",
       " ('1004023663', 0.4539882),\n",
       " ('100410489', 0.459574163),\n",
       " ('100410649', 0.463217258),\n",
       " ('100416466', 0.4627168),\n",
       " ('1004203976', 0.435664833),\n",
       " ('100424709', 0.4602525),\n",
       " ('100426646', 0.4125811),\n",
       " ('1004373468', 0.453004628),\n",
       " ('1004439037', 0.437788874),\n",
       " ('100446717', 0.4305268),\n",
       " ('100447398', 0.42516315),\n",
       " ('100452635', 0.4516032),\n",
       " ('1004570191', 0.40515),\n",
       " ('100458933', 0.4518996),\n",
       " ('100463548', 0.432208955),\n",
       " ('1004721597', 0.456535727),\n",
       " ('100475831', 0.4566513),\n",
       " ('100492241', 0.4606518),\n",
       " ('10050506', 0.469046354),\n",
       " ('1005075013', 0.466109872),\n",
       " ('100520957', 0.4616653),\n",
       " ('100531021', 0.434091479),\n",
       " ('1005320166', 0.451620251),\n",
       " ('10053936', 0.333583862),\n",
       " ('100540539', 0.4617868),\n",
       " ('1005454186', 0.4421876),\n",
       " ('100545985', 0.4483136),\n",
       " ('100546188', 0.465017051),\n",
       " ('100553218', 0.386236727),\n",
       " ('1005552352', 0.455298841),\n",
       " ('100560853', 0.428542048),\n",
       " ('100562373', 0.4411458),\n",
       " ('10056292', 0.44466728),\n",
       " ('100570859', 0.470073819),\n",
       " ('100577924', 0.4387559),\n",
       " ('1005820516', 0.418454945),\n",
       " ('100588783', 0.441978),\n",
       " ('100591680', 0.381106973),\n",
       " ('100592741', 0.4598815),\n",
       " ('100597070', 0.454424918),\n",
       " ('1006135797', 0.442199528),\n",
       " ('1006175266', 0.438364625),\n",
       " ('1006207118', 0.459191233),\n",
       " ('100626814', 0.452677339),\n",
       " ('1006291807', 0.4550886),\n",
       " ('1006361409', 0.45652926),\n",
       " ('1006390387', 0.464497775),\n",
       " ('1006440880', 0.4525863),\n",
       " ('1006443989', 0.458573043),\n",
       " ('100645205', 0.4583123),\n",
       " ('1006570471', 0.451612771),\n",
       " ('1006913593', 0.4157796),\n",
       " ('1006958363', 0.467206478),\n",
       " ('100707770', 0.459807456),\n",
       " ('100709098', 0.4501861),\n",
       " ('100712061', 0.453974456),\n",
       " ('100713227', 0.439006835),\n",
       " ('100718087', 0.4170421),\n",
       " ('1007208754', 0.3700616),\n",
       " ('100728962', 0.4478042),\n",
       " ('100732319', 0.469564945),\n",
       " ('100742289', 0.461744249),\n",
       " ('1007546756', 0.444285065),\n",
       " ('100769187', 0.4579541),\n",
       " ('10077080', 0.454011381),\n",
       " ('100780383', 0.454981118),\n",
       " ('1007824505', 0.4388496),\n",
       " ('100783751', 0.432458043),\n",
       " ('100792009', 0.428325564),\n",
       " ('1007943039', 0.446410567),\n",
       " ('100796058', 0.4392929),\n",
       " ('1008032798', 0.4203318),\n",
       " ('100808485', 0.447726876),\n",
       " ('100813650', 0.435901374),\n",
       " ('1008141353', 0.441501021),\n",
       " ('1008160962', 0.4641991),\n",
       " ('100825074', 0.437376946),\n",
       " ('10083169', 0.431300372),\n",
       " ('1008336339', 0.436784),\n",
       " ('1008349480', 0.420205772),\n",
       " ('100839021', 0.466178149),\n",
       " ('10084316', 0.446046174),\n",
       " ('1008525481', 0.454584926),\n",
       " ('1008592456', 0.431743234),\n",
       " ('100861035', 0.45468697),\n",
       " ('100864709', 0.439538717),\n",
       " ('100866098', 0.419008851),\n",
       " ('100868894', 0.426790357),\n",
       " ('10087312', 0.4584418),\n",
       " ('100877432', 0.453352928),\n",
       " ('100878264', 0.41778028),\n",
       " ('10089010', 0.463129222),\n",
       " ('100892167', 0.4509239),\n",
       " ('100906771', 0.4484553),\n",
       " ('100910254', 0.44119522),\n",
       " ('1009211877', 0.458116949),\n",
       " ('100923078', 0.455585837),\n",
       " ('100928085', 0.44711256),\n",
       " ('100935296', 0.40003556),\n",
       " ('100939548', 0.436914861),\n",
       " ('100941676', 0.4121152),\n",
       " ('100950439', 0.429035962),\n",
       " ('100954374', 0.444738626),\n",
       " ('100955606', 0.454731),\n",
       " ('100956814', 0.442481816),\n",
       " ('1009568214', 0.4404948),\n",
       " ('100959372', 0.447869539),\n",
       " ('100960141', 0.423134267),\n",
       " ('100964026', 0.444848746),\n",
       " ('100968142', 0.423754752),\n",
       " ('100968198', 0.429405928),\n",
       " ('1009885987', 0.461509824),\n",
       " ('101003662', 0.436421037),\n",
       " ('1010128498', 0.451753169),\n",
       " ('101015253', 0.447439581),\n",
       " ('1010168389', 0.417314768),\n",
       " ('1010179642', 0.418299854),\n",
       " ('1010278379', 0.448997527),\n",
       " ('101028559', 0.433052123),\n",
       " ('101030550', 0.432078421),\n",
       " ('101030780', 0.45915705),\n",
       " ('101032760', 0.4551171),\n",
       " ('1010434792', 0.445860445),\n",
       " ('1010461004', 0.4567847),\n",
       " ('101046261', 0.469948173),\n",
       " ('1010476069', 0.467407256),\n",
       " ('101052423', 0.466890633),\n",
       " ('1010545230', 0.4566458),\n",
       " ('101055837', 0.4366343),\n",
       " ('1010562151', 0.4501441),\n",
       " ('101057548', 0.4493592),\n",
       " ('101058522', 0.438456148),\n",
       " ('101065384', 0.465593),\n",
       " ('101077620', 0.431459785),\n",
       " ('101081709', 0.455775231),\n",
       " ('1010839279', 0.456486583),\n",
       " ('1010902028', 0.430715),\n",
       " ('1010927513', 0.42324385),\n",
       " ('10109515', 0.4168182),\n",
       " ('1010987105', 0.42366755),\n",
       " ('101100353', 0.458577126),\n",
       " ('1011032063', 0.437084377),\n",
       " ('101106597', 0.425591379),\n",
       " ('101112484', 0.4452416),\n",
       " ('101121607', 0.465269476),\n",
       " ('1011220628', 0.466886371),\n",
       " ('101123528', 0.4362589),\n",
       " ('101127646', 0.453657061),\n",
       " ('101128353', 0.4086794),\n",
       " ('101136813', 0.3956899),\n",
       " ('1011425321', 0.448392957),\n",
       " ('1011474368', 0.444917321),\n",
       " ('101157668', 0.4570044),\n",
       " ('1011645791', 0.456337929),\n",
       " ('1011679765', 0.463117152),\n",
       " ('101172557', 0.438078135),\n",
       " ('101179081', 0.4381721),\n",
       " ('1011889315', 0.401530921),\n",
       " ('101190980', 0.456654966),\n",
       " ('101211251', 0.456489563),\n",
       " ('1012124087', 0.395890146),\n",
       " ('101214240', 0.449627817),\n",
       " ('1012168249', 0.440871418),\n",
       " ('1012393692', 0.447555274),\n",
       " ('101241118', 0.446067333),\n",
       " ('101249353', 0.3966955),\n",
       " ('1012536294', 0.45002082),\n",
       " ('101255480', 0.401771069),\n",
       " ('101255788', 0.418103129),\n",
       " ('101264166', 0.4453373),\n",
       " ('101265855', 0.453463733),\n",
       " ('101269523', 0.4389473),\n",
       " ('101274223', 0.427586019),\n",
       " ('1012821373', 0.447694838),\n",
       " ('1012887945', 0.4586615),\n",
       " ('101293716', 0.450067431),\n",
       " ('101294414', 0.448150337),\n",
       " ('101301863', 0.4394145),\n",
       " ('101304205', 0.417158544),\n",
       " ('101317733', 0.464235),\n",
       " ('101322216', 0.447727472),\n",
       " ('101325212', 0.469084829),\n",
       " ('1013284190', 0.424506932),\n",
       " ('101330189', 0.430745125),\n",
       " ('1013334553', 0.446571559),\n",
       " ('101334385', 0.468656272),\n",
       " ('10133789', 0.433497518),\n",
       " ('1013409931', 0.458859771),\n",
       " ('101341011', 0.4631797),\n",
       " ('1013478417', 0.456093937),\n",
       " ('10135124', 0.415439636),\n",
       " ('101359815', 0.469703436),\n",
       " ('1013643069', 0.447927445),\n",
       " ('101365620', 0.447948873),\n",
       " ('101371929', 0.4420244),\n",
       " ('1013787855', 0.44000116),\n",
       " ('101383108', 0.443487644),\n",
       " ('101383341', 0.406693131),\n",
       " ('1013849386', 0.466867775),\n",
       " ('101384946', 0.358359575),\n",
       " ('101393322', 0.4617207),\n",
       " ('1013994378', 0.418502152),\n",
       " ('1014082324', 0.423443526),\n",
       " ('101411930', 0.46339795),\n",
       " ('10141207', 0.457534254),\n",
       " ('1014129588', 0.4260565),\n",
       " ('101422665', 0.4607119),\n",
       " ('1014259881', 0.448151141),\n",
       " ('1014362250', 0.449929148),\n",
       " ('101439225', 0.438999146),\n",
       " ('1014449310', 0.438160449),\n",
       " ('101454972', 0.438432783),\n",
       " ('1014657286', 0.456106544),\n",
       " ('101467343', 0.433970869),\n",
       " ('101470746', 0.4471566),\n",
       " ('1014725521', 0.44556),\n",
       " ('101475488', 0.473109245),\n",
       " ('1014761131', 0.473154873),\n",
       " ('101489203', 0.3921899),\n",
       " ('101490221', 0.429247558),\n",
       " ('1015040853', 0.452081829),\n",
       " ('101504761', 0.440520823),\n",
       " ('101514465', 0.440120667),\n",
       " ('1015167642', 0.4391315),\n",
       " ('101517243', 0.4352141),\n",
       " ('10152071', 0.4302755),\n",
       " ('101523865', 0.436079323),\n",
       " ('101527162', 0.452629179),\n",
       " ('101528264', 0.3707596),\n",
       " ('101533322', 0.449004441),\n",
       " ('101534207', 0.411902279),\n",
       " ('10153496', 0.434909374),\n",
       " ('1015378603', 0.449554831),\n",
       " ('101545579', 0.440734625),\n",
       " ('1015480048', 0.4727847),\n",
       " ('1015545679', 0.4366298),\n",
       " ('101557183', 0.410752475),\n",
       " ('1015616074', 0.481309175),\n",
       " ('101565506', 0.446332276),\n",
       " ('1015675232', 0.456226915),\n",
       " ('101581927', 0.4478748),\n",
       " ('1015871413', 0.445943028),\n",
       " ('101594247', 0.455071),\n",
       " ('101595886', 0.4051421),\n",
       " ('101596157', 0.439564824),\n",
       " ('1015972382', 0.402571559),\n",
       " ('1015978103', 0.4370341),\n",
       " ('1015979102', 0.436194032),\n",
       " ('101606831', 0.461533159),\n",
       " ('101609327', 0.458369642),\n",
       " ('101614398', 0.4530521),\n",
       " ('1016152932', 0.455576479),\n",
       " ('1016159587', 0.4147543),\n",
       " ('101624273', 0.447895527),\n",
       " ('101625869', 0.4422451),\n",
       " ('10162706', 0.436121583),\n",
       " ('101628381', 0.4501417),\n",
       " ('1016306528', 0.3773369),\n",
       " ('101632335', 0.4338067),\n",
       " ('1016406112', 0.414519846),\n",
       " ('1016442203', 0.455075651),\n",
       " ('10164545', 0.458985984),\n",
       " ('101646632', 0.4297929),\n",
       " ('1016486924', 0.454320222),\n",
       " ('10165973', 0.457901984),\n",
       " ('101660501', 0.4526566),\n",
       " ('101660842', 0.449222326),\n",
       " ('10166270', 0.454833835),\n",
       " ('101673200', 0.440784544),\n",
       " ('101686356', 0.442562938),\n",
       " ('1016906017', 0.41393292),\n",
       " ('101693056', 0.4536801),\n",
       " ('101698276', 0.4268542),\n",
       " ('101700428', 0.375484735),\n",
       " ('101702020', 0.449207455),\n",
       " ('1017057896', 0.4306257),\n",
       " ('1017116093', 0.459799737),\n",
       " ('101720984', 0.461015046),\n",
       " ('1017258258', 0.41047278),\n",
       " ('101728819', 0.463080764),\n",
       " ('101775451', 0.468450725),\n",
       " ('1017770417', 0.405777246),\n",
       " ('101783607', 0.465683967),\n",
       " ('101784589', 0.458802938),\n",
       " ('101796584', 0.4576133),\n",
       " ('101797865', 0.3990154),\n",
       " ('1017993531', 0.4283643),\n",
       " ('101809000', 0.4492773),\n",
       " ('1018140401', 0.451234758),\n",
       " ('101817751', 0.4367554),\n",
       " ('101819123', 0.4370155),\n",
       " ('101822484', 0.439380765),\n",
       " ('101828501', 0.4543303),\n",
       " ('1018549091', 0.444544643),\n",
       " ('101864658', 0.4450595),\n",
       " ('101887864', 0.430415064),\n",
       " ('101903450', 0.452016652),\n",
       " ('101904060', 0.421963334),\n",
       " ('101920933', 0.439754635),\n",
       " ('101925239', 0.4456508),\n",
       " ('101939754', 0.442566842),\n",
       " ('101944749', 0.434521616),\n",
       " ('1019456652', 0.448088944),\n",
       " ('1019457152', 0.430783123),\n",
       " ('101951079', 0.432626337),\n",
       " ('101951333', 0.445952028),\n",
       " ('1019520905', 0.393630683),\n",
       " ('1019545347', 0.454409242),\n",
       " ('101956479', 0.436590284),\n",
       " ('101958535', 0.446528941),\n",
       " ('101964907', 0.450717419),\n",
       " ('101964964', 0.449792325),\n",
       " ('10197252', 0.464455664),\n",
       " ('1019737445', 0.455756873),\n",
       " ('101976885', 0.443871826),\n",
       " ('1019787584', 0.467976421),\n",
       " ('101981050', 0.450389981),\n",
       " ('101983502', 0.43563655),\n",
       " ('101983565', 0.4559414),\n",
       " ('101984731', 0.4517045),\n",
       " ('101987945', 0.4510354),\n",
       " ('1019894562', 0.460643977),\n",
       " ('101992548', 0.452045321),\n",
       " ('1020052358', 0.449644268),\n",
       " ('102005480', 0.454510868),\n",
       " ('102006509', 0.452231556),\n",
       " ('1020065631', 0.454351872),\n",
       " ('1020153513', 0.4686136),\n",
       " ('102023674', 0.452651381),\n",
       " ('102024334', 0.44596675),\n",
       " ('102026425', 0.434324265),\n",
       " ('102026461', 0.449557424),\n",
       " ('10202805', 0.4365572),\n",
       " ('102031973', 0.412753522),\n",
       " ('1020322019', 0.427904934),\n",
       " ('102035192', 0.45617348),\n",
       " ('1020441', 0.452660233),\n",
       " ('1020530152', 0.4326152),\n",
       " ('1020530499', 0.45028615),\n",
       " ('1020531709', 0.4153034),\n",
       " ('102054753', 0.451507539),\n",
       " ('1020616898', 0.399046361),\n",
       " ('1020799841', 0.462119162),\n",
       " ('102092821', 0.40487954),\n",
       " ('102093602', 0.4553874),\n",
       " ('1020937460', 0.449928671),\n",
       " ('102094678', 0.467955053),\n",
       " ('1021000864', 0.432817817),\n",
       " ('102101541', 0.438974768),\n",
       " ('1021076732', 0.4390676),\n",
       " ('102116019', 0.422904462),\n",
       " ('1021182246', 0.401691377),\n",
       " ('10211916', 0.470854372),\n",
       " ('102119915', 0.466348946),\n",
       " ('102120097', 0.466333419),\n",
       " ('102125637', 0.4268907),\n",
       " ('1021271351', 0.428370982),\n",
       " ('102131403', 0.4260585),\n",
       " ('1021348451', 0.4366542),\n",
       " ('102140395', 0.453903168),\n",
       " ('1021429922', 0.4148547),\n",
       " ('102151064', 0.44481656),\n",
       " ('1021606831', 0.457593471),\n",
       " ('1021668330', 0.454648882),\n",
       " ('102180036', 0.449204564),\n",
       " ('1021815331', 0.4647602),\n",
       " ('102191270', 0.439890981),\n",
       " ('102196238', 0.443246663),\n",
       " ('1021975789', 0.4374235),\n",
       " ('102201112', 0.419279724),\n",
       " ('1022058104', 0.4589166),\n",
       " ('102207804', 0.443004549),\n",
       " ('10223228', 0.398203284),\n",
       " ('1022447026', 0.462357551),\n",
       " ('102247621', 0.438624263),\n",
       " ('102249687', 0.446868241),\n",
       " ('102250216', 0.4601468),\n",
       " ('102254938', 0.418868482),\n",
       " ('102255101', 0.449896127),\n",
       " ('102256652', 0.456741631),\n",
       " ('102258151', 0.4553925),\n",
       " ('102272563', 0.4470454),\n",
       " ('102276202', 0.441975057),\n",
       " ('102286237', 0.445198983),\n",
       " ('1023031573', 0.433516324),\n",
       " ('102307330', 0.4307916),\n",
       " ('102309353', 0.4619826),\n",
       " ('102318237', 0.451750934),\n",
       " ('102328619', 0.462426484),\n",
       " ('102330831', 0.443304867),\n",
       " ('102333897', 0.463835925),\n",
       " ('102339898', 0.4642697),\n",
       " ('102347772', 0.475925952),\n",
       " ('102349725', 0.439229071),\n",
       " ('102352731', 0.432713866),\n",
       " ('1023561924', 0.460663885),\n",
       " ('1023704450', 0.4415577),\n",
       " ('1023720236', 0.4580805),\n",
       " ('102379677', 0.459571034),\n",
       " ('102381528', 0.4570143),\n",
       " ('102383941', 0.4659032),\n",
       " ('102388128', 0.455830574),\n",
       " ('102392088', 0.450779945),\n",
       " ('10239605', 0.44766),\n",
       " ('102399147', 0.4328575),\n",
       " ('1023993098', 0.4588171),\n",
       " ('102405117', 0.466769367),\n",
       " ('1024052301', 0.404031932),\n",
       " ('102410348', 0.4599624),\n",
       " ('102410604', 0.450964719),\n",
       " ('1024185861', 0.4250607),\n",
       " ('1024189413', 0.42102614),\n",
       " ('102420325', 0.408807069),\n",
       " ('102437958', 0.459043),\n",
       " ('1024434484', 0.434169382),\n",
       " ('1024486550', 0.387548745),\n",
       " ('102450818', 0.3450978),\n",
       " ('102451594', 0.453670382),\n",
       " ('1024531550', 0.46268478),\n",
       " ('102454270', 0.433154821),\n",
       " ('102455850', 0.439857632),\n",
       " ('102472827', 0.44240725),\n",
       " ('1024889673', 0.444088638),\n",
       " ('1024906986', 0.451180339),\n",
       " ('102492932', 0.474827647),\n",
       " ('102496193', 0.440011948),\n",
       " ('1025004776', 0.4740944),\n",
       " ('102507629', 0.4435351),\n",
       " ('1025080527', 0.454735249),\n",
       " ('1025088152', 0.453727633),\n",
       " ('102510005', 0.457780063),\n",
       " ('102517589', 0.452024937),\n",
       " ('1025179915', 0.4630866),\n",
       " ('102523438', 0.455615878),\n",
       " ('10252367', 0.431318343),\n",
       " ('1025337582', 0.435882479),\n",
       " ('102536876', 0.464710534),\n",
       " ('102537406', 0.3742102),\n",
       " ('102543849', 0.4342021),\n",
       " ('102552829', 0.4708002),\n",
       " ('1025566478', 0.422117561),\n",
       " ('102565624', 0.404045671),\n",
       " ('102578448', 0.460484654),\n",
       " ('1025797601', 0.4476213),\n",
       " ('1025831134', 0.431972474),\n",
       " ('102584865', 0.441958129),\n",
       " ('102586150', 0.4575522),\n",
       " ('102590339', 0.4139947),\n",
       " ('102602381', 0.45491457),\n",
       " ('102605253', 0.42046237),\n",
       " ('102607488', 0.46012333),\n",
       " ('1026076860', 0.441573679),\n",
       " ('1026148979', 0.451913178),\n",
       " ('102636402', 0.456508249),\n",
       " ('102664234', 0.411049336),\n",
       " ('102669', 0.423326731),\n",
       " ('1026704374', 0.452552825),\n",
       " ('1026712265', 0.4440489),\n",
       " ('102675253', 0.449305028),\n",
       " ('102691879', 0.4469565),\n",
       " ('102693226', 0.454476416),\n",
       " ('102693356', 0.430122316),\n",
       " ('102701891', 0.432020247),\n",
       " ('1027052726', 0.436117858),\n",
       " ('102707726', 0.452364),\n",
       " ('1027077394', 0.460787445),\n",
       " ('102708294', 0.4203143),\n",
       " ('1027091948', 0.438161343),\n",
       " ('1027140116', 0.43029213),\n",
       " ('102721276', 0.4644667),\n",
       " ('102723483', 0.454451531),\n",
       " ('1027247226', 0.390689015),\n",
       " ('1027286146', 0.4072716),\n",
       " ('1027316353', 0.465053),\n",
       " ('102734297', 0.445137978),\n",
       " ('102741500', 0.47181344),\n",
       " ('1027424257', 0.4634895),\n",
       " ('102743179', 0.429522783),\n",
       " ('1027498319', 0.448867857),\n",
       " ('102752647', 0.455961227),\n",
       " ('102760613', 0.4620182),\n",
       " ('1027618259', 0.452047974),\n",
       " ('1027628868', 0.45991686),\n",
       " ('1027717506', 0.4382045),\n",
       " ('102778382', 0.462072372),\n",
       " ('102780409', 0.445991665),\n",
       " ('1027826848', 0.4592877),\n",
       " ('102783233', 0.455901176),\n",
       " ('102786397', 0.460971743),\n",
       " ('1027892861', 0.390776277),\n",
       " ('102792262', 0.452558517),\n",
       " ('102807129', 0.465113133),\n",
       " ('1028170576', 0.360907167),\n",
       " ('102836821', 0.4122973),\n",
       " ('10284236', 0.451831967),\n",
       " ('102844469', 0.455955178),\n",
       " ('102844715', 0.455979526),\n",
       " ('10286183', 0.4666244),\n",
       " ('1028632736', 0.451435566),\n",
       " ('102864735', 0.4530538),\n",
       " ('1028652605', 0.4615),\n",
       " ('102874617', 0.372913539),\n",
       " ('102880083', 0.455684543),\n",
       " ('102888611', 0.427659631),\n",
       " ('10289328', 0.4592885),\n",
       " ('102894001', 0.4565668),\n",
       " ('102905937', 0.457409084),\n",
       " ('102909132', 0.457945645),\n",
       " ('102922325', 0.445737451),\n",
       " ('102922979', 0.4610049),\n",
       " ('102925072', 0.428626329),\n",
       " ('1029338809', 0.45158267),\n",
       " ('1029350835', 0.4188053),\n",
       " ('1029411536', 0.450586468),\n",
       " ('102943861', 0.455163538),\n",
       " ('1029465957', 0.386450678),\n",
       " ('10295002', 0.434405684),\n",
       " ('102964566', 0.4561169),\n",
       " ('102966334', 0.441573471),\n",
       " ('1029689994', 0.41077888),\n",
       " ('102969496', 0.46945256),\n",
       " ('1029768082', 0.378237575),\n",
       " ('102980826', 0.473106265),\n",
       " ('1029901265', 0.400070339),\n",
       " ('102995144', 0.454825372),\n",
       " ('103010295', 0.46532166),\n",
       " ('1030108738', 0.452593744),\n",
       " ('1030133576', 0.458517969),\n",
       " ('103013625', 0.452627182),\n",
       " ('1030164691', 0.4452677),\n",
       " ('103017701', 0.469265074),\n",
       " ('103026080', 0.432202369),\n",
       " ('103029228', 0.416965067),\n",
       " ('103031768', 0.393026233),\n",
       " ('1030345859', 0.459465116),\n",
       " ('1030396786', 0.437520683),\n",
       " ('1030414202', 0.4287392),\n",
       " ('103045154', 0.4133881),\n",
       " ('103049419', 0.445601135),\n",
       " ('103051859', 0.400916338),\n",
       " ('1030521295', 0.467572361),\n",
       " ('1030543666', 0.463390827),\n",
       " ('103055543', 0.399311125),\n",
       " ('1030645745', 0.445400178),\n",
       " ('103064661', 0.45550856),\n",
       " ('1030666019', 0.455282331),\n",
       " ('1030668665', 0.448188215),\n",
       " ('1030741287', 0.441195846),\n",
       " ('1030813592', 0.4514973),\n",
       " ('103082649', 0.4420211),\n",
       " ('1031056378', 0.412326664),\n",
       " ('103110843', 0.4477015),\n",
       " ('103119505', 0.478155255),\n",
       " ('1031247332', 0.449781269),\n",
       " ('103126948', 0.46278733),\n",
       " ('103130999', 0.460065335),\n",
       " ('103137057', 0.45640108),\n",
       " ('103140967', 0.4406811),\n",
       " ('103146554', 0.4616219),\n",
       " ('1031477729', 0.4714238),\n",
       " ('1031497972', 0.4410157),\n",
       " ('103150366', 0.4637983),\n",
       " ('10315507', 0.331666142),\n",
       " ('1031643227', 0.46064204),\n",
       " ('1031651363', 0.412424833),\n",
       " ('103168196', 0.449145257),\n",
       " ('103169788', 0.450073242),\n",
       " ('103171847', 0.4267092),\n",
       " ('1031745939', 0.431031883),\n",
       " ('103182340', 0.470359623),\n",
       " ('103182884', 0.368511945),\n",
       " ('1031888224', 0.4452675),\n",
       " ('103190104', 0.389128149),\n",
       " ('103194102', 0.4293988),\n",
       " ('103199103', 0.404720277),\n",
       " ('1032119920', 0.4706765),\n",
       " ('10321238', 0.452027917),\n",
       " ('1032134859', 0.451709837),\n",
       " ('1032174759', 0.4374339),\n",
       " ('1032201087', 0.429826528),\n",
       " ('103225944', 0.445376933),\n",
       " ('103230005', 0.429987669),\n",
       " ('103242079', 0.394955546),\n",
       " ('103257041', 0.456204355),\n",
       " ('103257385', 0.434975177),\n",
       " ('103267121', 0.459362984),\n",
       " ('1032707314', 0.454285949),\n",
       " ('1032790121', 0.441281646),\n",
       " ('103280473', 0.421206),\n",
       " ('1032810182', 0.4508063),\n",
       " ('103291056', 0.462621868),\n",
       " ('103294009', 0.437643379),\n",
       " ('10330309', 0.4416129),\n",
       " ('103309533', 0.474651158),\n",
       " ('103314454', 0.4602029),\n",
       " ('103322062', 0.431828141),\n",
       " ('103333418', 0.443865716),\n",
       " ('103340358', 0.440233648),\n",
       " ('103357421', 0.4312302),\n",
       " ('1033668910', 0.4405074),\n",
       " ('1033672572', 0.4222235),\n",
       " ('1033674121', 0.468486369),\n",
       " ('103373213', 0.469226748),\n",
       " ('103374398', 0.3865092),\n",
       " ('1033756757', 0.452200979),\n",
       " ('103379186', 0.4491596),\n",
       " ('103386657', 0.465110064),\n",
       " ('1033892796', 0.445082068),\n",
       " ('103395934', 0.459950835),\n",
       " ('103398697', 0.435613543),\n",
       " ('103399772', 0.467690825),\n",
       " ('1034192552', 0.4215473),\n",
       " ('1034219364', 0.432737917),\n",
       " ('103427746', 0.459366918),\n",
       " ('1034322595', 0.4432005),\n",
       " ('1034329337', 0.454192936),\n",
       " ('103436848', 0.43528682),\n",
       " ('103457574', 0.460092425),\n",
       " ('103485440', 0.4602568),\n",
       " ('1034866298', 0.434288442),\n",
       " ('103497476', 0.4617586),\n",
       " ('103499618', 0.450602233),\n",
       " ('103502898', 0.4403705),\n",
       " ('1035060194', 0.382246077),\n",
       " ('103513877', 0.446940631),\n",
       " ('103514422', 0.464305431),\n",
       " ('103517470', 0.452967882),\n",
       " ('1035176527', 0.428429842),\n",
       " ('103518872', 0.4666473),\n",
       " ('103519917', 0.4652704),\n",
       " ('103520258', 0.4569571),\n",
       " ('103520737', 0.43805182),\n",
       " ('1035228443', 0.449624032),\n",
       " ('103524072', 0.4637235),\n",
       " ('103549349', 0.424562),\n",
       " ('103550960', 0.373235524),\n",
       " ('1035535862', 0.428449184),\n",
       " ('103558971', 0.464944243),\n",
       " ('1035596560', 0.39363116),\n",
       " ('103572378', 0.447795242),\n",
       " ('103572958', 0.440213621),\n",
       " ('1035740170', 0.4561032),\n",
       " ('103591083', 0.423461318),\n",
       " ('1035914766', 0.457580835),\n",
       " ('103591830', 0.4582798),\n",
       " ('10359703', 0.417262),\n",
       " ('103598809', 0.433155328),\n",
       " ('103601034', 0.459494919),\n",
       " ('1036032156', 0.4406772),\n",
       " ('1036050411', 0.4741461),\n",
       " ('1036054171', 0.412227631),\n",
       " ('103617763', 0.438684821),\n",
       " ('103621274', 0.446266472),\n",
       " ('103621694', 0.443386644),\n",
       " ('1036229175', 0.443406016),\n",
       " ('103628767', 0.427455783),\n",
       " ('1036407565', 0.4345154),\n",
       " ('103653802', 0.454510182),\n",
       " ('1036579391', 0.4734251),\n",
       " ('103659291', 0.462388635),\n",
       " ('103660870', 0.450883567),\n",
       " ('103686129', 0.41883257),\n",
       " ('103689829', 0.452931583),\n",
       " ('103695886', 0.444503546),\n",
       " ('103700182', 0.416334033),\n",
       " ('103701250', 0.430206448),\n",
       " ('103701489', 0.468426),\n",
       " ('1037020329', 0.455174148),\n",
       " ('1037096493', 0.4492672),\n",
       " ('1037183113', 0.436680943),\n",
       " ('1037387417', 0.457118273),\n",
       " ('103739812', 0.439798981),\n",
       " ('103743490', 0.46113342),\n",
       " ('1037504319', 0.4333497),\n",
       " ('10376147', 0.451326936),\n",
       " ('10376690', 0.46369943),\n",
       " ('1037680333', 0.452394724),\n",
       " ('103770677', 0.4609289),\n",
       " ('103780687', 0.457784921),\n",
       " ('103786059', 0.4557401),\n",
       " ('1038077449', 0.4476115),\n",
       " ('1038087143', 0.435739458),\n",
       " ('103811974', 0.467300147),\n",
       " ('103814546', 0.4633121),\n",
       " ('103816607', 0.453502953),\n",
       " ('103820419', 0.4450968),\n",
       " ('10382452', 0.4421267),\n",
       " ('1038253', 0.444216),\n",
       " ('103831028', 0.439783663),\n",
       " ('103832736', 0.439202726),\n",
       " ('1038329668', 0.450386524),\n",
       " ('103840088', 0.448356539),\n",
       " ('103843825', 0.47563386),\n",
       " ('1038470390', 0.4532549),\n",
       " ('1038580120', 0.446908683),\n",
       " ('1038669747', 0.4508046),\n",
       " ('103879214', 0.436789572),\n",
       " ('103879573', 0.444628447),\n",
       " ('103886108', 0.435376257),\n",
       " ('1038952805', 0.4342854),\n",
       " ('10390722', 0.454603344),\n",
       " ('103911034', 0.4384641),\n",
       " ('103924298', 0.456035227),\n",
       " ('103934183', 0.456811666),\n",
       " ('103937561', 0.430661619),\n",
       " ('103937851', 0.451357931),\n",
       " ('1039455006', 0.4110669),\n",
       " ('1039487', 0.454870254),\n",
       " ('1039526808', 0.4436498),\n",
       " ('1039578746', 0.42723006),\n",
       " ('103958308', 0.453552),\n",
       " ('10396883', 0.4515472),\n",
       " ('1039713189', 0.441479385),\n",
       " ('1039736096', 0.397089064),\n",
       " ('103975876', 0.46228677),\n",
       " ('1039792284', 0.456436455),\n",
       " ('1039888528', 0.4472073),\n",
       " ('1039954378', 0.435743958),\n",
       " ('103997812', 0.447140366),\n",
       " ('103998553', 0.445473939),\n",
       " ('1040040171', 0.46085766),\n",
       " ('104005949', 0.453456134),\n",
       " ('1040120543', 0.373072326),\n",
       " ('104019587', 0.465799451),\n",
       " ('104020283', 0.454236835),\n",
       " ('104024261', 0.461215168),\n",
       " ('104027392', 0.442035943),\n",
       " ('1040309745', 0.441470116),\n",
       " ('1040470859', 0.45418027),\n",
       " ('10405577', 0.40079695),\n",
       " ('104058045', 0.4355392),\n",
       " ('10406032', 0.45515272),\n",
       " ('1040632000', 0.4775913),\n",
       " ('1040754108', 0.448241383),\n",
       " ('1040822411', 0.457238585),\n",
       " ('1040879482', 0.4339078),\n",
       " ('1040881310', 0.441111416),\n",
       " ('1040979544', 0.469027966),\n",
       " ('104106355', 0.4483357),\n",
       " ('104108358', 0.466665536),\n",
       " ('1041128124', 0.434491277),\n",
       " ('104113561', 0.436665684),\n",
       " ('104115160', 0.4667645),\n",
       " ('1041175103', 0.442990541),\n",
       " ('1041198398', 0.44984892),\n",
       " ('1041304399', 0.4579101),\n",
       " ('104132764', 0.466525137),\n",
       " ('104136890', 0.4567965),\n",
       " ('104144737', 0.44551912),\n",
       " ('1041460119', 0.405399263),\n",
       " ('104148947', 0.4654818),\n",
       " ('1041597453', 0.442491353),\n",
       " ('104170884', 0.4374718),\n",
       " ('1041723562', 0.419588745),\n",
       " ('104180849', 0.447595865),\n",
       " ('1041851260', 0.4456873),\n",
       " ('1041883321', 0.447164446),\n",
       " ('1041951766', 0.429707),\n",
       " ('1041963406', 0.459340572),\n",
       " ('104197417', 0.448871851),\n",
       " ('104202036', 0.4477176),\n",
       " ('104207498', 0.437396854),\n",
       " ('104211885', 0.462677),\n",
       " ('1042149469', 0.465072721),\n",
       " ('104216493', 0.45658043),\n",
       " ('104222338', 0.449121833),\n",
       " ('104229026', 0.448825955),\n",
       " ('1042295638', 0.4378816),\n",
       " ('10423078', 0.460495949),\n",
       " ('1042323731', 0.4482942),\n",
       " ('1042408277', 0.414866179),\n",
       " ('104248871', 0.456172377),\n",
       " ('1042667663', 0.400446534),\n",
       " ('1042872912', 0.455909282),\n",
       " ('104287963', 0.442486227),\n",
       " ('1042883555', 0.440241367),\n",
       " ('1042893385', 0.463249177),\n",
       " ('1042911521', 0.463308066),\n",
       " ('1042946351', 0.409686476),\n",
       " ('104297503', 0.428046733),\n",
       " ('1043194085', 0.463328),\n",
       " ('104319789', 0.448783457),\n",
       " ('1043256439', 0.422041625),\n",
       " ('104327112', 0.436175644),\n",
       " ('104338495', 0.456564069),\n",
       " ('104345500', 0.4510356),\n",
       " ('1043462122', 0.4433227),\n",
       " ('104357230', 0.446526766),\n",
       " ('104359385', 0.4296252),\n",
       " ('10436284', 0.425521523),\n",
       " ('104376825', 0.4615023),\n",
       " ('104377239', 0.4188572),\n",
       " ('104379546', 0.4478655),\n",
       " ('1043824350', 0.436832368),\n",
       " ('104385336', 0.456132323),\n",
       " ('1043865501', 0.440499425),\n",
       " ('1043952424', 0.458555132),\n",
       " ('1044000636', 0.4452082),\n",
       " ('104409760', 0.453273237),\n",
       " ('10441132', 0.45675236),\n",
       " ('104411570', 0.423350155),\n",
       " ('1044176408', 0.4341753),\n",
       " ('104419814', 0.4460181),\n",
       " ('104424223', 0.4594483),\n",
       " ('104424301', 0.428235),\n",
       " ('104430470', 0.424445719),\n",
       " ('1044379819', 0.460638732),\n",
       " ('104440803', 0.4114624),\n",
       " ('104441265', 0.463902622),\n",
       " ('104446781', 0.452409148),\n",
       " ('104448173', 0.436397523),\n",
       " ('104450679', 0.445099831),\n",
       " ('1044605864', 0.458459228),\n",
       " ('104468089', 0.420135528),\n",
       " ('1044785564', 0.452820718),\n",
       " ('104495462', 0.439433217),\n",
       " ('1045055801', 0.456652015),\n",
       " ('104510169', 0.46997267),\n",
       " ('104511162', 0.4512173),\n",
       " ('1045151835', 0.422105819),\n",
       " ('104518235', 0.440479845),\n",
       " ('104526366', 0.436317444),\n",
       " ('1045349118', 0.437320143),\n",
       " ('1045393834', 0.465902448),\n",
       " ('1045478105', 0.424102),\n",
       " ('104552425', 0.4603819),\n",
       " ('104553448', 0.4578498),\n",
       " ('10455613', 0.459537357),\n",
       " ('104558398', 0.46021682),\n",
       " ('104558919', 0.442507923),\n",
       " ('104563887', 0.428396285),\n",
       " ('104569075', 0.443929464),\n",
       " ('1045715', 0.442688137),\n",
       " ('104575246', 0.407097816),\n",
       " ('104575629', 0.4622183),\n",
       " ('1045766192', 0.446115941),\n",
       " ('104578601', 0.45643878),\n",
       " ('104581431', 0.467278123),\n",
       " ('104589222', 0.452929556),\n",
       " ('104590234', 0.447306573),\n",
       " ('104597137', 0.428920239),\n",
       " ('104599846', 0.425399661),\n",
       " ('104607649', 0.457262278),\n",
       " ('104620618', 0.419245064),\n",
       " ('104629342', 0.46530205),\n",
       " ('104632763', 0.449549317),\n",
       " ('104635630', 0.456318527),\n",
       " ('104643151', 0.452789873),\n",
       " ('104649228', 0.46411714),\n",
       " ('104651583', 0.442260742),\n",
       " ('104672587', 0.391319484),\n",
       " ('104703790', 0.466579437),\n",
       " ('1047090839', 0.44288522),\n",
       " ('104713571', 0.427356422),\n",
       " ('104722501', 0.45432958),\n",
       " ('104738200', 0.457852572),\n",
       " ('104741324', 0.4447735),\n",
       " ('104751610', 0.4411951),\n",
       " ('104754226', 0.4527905),\n",
       " ('104767271', 0.446092),\n",
       " ('104778644', 0.443223327),\n",
       " ('104785586', 0.457827657),\n",
       " ('104785835', 0.4386038),\n",
       " ('104791220', 0.45661208),\n",
       " ('1047918894', 0.446806282),\n",
       " ('104801883', 0.278404742),\n",
       " ('104803968', 0.468336016),\n",
       " ('104805644', 0.43659398),\n",
       " ('104833495', 0.456548154),\n",
       " ('104864124', 0.361148268),\n",
       " ('104876493', 0.4460405),\n",
       " ('104881179', 0.440448284),\n",
       " ('104881323', 0.4511934),\n",
       " ('104896263', 0.461937338),\n",
       " ('104901463', 0.4017639),\n",
       " ('104907280', 0.4588399),\n",
       " ('104909239', 0.464539677),\n",
       " ('104930955', 0.409099847),\n",
       " ('10493287', 0.435879081),\n",
       " ('104933406', 0.4383711),\n",
       " ('104943088', 0.458009273),\n",
       " ('10494505', 0.441824257),\n",
       " ('104947418', 0.388905019),\n",
       " ('104963312', 0.4577361),\n",
       " ('104970664', 0.445485741),\n",
       " ('104974432', 0.420560539),\n",
       " ('104975278', 0.460427284),\n",
       " ('105021028', 0.45388487),\n",
       " ('105023550', 0.453970283),\n",
       " ('105026265', 0.4581018),\n",
       " ('105030525', 0.4475014),\n",
       " ('105050702', 0.4477826),\n",
       " ('1050717819', 0.316158235),\n",
       " ('105091035', 0.4413224),\n",
       " ('105092407', 0.467330962),\n",
       " ('105096254', 0.443371654),\n",
       " ('105099695', 0.445597142),\n",
       " ('105106098', 0.459416181),\n",
       " ('1051151099', 0.434753746),\n",
       " ('105122667', 0.410440266),\n",
       " ('105124745', 0.449890852),\n",
       " ('105125759', 0.170329183),\n",
       " ('105136783', 0.422409058),\n",
       " ('10514432', 0.45543322),\n",
       " ('105147515', 0.4642636),\n",
       " ('105155515', 0.460665345),\n",
       " ('1051667822', 0.4479632),\n",
       " ('10516899', 0.384363085),\n",
       " ('1051747289', 0.442897618),\n",
       " ('105197999', 0.441399),\n",
       " ('105198659', 0.447702467),\n",
       " ('105201579', 0.45474568),\n",
       " ('105202040', 0.4531116),\n",
       " ('1052148005', 0.465124041),\n",
       " ('105227702', 0.440203),\n",
       " ('105235982', 0.462263465),\n",
       " ('105237421', 0.447190553),\n",
       " ('105246844', 0.4388738),\n",
       " ('105253108', 0.434347242),\n",
       " ('105257895', 0.456842959),\n",
       " ('105269932', 0.416598141),\n",
       " ('105276442', 0.467600137),\n",
       " ('10528201', 0.4545677),\n",
       " ('105286683', 0.4455461),\n",
       " ('1053104443', 0.450646579),\n",
       " ('105321653', 0.450722635),\n",
       " ('10533152', 0.453093737),\n",
       " ('105338500', 0.463877976),\n",
       " ('105342920', 0.434884846),\n",
       " ('105345927', 0.415493548),\n",
       " ...]"
      ]
     },
     "execution_count": 61,
     "metadata": {},
     "output_type": "execute_result"
    }
   ],
   "source": [
    "kw_dic['data mining']"
   ]
  },
  {
   "cell_type": "code",
   "execution_count": 60,
   "metadata": {},
   "outputs": [
    {
     "name": "stderr",
     "output_type": "stream",
     "text": [
      "100%|██████████| 614214/614214 [02:15<00:00, 4523.56it/s]\n"
     ]
    }
   ],
   "source": [
    "node_dict = {}\n",
    "citation_dict = {}\n",
    "author_dict = {}\n",
    "kw_dic = {}\n",
    "title_dic = {}\n",
    "# useful_keys = ['id','title','references','authors']\n",
    "with open('data/subgraph_v11_1.json','r') as f:\n",
    "    jsons = f.readlines()\n",
    "for js in tqdm(jsons):\n",
    "    js_l = json.loads(js)\n",
    "    # js_l = dict((k,v) for k,v in js_l.items() if k in useful_keys)\n",
    "    node_dict[js_l['id']] = js_l\n",
    "    for aut in js_l['authors']:\n",
    "        if aut['name'] not in author_dict:\n",
    "            author_dict[aut['name']] = []\n",
    "        author_dict[aut['name']].append(js_l['id'])\n",
    "    for ref in js_l['references']:\n",
    "        if ref not in citation_dict:\n",
    "            citation_dict[ref] = []\n",
    "        citation_dict[ref].append(js_l['id'])\n",
    "    ind = js_l['id']\n",
    "    title = js_l['title']\n",
    "    title_dic[title] = ind\n",
    "    if 'fos' not in js_l:\n",
    "        continue\n",
    "    for kw in js_l['fos']:\n",
    "        kw_name = kw['name'].lower()\n",
    "        if kw_name not in kw_dic:\n",
    "            kw_dic[kw_name] = [(ind,kw['w'])]\n",
    "        else:\n",
    "            kw_dic[kw_name].append((ind,kw['w']))"
   ]
  },
  {
   "cell_type": "code",
   "execution_count": 55,
   "metadata": {},
   "outputs": [
    {
     "name": "stderr",
     "output_type": "stream",
     "text": [
      "100%|██████████| 614214/614214 [00:21<00:00, 28189.52it/s]\n"
     ]
    }
   ],
   "source": [
    "nds = {}\n",
    "for idx in tqdm(node_dict):\n",
    "    nds[idx] = get_message(idx)\n",
    "    if 'references' in node_dict[idx]:\n",
    "        nds[idx]['references'] = node_dict[idx]['references']\n",
    "    else:\n",
    "        nds[idx]['references'] = []"
   ]
  },
  {
   "cell_type": "code",
   "execution_count": 50,
   "metadata": {},
   "outputs": [
    {
     "data": {
      "text/plain": [
       "20.971616"
      ]
     },
     "execution_count": 50,
     "metadata": {},
     "output_type": "execute_result"
    }
   ],
   "source": [
    "sys.getsizeof(node_dict)/1e6"
   ]
  },
  {
   "cell_type": "code",
   "execution_count": 63,
   "metadata": {},
   "outputs": [
    {
     "name": "stderr",
     "output_type": "stream",
     "text": [
      "100%|██████████| 613323/613323 [00:00<00:00, 728420.56it/s]\n"
     ]
    }
   ],
   "source": [
    "ttl_dict = {}\n",
    "for title in tqdm(title_dic):\n",
    "    ttl_dict[title.lower()] = title_dic[title]"
   ]
  },
  {
   "cell_type": "code",
   "execution_count": 64,
   "metadata": {},
   "outputs": [],
   "source": [
    "title_dic = ttl_dict"
   ]
  },
  {
   "cell_type": "code",
   "execution_count": 49,
   "metadata": {},
   "outputs": [
    {
     "data": {
      "text/plain": [
       "20.971616"
      ]
     },
     "execution_count": 49,
     "metadata": {},
     "output_type": "execute_result"
    }
   ],
   "source": [
    "import sys\n",
    "sys.getsizeof(nds)/1e6"
   ]
  },
  {
   "cell_type": "code",
   "execution_count": 52,
   "metadata": {},
   "outputs": [],
   "source": [
    "import pickle"
   ]
  },
  {
   "cell_type": "code",
   "execution_count": 65,
   "metadata": {},
   "outputs": [],
   "source": [
    "'''\n",
    "citation_dict = {}\n",
    "author_dict = {}\n",
    "kw_dic = {}\n",
    "title_dic = {}\n",
    "'''\n",
    "with open('data/processed_data.pkl','wb') as f:\n",
    "    pickle.dump((nds,citation_dict,author_dict,kw_dic,title_dic),f)"
   ]
  },
  {
   "cell_type": "code",
   "execution_count": 11,
   "metadata": {},
   "outputs": [],
   "source": [
    "import pickle\n",
    "with open('data/processed_data.pkl','rb') as f:\n",
    "    node_dict,citation_dict,author_dict,kw_dic,title_dic = pickle.load(f)"
   ]
  },
  {
   "cell_type": "code",
   "execution_count": 63,
   "metadata": {},
   "outputs": [
    {
     "data": {
      "text/plain": [
       "614214"
      ]
     },
     "execution_count": 63,
     "metadata": {},
     "output_type": "execute_result"
    }
   ],
   "source": [
    "len(jsons)"
   ]
  },
  {
   "cell_type": "code",
   "execution_count": 2,
   "metadata": {},
   "outputs": [],
   "source": [
    "import json\n",
    "from tqdm import tqdm"
   ]
  },
  {
   "cell_type": "code",
   "execution_count": 65,
   "metadata": {},
   "outputs": [
    {
     "data": {
      "text/plain": [
       "'{\"id\": \"1000018889\", \"title\": \"Remote Policy Enforcement for Trusted Application Execution in Mobile Environments\", \"authors\": [{\"name\": \"Fabio Martinelli\", \"id\": \"2107438709\", \"org\": \"Istituto di Informatica e Telematica, Consiglio Nazionale delle Ricerche, Pisa, Italy#TAB#\"}, {\"name\": \"Ilaria Matteucci\", \"id\": \"2311169168\", \"org\": \"Istituto di Informatica e Telematica, Consiglio Nazionale delle Ricerche, Pisa, Italy#TAB#\"}, {\"name\": \"Andrea Saracino\", \"id\": \"2140477378\", \"org\": \"Dipartimento di Ingegneria dell\\'Informazione, Universit di Pisa, Pisa, Italy and Istituto di Informatica e Telematica, Consiglio Nazionale delle Ricerche, Pisa, Italy#TAB#\"}, {\"name\": \"Daniele Sgandurra\", \"id\": \"252575161\", \"org\": \"Istituto di Informatica e Telematica, Consiglio Nazionale delle Ricerche, Pisa, Italy#TAB#\"}], \"venue\": {\"raw\": \"international conference on trusted systems\", \"id\": \"2760518661\"}, \"year\": 2013, \"n_citation\": 2, \"page_start\": \"70\", \"page_end\": \"84\", \"doc_type\": \"Conference\", \"publisher\": \"Springer, Cham\", \"volume\": \"\", \"issue\": \"\", \"doi\": \"10.1007/978-3-319-03491-1_5\", \"references\": [\"1504669610\", \"1542792105\", \"1639158619\"], \"indexed_abstract\": {\"IndexLength\": 173, \"InvertedIndex\": {\"Both\": [0], \"in\": [1, 64], \"the\": [2, 43, 70, 93, 101, 110, 118, 124, 129, 133, 136, 140, 142, 151, 166], \"cloud\": [3], \"and\": [4, 18, 24, 77, 126, 138, 156, 171], \"mobile\": [5], \"environments,\": [6], \"a\": [7, 36, 83, 157], \"large\": [8], \"number\": [9], \"of\": [10, 51, 95, 128, 135, 139], \"online\": [11], \"services\": [12], \"is\": [13, 114, 168], \"daily\": [14], \"accessed\": [15], \"through\": [16], \"smartphones\": [17, 163], \"tablets.\": [19], \"Since\": [20], \"several\": [21], \"security,\": [22], \"safety\": [23], \"trust\": [25], \"concerns\": [26], \"may\": [27, 34], \"arise\": [28], \"when\": [29, 68], \"using\": [30, 69], \"these\": [31, 47], \"services,\": [32], \"providers\": [33, 56, 88], \"require\": [35], \"usage\": [37], \"policy\": [38, 52, 120], \"to\": [39, 57, 74, 89, 121, 148], \"be\": [40], \"enforced\": [41], \"on\": [42, 100], \"devices\": [44, 62], \"while\": [45], \"accessing\": [46], \"services.\": [48], \"This\": [49], \"kind\": [50], \"enforcements\": [53], \"enables\": [54], \"service\": [55, 87], \"have\": [58, 90], \"assurance\": [59, 91], \"that\": [60, 165], \"remote\": [61], \"are\": [63], \"an\": [65, 107], \"acceptable\": [66], \"state\": [67], \"provided\": [71], \"service,\": [72], \"according\": [73], \"their\": [75], \"terms\": [76, 125], \"conditions.\\\\r\\\\n\\\\r\\\\nIn\": [78], \"this\": [79], \"paper,\": [80], \"we\": [81], \"propose\": [82], \"framework\": [84, 105, 143], \"which\": [85, 113], \"allows\": [86], \"about\": [92], \"enforcement\": [94], \"some\": [96], \"functional\": [97], \"policies\": [98], \"directly\": [99], \"device.\": [102], \"The\": [103], \"proposed\": [104], \"inserts\": [106], \"enforcer\": [108, 137], \"into\": [109], \"client\\'s\": [111], \"device,\": [112], \"responsible\": [115], \"for\": [116, 161], \"enforcing\": [117], \"provider\\'s\": [119], \"abide\": [122], \"by\": [123], \"conditions\": [127], \"service.\": [130], \"To\": [131], \"assure\": [132], \"integrity\": [134], \"policy,\": [141], \"exploits\": [144], \"Trusted\": [145], \"Computing\": [146], \"techniques\": [147], \"remotely\": [149], \"attest\": [150], \"enforcer\\'s\": [152], \"measurements.\": [153], \"Preliminary\": [154], \"experiments\": [155], \"first\": [158], \"prototype\": [159], \"implementation\": [160], \"Android-based\": [162], \"suggest\": [164], \"approach\": [167], \"both\": [169], \"viable\": [170], \"effective.\": [172]}}, \"fos\": [{\"name\": \"Trusted Computing\", \"w\": 0.6314859}, {\"name\": \"Exploit\", \"w\": 0.454504043}, {\"name\": \"Mobile device\", \"w\": 0.527162254}, {\"name\": \"Computer security\", \"w\": 0.4636836}, {\"name\": \"Android (operating system)\", \"w\": 0.4973744}, {\"name\": \"Service provider\", \"w\": 0.613621056}, {\"name\": \"Enforcement\", \"w\": 0.486138523}, {\"name\": \"Trusted Platform Module\", \"w\": 0.5545424}, {\"name\": \"Cloud computing\", \"w\": 0.5464316}, {\"name\": \"Business\", \"w\": 0.410246879}]}\\n'"
      ]
     },
     "execution_count": 65,
     "metadata": {},
     "output_type": "execute_result"
    }
   ],
   "source": [
    "jsons[1]"
   ]
  },
  {
   "cell_type": "code",
   "execution_count": 26,
   "metadata": {},
   "outputs": [],
   "source": [
    "def get_message(idx:str):\n",
    "    node = node_dict[idx]\n",
    "    paper_dict = {}\n",
    "    paper_dict['title'] = node['title']\n",
    "    paper_dict['authors'] = [f['name'] for f in node['authors']]\n",
    "    if 'venue' in node:\n",
    "        paper_dict['venue'] = node['venue']['raw']\n",
    "    else:\n",
    "        paper_dict['venue'] = ''\n",
    "    paper_dict['year'] = node['year']\n",
    "    paper_dict['citation'] = node['n_citation']\n",
    "    if 'fos' in node:\n",
    "        paper_dict['keywords'] = [f['name'] for f in sorted(node['fos'],key = lambda x:x['w'],reverse=True)][:5]\n",
    "    else:\n",
    "        paper_dict['keywords'] = []\n",
    "    if \"indexed_abstract\" not in node:\n",
    "        paper_dict['abstract'] = \"\"\n",
    "    else:\n",
    "        abst = ['' for _ in range(node['indexed_abstract'][\"IndexLength\"])]\n",
    "        for word,idxlist in node['indexed_abstract'][\"InvertedIndex\"].items():\n",
    "            for i in idxlist:\n",
    "                abst[i] = word\n",
    "        paper_dict['abstract'] = ' '.join(abst)\n",
    "    return paper_dict"
   ]
  },
  {
   "cell_type": "code",
   "execution_count": null,
   "metadata": {},
   "outputs": [],
   "source": [
    "kw_dic = {}\n",
    "id_dic = {}\n",
    "title_dic = {}\n",
    "for js in tqdm(jsons):\n",
    "    js_l = json.loads(js)\n",
    "    ind = js_l['id']\n",
    "    id_dic[ind] = js_l\n",
    "    title = js_l['title']\n",
    "    title_dic[title] = ind\n",
    "    if 'fos' not in js_l:\n",
    "        continue\n",
    "    for kw in js_l['fos']:\n",
    "        if kw['name'] not in kw_dic:\n",
    "            kw_dic[kw['name']] = [(ind,kw['w'])]\n",
    "        else:\n",
    "            kw_dic[kw['name']].append((ind,kw['w']))"
   ]
  },
  {
   "cell_type": "code",
   "execution_count": null,
   "metadata": {},
   "outputs": [],
   "source": [
    "len(kw_dic)"
   ]
  },
  {
   "cell_type": "code",
   "execution_count": 27,
   "metadata": {},
   "outputs": [
    {
     "name": "stderr",
     "output_type": "stream",
     "text": [
      "100%|██████████| 614214/614214 [00:19<00:00, 31318.16it/s]"
     ]
    },
    {
     "name": "stdout",
     "output_type": "stream",
     "text": [
      "0\n"
     ]
    },
    {
     "name": "stderr",
     "output_type": "stream",
     "text": [
      "\n"
     ]
    }
   ],
   "source": [
    "err = 0\n",
    "for nd in tqdm(node_dict):\n",
    "    get_message(nd)\n",
    "print(err)"
   ]
  },
  {
   "cell_type": "code",
   "execution_count": 17,
   "metadata": {},
   "outputs": [
    {
     "name": "stdout",
     "output_type": "stream",
     "text": [
      "Both in the cloud and mobile environments, a large number of online services is daily accessed through smartphones and tablets. Since several security, safety and trust concerns may arise when using these services, providers may require a usage policy to be enforced on the devices while accessing these services. This kind of policy enforcements enables service providers to have assurance that remote devices are in an acceptable state when using the provided service, according to their terms and conditions.\n",
      "\n",
      "In this paper, we propose a framework which allows service providers to have assurance about the enforcement of some functional policies directly on the device. The proposed framework inserts an enforcer into the client's device, which is responsible for enforcing the provider's policy to abide by the terms and conditions of the service. To assure the integrity of the enforcer and of the policy, the framework exploits Trusted Computing techniques to remotely attest the enforcer's measurements. Preliminary experiments and a first prototype implementation for Android-based smartphones suggest that the approach is both viable and effective.\n"
     ]
    }
   ],
   "source": [
    "print(get_message('1000018889')['abstract'])"
   ]
  },
  {
   "cell_type": "code",
   "execution_count": 44,
   "metadata": {},
   "outputs": [
    {
     "data": {
      "text/plain": [
       "[('1603584640', 0.8173289),\n",
       " ('166258374', 0.7909352),\n",
       " ('173477526', 0.7892417),\n",
       " ('114707311', 0.777953),\n",
       " ('1570821776', 0.7763443),\n",
       " ('168040670', 0.7695649),\n",
       " ('138700852', 0.7631655),\n",
       " ('1534787791', 0.7621108),\n",
       " ('1601837939', 0.7620162),\n",
       " ('1581296692', 0.7590559),\n",
       " ('148715279', 0.7545777),\n",
       " ('1505130406', 0.75436604),\n",
       " ('127904234', 0.753475368),\n",
       " ('1734589860', 0.7531088),\n",
       " ('1582035852', 0.7507168),\n",
       " ('16726377', 0.750234544),\n",
       " ('110519124', 0.750059068),\n",
       " ('117069272', 0.747506738),\n",
       " ('1509661363', 0.7463122),\n",
       " ('145822109', 0.7461096),\n",
       " ('160257375', 0.7450207),\n",
       " ('18718310', 0.744573),\n",
       " ('1561385173', 0.744305253),\n",
       " ('181242656', 0.743079364),\n",
       " ('1759074585', 0.74079597),\n",
       " ('141104829', 0.7400516),\n",
       " ('125132138', 0.7393041),\n",
       " ('183864699', 0.73688513),\n",
       " ('165489037', 0.7357138),\n",
       " ('1860902657', 0.7343438),\n",
       " ('1491496976', 0.7324376),\n",
       " ('1586145141', 0.7315028),\n",
       " ('1188031628', 0.7277101),\n",
       " ('1608051544', 0.7274931),\n",
       " ('1534167252', 0.7268608),\n",
       " ('105117948', 0.7253312),\n",
       " ('1582183687', 0.7245249),\n",
       " ('1510429519', 0.7236076),\n",
       " ('173894781', 0.7230149),\n",
       " ('1578156708', 0.7218291),\n",
       " ('1483634311', 0.720856),\n",
       " ('167091598', 0.7207287),\n",
       " ('1594328563', 0.7195762),\n",
       " ('1595171828', 0.7189102),\n",
       " ('1506525943', 0.718770862),\n",
       " ('1516050905', 0.718599856),\n",
       " ('160395202', 0.7159763),\n",
       " ('1570677052', 0.715962768),\n",
       " ('1556629803', 0.7156261),\n",
       " ('1563025097', 0.714462936),\n",
       " ('1534011423', 0.713220537),\n",
       " ('1516625521', 0.712176263),\n",
       " ('1599606665', 0.7119229),\n",
       " ('1546535962', 0.711886942),\n",
       " ('151107712', 0.7118753),\n",
       " ('115245789', 0.711845636),\n",
       " ('1504961106', 0.71132946),\n",
       " ('1483114187', 0.709395647),\n",
       " ('1840421542', 0.709203064),\n",
       " ('1603243823', 0.709129035),\n",
       " ('1657043559', 0.708917856),\n",
       " ('1544002323', 0.708549261),\n",
       " ('166168631', 0.7085182),\n",
       " ('1548579390', 0.706157565),\n",
       " ('153053187', 0.705481231),\n",
       " ('1576637329', 0.7050394),\n",
       " ('1601511642', 0.703744),\n",
       " ('138941811', 0.702880263),\n",
       " ('1501128653', 0.70173794),\n",
       " ('1584728636', 0.7016293),\n",
       " ('1606633714', 0.7009846),\n",
       " ('179241588', 0.6998869),\n",
       " ('1560058068', 0.6984609),\n",
       " ('1598354414', 0.6976475),\n",
       " ('1530162705', 0.69754),\n",
       " ('1552887888', 0.696871638),\n",
       " ('1500680288', 0.6967083),\n",
       " ('1579468274', 0.6960115),\n",
       " ('1706814299', 0.695779145),\n",
       " ('146644608', 0.6954374),\n",
       " ('166375171', 0.6953348),\n",
       " ('1488732573', 0.694755435),\n",
       " ('1787320149', 0.6940311),\n",
       " ('1694916752', 0.6939297),\n",
       " ('1598595701', 0.69330126),\n",
       " ('1584945970', 0.6932672),\n",
       " ('1488346944', 0.692304969),\n",
       " ('1485849355', 0.692294657),\n",
       " ('132800330', 0.691688538),\n",
       " ('1532596011', 0.6915258),\n",
       " ('184871298', 0.6914617),\n",
       " ('1523552045', 0.6912918),\n",
       " ('1561234656', 0.691229939),\n",
       " ('1543082657', 0.690807343),\n",
       " ('1572177269', 0.690265059),\n",
       " ('1488492449', 0.6898137),\n",
       " ('1617510200', 0.68911624),\n",
       " ('1599075870', 0.6886449),\n",
       " ('143911030', 0.688607),\n",
       " ('1595801945', 0.688541055),\n",
       " ('1528115481', 0.6880478),\n",
       " ('1541120737', 0.6880004),\n",
       " ('121795191', 0.6879425),\n",
       " ('114327394', 0.6854985),\n",
       " ('133919935', 0.685286939),\n",
       " ('1544295724', 0.6847936),\n",
       " ('1608530210', 0.684562862),\n",
       " ('1519193578', 0.6843827),\n",
       " ('1603538456', 0.684299648),\n",
       " ('1603839556', 0.6842615),\n",
       " ('1605127507', 0.6837702),\n",
       " ('112413630', 0.68343997),\n",
       " ('1596260892', 0.6834031),\n",
       " ('1590760949', 0.683074832),\n",
       " ('1487852741', 0.6825141),\n",
       " ('1561903510', 0.682230532),\n",
       " ('1589506222', 0.6819695),\n",
       " ('135337897', 0.681620657),\n",
       " ('1615970822', 0.6812211),\n",
       " ('1577320633', 0.680692852),\n",
       " ('1864074548', 0.6804195),\n",
       " ('1793731898', 0.6801133),\n",
       " ('1581507535', 0.6800264),\n",
       " ('1606792489', 0.679898858),\n",
       " ('1505697549', 0.679883957),\n",
       " ('110288311', 0.6795052),\n",
       " ('1566711011', 0.6792717),\n",
       " ('1606832223', 0.6789149),\n",
       " ('144682242', 0.6776293),\n",
       " ('176242259', 0.676951647),\n",
       " ('1512757488', 0.676734149),\n",
       " ('1750886549', 0.676276863),\n",
       " ('1579427575', 0.6757524),\n",
       " ('1483861266', 0.67537266),\n",
       " ('1530475718', 0.675127447),\n",
       " ('1577527847', 0.6748579),\n",
       " ('135955415', 0.674583852),\n",
       " ('1596756080', 0.6743061),\n",
       " ('1581866805', 0.6740122),\n",
       " ('1449554487', 0.673893452),\n",
       " ('1567130236', 0.6736375),\n",
       " ('171149521', 0.6731913),\n",
       " ('1503278785', 0.67290473),\n",
       " ('144230695', 0.67207855),\n",
       " ('1539356425', 0.671957135),\n",
       " ('1552689847', 0.6714834),\n",
       " ('132813027', 0.6713924),\n",
       " ('1024506734', 0.6712669),\n",
       " ('1816727299', 0.6712127),\n",
       " ('1592935075', 0.6708176),\n",
       " ('1490738317', 0.670202732),\n",
       " ('1585228425', 0.669788),\n",
       " ('1556897819', 0.669395745),\n",
       " ('1442996158', 0.669376969),\n",
       " ('1728872877', 0.669274),\n",
       " ('1510356539', 0.6688982),\n",
       " ('1489461459', 0.6685547),\n",
       " ('1572687808', 0.6682043),\n",
       " ('144148875', 0.6675337),\n",
       " ('1547727430', 0.667519331),\n",
       " ('1548339254', 0.6674546),\n",
       " ('1805358876', 0.667341232),\n",
       " ('1531190853', 0.667175),\n",
       " ('1560641668', 0.6664641),\n",
       " ('10917680', 0.6658777),\n",
       " ('1497249836', 0.6658731),\n",
       " ('1480845023', 0.6656159),\n",
       " ('1878318250', 0.665196955),\n",
       " ('101605877', 0.6651347),\n",
       " ('1600928429', 0.6646485),\n",
       " ('1598938750', 0.6644759),\n",
       " ('1860151034', 0.664391458),\n",
       " ('1588852858', 0.664250255),\n",
       " ('134178287', 0.664038),\n",
       " ('117822313', 0.6639844),\n",
       " ('124086716', 0.6636957),\n",
       " ('121590', 0.6636776),\n",
       " ('1606572032', 0.6629439),\n",
       " ('1622546140', 0.6629383),\n",
       " ('103438217', 0.6628489),\n",
       " ('1530376103', 0.6627487),\n",
       " ('133355244', 0.6627014),\n",
       " ('1525916824', 0.6624588),\n",
       " ('145915102', 0.6624385),\n",
       " ('1507944701', 0.662421167),\n",
       " ('1542346070', 0.662157655),\n",
       " ('1553057568', 0.6612679),\n",
       " ('133737576', 0.6612018),\n",
       " ('1213016908', 0.6606084),\n",
       " ('135066795', 0.6605937),\n",
       " ('1545225964', 0.660502255),\n",
       " ('1502349876', 0.66023314),\n",
       " ('1482708121', 0.6598571),\n",
       " ('1495986192', 0.6598196),\n",
       " ('1601394506', 0.659782231),\n",
       " ('1564608629', 0.6597182),\n",
       " ('1517958564', 0.659660161),\n",
       " ('1782526676', 0.659229),\n",
       " ('1499277308', 0.6591475),\n",
       " ('1734798605', 0.6590203),\n",
       " ('1510587372', 0.6585482),\n",
       " ('1584442478', 0.6584549),\n",
       " ('1489736087', 0.658395946),\n",
       " ('157669771', 0.6582748),\n",
       " ('1565841261', 0.657999039),\n",
       " ('1538630202', 0.6579027),\n",
       " ('1798120629', 0.657835066),\n",
       " ('1585429148', 0.657487452),\n",
       " ('1489107194', 0.6574073),\n",
       " ('1492017688', 0.6573582),\n",
       " ('1524499222', 0.6573),\n",
       " ('1583322738', 0.657104),\n",
       " ('1495543269', 0.656926453),\n",
       " ('1546946403', 0.6568209),\n",
       " ('1530937296', 0.656329751),\n",
       " ('130457931', 0.656294167),\n",
       " ('1519179981', 0.656141),\n",
       " ('1558631840', 0.656139433),\n",
       " ('1694962335', 0.6558692),\n",
       " ('1838639165', 0.6555485),\n",
       " ('1865235669', 0.6553982),\n",
       " ('1513268547', 0.6553172),\n",
       " ('1595845096', 0.654476762),\n",
       " ('1495542441', 0.654366255),\n",
       " ('1513624360', 0.653765261),\n",
       " ('1604062479', 0.6537618),\n",
       " ('1496417931', 0.6535877),\n",
       " ('159706980', 0.653545737),\n",
       " ('174232803', 0.653438866),\n",
       " ('17329447', 0.6534293),\n",
       " ('1543111765', 0.653422832),\n",
       " ('1510887547', 0.6529543),\n",
       " ('1513504158', 0.6528921),\n",
       " ('1623697594', 0.6527337),\n",
       " ('1518985894', 0.652510345),\n",
       " ('149185412', 0.6520292),\n",
       " ('1590321793', 0.652022064),\n",
       " ('1516656191', 0.6516342),\n",
       " ('1587633949', 0.6512788),\n",
       " ('1506272995', 0.6510517),\n",
       " ('1673953044', 0.6509766),\n",
       " ('121732152', 0.6508365),\n",
       " ('1496369013', 0.65045476),\n",
       " ('1691069405', 0.6504518),\n",
       " ('1541011788', 0.6503712),\n",
       " ('1010563440', 0.650070965),\n",
       " ('1539535840', 0.649793446),\n",
       " ('1508473479', 0.6496708),\n",
       " ('1544400897', 0.6494836),\n",
       " ('1504449568', 0.649269342),\n",
       " ('1604190660', 0.649240732),\n",
       " ('1560206569', 0.648965538),\n",
       " ('1572819153', 0.6489507),\n",
       " ('1574565735', 0.6488044),\n",
       " ('1797105837', 0.648300469),\n",
       " ('1568960935', 0.647973955),\n",
       " ('1545738990', 0.64774406),\n",
       " ('1527754425', 0.647503734),\n",
       " ('1535211666', 0.6472302),\n",
       " ('1539729268', 0.6469398),\n",
       " ('1560130366', 0.6464976),\n",
       " ('1511886987', 0.64648),\n",
       " ('1851547893', 0.646357536),\n",
       " ('1501368345', 0.64596194),\n",
       " ('1490143351', 0.6457949),\n",
       " ('133115675', 0.6451841),\n",
       " ('1548329461', 0.645097852),\n",
       " ('1748826252', 0.644942462),\n",
       " ('1481038599', 0.6446531),\n",
       " ('1525157294', 0.6442207),\n",
       " ('134983357', 0.6441598),\n",
       " ('1526136145', 0.6439535),\n",
       " ('146778241', 0.6434736),\n",
       " ('1017258258', 0.643057),\n",
       " ('1563993137', 0.6429637),\n",
       " ('1558566404', 0.642820239),\n",
       " ('1557622738', 0.6427089),\n",
       " ('1553943246', 0.6422376),\n",
       " ('1828336234', 0.642151654),\n",
       " ('1532004657', 0.6417085),\n",
       " ('158025917', 0.6413478),\n",
       " ('153022470', 0.6412333),\n",
       " ('1551506298', 0.64117384),\n",
       " ('1593391127', 0.6410941),\n",
       " ('1482799058', 0.6410769),\n",
       " ('1544116430', 0.6407684),\n",
       " ('1601836182', 0.6403696),\n",
       " ('1524714180', 0.639770031),\n",
       " ('1601471237', 0.6397154),\n",
       " ('1505400957', 0.6396848),\n",
       " ('1788110247', 0.6395775),\n",
       " ('155592460', 0.6394584),\n",
       " ('1528294835', 0.639166),\n",
       " ('1673232655', 0.639100254),\n",
       " ('1628160554', 0.6390785),\n",
       " ('1623244854', 0.638831),\n",
       " ('1499113698', 0.6385972),\n",
       " ('1858615404', 0.6382078),\n",
       " ('177958665', 0.638068557),\n",
       " ('1497354814', 0.6380446),\n",
       " ('1565647100', 0.63759),\n",
       " ('1485735582', 0.637393653),\n",
       " ('1605713712', 0.637346268),\n",
       " ('1569367973', 0.6372889),\n",
       " ('1834534263', 0.637135863),\n",
       " ('1537724754', 0.63684833),\n",
       " ('1827009823', 0.636486053),\n",
       " ('1489977151', 0.6360764),\n",
       " ('152252089', 0.635765851),\n",
       " ('1781459606', 0.6354789),\n",
       " ('1553050785', 0.635166168),\n",
       " ('1487892871', 0.635127),\n",
       " ('1520892227', 0.6351236),\n",
       " ('178519409', 0.6351201),\n",
       " ('1807552167', 0.634907544),\n",
       " ('1544881613', 0.6348938),\n",
       " ('169291349', 0.6348489),\n",
       " ('1569178700', 0.6347503),\n",
       " ('1533906302', 0.63472563),\n",
       " ('1837273503', 0.6345641),\n",
       " ('1538370849', 0.6342376),\n",
       " ('104930955', 0.6341288),\n",
       " ('1868611416', 0.634080946),\n",
       " ('1608505158', 0.6339924),\n",
       " ('1759724793', 0.6339687),\n",
       " ('123175470', 0.6339096),\n",
       " ('1154800611', 0.6339086),\n",
       " ('1602098190', 0.6338952),\n",
       " ('109475481', 0.6337954),\n",
       " ('1542157063', 0.6336086),\n",
       " ('1593163517', 0.633459449),\n",
       " ('1508294814', 0.633197248),\n",
       " ('165431252', 0.6331477),\n",
       " ('1491268377', 0.6328906),\n",
       " ('1521000776', 0.6326752),\n",
       " ('1608134013', 0.632475853),\n",
       " ('1717244217', 0.63238734),\n",
       " ('1492503050', 0.6321936),\n",
       " ('1502298999', 0.6321689),\n",
       " ('1497150972', 0.632067263),\n",
       " ('111190316', 0.632012963),\n",
       " ('1483000449', 0.631657),\n",
       " ('1590569290', 0.6315891),\n",
       " ('1605732204', 0.631567061),\n",
       " ('1517636468', 0.6315132),\n",
       " ('1826071352', 0.6313233),\n",
       " ('1545736022', 0.631264567),\n",
       " ('1561741765', 0.631213367),\n",
       " ('1558012481', 0.6310576),\n",
       " ('1751649698', 0.631047547),\n",
       " ('1500958697', 0.631011665),\n",
       " ('1598586219', 0.630713761),\n",
       " ('1550744806', 0.630484343),\n",
       " ('123796236', 0.6303082),\n",
       " ('1596704901', 0.630297065),\n",
       " ('1788138378', 0.6302669),\n",
       " ('111400231', 0.6298808),\n",
       " ('1544151912', 0.62971437),\n",
       " ('1806552281', 0.6296351),\n",
       " ('1515178500', 0.629603),\n",
       " ('134488731', 0.629431367),\n",
       " ('137151130', 0.6293608),\n",
       " ('1858089677', 0.6293357),\n",
       " ('1597506856', 0.6290208),\n",
       " ('1506677787', 0.6290167),\n",
       " ('1490675104', 0.628899157),\n",
       " ('1543625049', 0.628800631),\n",
       " ('176404044', 0.628707767),\n",
       " ('1589610336', 0.628599465),\n",
       " ('1515714464', 0.628588259),\n",
       " ('1567487969', 0.6283133),\n",
       " ('1574587040', 0.6281107),\n",
       " ('1618469723', 0.627410352),\n",
       " ('1525006726', 0.626958132),\n",
       " ('1506142020', 0.6267574),\n",
       " ('1512326166', 0.626584053),\n",
       " ('1482255749', 0.6261962),\n",
       " ('1827814971', 0.626152039),\n",
       " ('1560557675', 0.625847),\n",
       " ('147856837', 0.625724554),\n",
       " ('1539549721', 0.6256965),\n",
       " ('1585531168', 0.6256956),\n",
       " ('1506126945', 0.6250154),\n",
       " ('1503282151', 0.6250032),\n",
       " ('1516308821', 0.6248914),\n",
       " ('1603424262', 0.6247603),\n",
       " ('1585996189', 0.624554157),\n",
       " ('1560658160', 0.6245433),\n",
       " ('1555820810', 0.62440294),\n",
       " ('1522799614', 0.6242866),\n",
       " ('1519260416', 0.623716831),\n",
       " ('1815595687', 0.6231063),\n",
       " ('1574856858', 0.6230207),\n",
       " ('1557513749', 0.62291944),\n",
       " ('139715154', 0.622816265),\n",
       " ('146920982', 0.622730732),\n",
       " ('1551242634', 0.6226611),\n",
       " ('1779055293', 0.6225995),\n",
       " ('142535990', 0.622488439),\n",
       " ('1622206951', 0.622373164),\n",
       " ('111437910', 0.6222364),\n",
       " ('119902405', 0.622168243),\n",
       " ('1589115949', 0.621846855),\n",
       " ('1484548940', 0.621458054),\n",
       " ('1487317491', 0.620931864),\n",
       " ('1568658148', 0.6204166),\n",
       " ('180479247', 0.6202179),\n",
       " ('1016891221', 0.620197356),\n",
       " ('1561052196', 0.619961),\n",
       " ('1538051298', 0.6199245),\n",
       " ('1585127097', 0.6198039),\n",
       " ('1805745466', 0.619614363),\n",
       " ('1759514493', 0.6192756),\n",
       " ('1515688658', 0.6192416),\n",
       " ('1494749142', 0.6190158),\n",
       " ('1827035073', 0.6189529),\n",
       " ('1530555560', 0.6189217),\n",
       " ('147578591', 0.6185847),\n",
       " ('126867898', 0.618484),\n",
       " ('171451352', 0.6183815),\n",
       " ('1599213692', 0.618353367),\n",
       " ('1603277638', 0.6180237),\n",
       " ('171308569', 0.617986143),\n",
       " ('187964410', 0.6174743),\n",
       " ('1511175360', 0.6173257),\n",
       " ('1586419679', 0.6171965),\n",
       " ('1548584352', 0.6171928),\n",
       " ('1600280773', 0.6171751),\n",
       " ('1605123443', 0.6171579),\n",
       " ('116960365', 0.617157757),\n",
       " ('117151239', 0.617087066),\n",
       " ('1532232376', 0.6170715),\n",
       " ('1575737191', 0.6170541),\n",
       " ('1547659355', 0.616968334),\n",
       " ('1505357638', 0.6165035),\n",
       " ('1607861066', 0.616497934),\n",
       " ('1833415461', 0.6164959),\n",
       " ('1753266647', 0.6162946),\n",
       " ('1560610948', 0.616272748),\n",
       " ('1581094168', 0.6162677),\n",
       " ('1541947302', 0.6160198),\n",
       " ('1574460872', 0.615997),\n",
       " ('1537336485', 0.615946531),\n",
       " ('1502996855', 0.6159126),\n",
       " ('1513811119', 0.6156779),\n",
       " ('1498360462', 0.61522454),\n",
       " ('1604953893', 0.61512965),\n",
       " ('156130404', 0.615012944),\n",
       " ('1529494330', 0.6150035),\n",
       " ('130695219', 0.6148741),\n",
       " ('1761161702', 0.6148451),\n",
       " ('1828014871', 0.614778638),\n",
       " ('146782950', 0.614777),\n",
       " ('1602587146', 0.6147454),\n",
       " ('1497997190', 0.6144224),\n",
       " ('1486506204', 0.614412248),\n",
       " ('1598381500', 0.614390433),\n",
       " ('1489264369', 0.614224),\n",
       " ('1534587918', 0.6139212),\n",
       " ('1000018889', 0.613621056),\n",
       " ('1487241982', 0.61346),\n",
       " ('1543536290', 0.6132501),\n",
       " ('1685599836', 0.6132417),\n",
       " ('154303080', 0.613211036),\n",
       " ('1658946125', 0.613065064),\n",
       " ('1476628964', 0.6130638),\n",
       " ('1549305131', 0.6127712),\n",
       " ('133270344', 0.6126093),\n",
       " ('1595287715', 0.61239773),\n",
       " ('1572552998', 0.612374544),\n",
       " ('1484488975', 0.6123136),\n",
       " ('18449062', 0.612029552),\n",
       " ('1551937569', 0.6118636),\n",
       " ('1670699977', 0.6118601),\n",
       " ('1542814573', 0.611833632),\n",
       " ('1764958619', 0.6115031),\n",
       " ('1487778048', 0.6114809),\n",
       " ('1715494216', 0.611425638),\n",
       " ('1519451917', 0.6112909),\n",
       " ('1750714547', 0.6111707),\n",
       " ('1577072196', 0.6111294),\n",
       " ('1205747998', 0.611106753),\n",
       " ('148316696', 0.6109998),\n",
       " ('171769367', 0.6109367),\n",
       " ('1486101826', 0.6108988),\n",
       " ('1706115985', 0.6108714),\n",
       " ('1565904895', 0.610541046),\n",
       " ('1708261995', 0.6104743),\n",
       " ('18595933', 0.610309),\n",
       " ('1484610028', 0.610089362),\n",
       " ('1537286396', 0.6096885),\n",
       " ('1849801694', 0.6095548),\n",
       " ('1540313455', 0.609501541),\n",
       " ('1532153465', 0.609433949),\n",
       " ('1554824735', 0.609111547),\n",
       " ('1596303994', 0.6088764),\n",
       " ('1516816326', 0.608358145),\n",
       " ('1634721140', 0.6082211),\n",
       " ('1533359822', 0.6081273),\n",
       " ('1824047601', 0.6077499),\n",
       " ('1775394139', 0.6077087),\n",
       " ('136654154', 0.6076879),\n",
       " ('116896059', 0.607625246),\n",
       " ('138600953', 0.607585669),\n",
       " ('1462501092', 0.607524157),\n",
       " ('108856949', 0.607364058),\n",
       " ('1543344834', 0.60731554),\n",
       " ('1514816440', 0.6071194),\n",
       " ('1778282005', 0.6064964),\n",
       " ('1624920285', 0.606481731),\n",
       " ('1579998594', 0.6060906),\n",
       " ('1536268954', 0.6059506),\n",
       " ('1590560563', 0.605702),\n",
       " ('1485132379', 0.605650961),\n",
       " ('1841095065', 0.6055915),\n",
       " ('1516991681', 0.6052736),\n",
       " ('1557019665', 0.6049525),\n",
       " ('1492801337', 0.604926348),\n",
       " ('1557599732', 0.6049231),\n",
       " ('1485420807', 0.604921937),\n",
       " ('11267786', 0.6048673),\n",
       " ('1530735832', 0.6048042),\n",
       " ('1594424769', 0.6045903),\n",
       " ('1538737940', 0.604541063),\n",
       " ('165926120', 0.60439086),\n",
       " ('1610440768', 0.6043765),\n",
       " ('1865142270', 0.604305863),\n",
       " ('1585463196', 0.6042519),\n",
       " ('10382452', 0.603716135),\n",
       " ('1502009620', 0.603598356),\n",
       " ('1608037149', 0.603586435),\n",
       " ('1517514007', 0.603574455),\n",
       " ('146209552', 0.6035491),\n",
       " ('1482138302', 0.603525758),\n",
       " ('165301742', 0.603289545),\n",
       " ('16936743', 0.603251457),\n",
       " ('1560979929', 0.603172958),\n",
       " ('1787954275', 0.603120863),\n",
       " ('1583933921', 0.60311),\n",
       " ('1595373924', 0.6028554),\n",
       " ('1567141504', 0.6028238),\n",
       " ('1582375610', 0.602689),\n",
       " ('1503362931', 0.6024435),\n",
       " ('183651921', 0.602330446),\n",
       " ('1844948592', 0.6022816),\n",
       " ('12828101', 0.6019392),\n",
       " ('115539994', 0.6019056),\n",
       " ('141594386', 0.6017782),\n",
       " ('107074307', 0.6017503),\n",
       " ('1511634056', 0.601739645),\n",
       " ('1579368503', 0.6016322),\n",
       " ('1497931321', 0.601622343),\n",
       " ('1828870911', 0.601595163),\n",
       " ('1522339779', 0.601403),\n",
       " ('1502660782', 0.6011662),\n",
       " ('1490244867', 0.600928247),\n",
       " ('1535635523', 0.60087),\n",
       " ('1542080112', 0.600816369),\n",
       " ('1829576059', 0.600809157),\n",
       " ('1598166047', 0.600756943),\n",
       " ('1671044980', 0.6007454),\n",
       " ('1520859552', 0.600686669),\n",
       " ('1810250994', 0.600453734),\n",
       " ('1508821613', 0.6003298),\n",
       " ('1585252935', 0.6001207),\n",
       " ('1563213955', 0.6001013),\n",
       " ('1516551628', 0.5999693),\n",
       " ('17926310', 0.599705637),\n",
       " ('1039888528', 0.5996684),\n",
       " ('1574115438', 0.5996294),\n",
       " ('1522799676', 0.5996239),\n",
       " ('1874629478', 0.599371),\n",
       " ('1601385935', 0.599316061),\n",
       " ('113336480', 0.5991938),\n",
       " ('147233837', 0.599075854),\n",
       " ('111003470', 0.598798633),\n",
       " ('1549808881', 0.598798454),\n",
       " ('1530139821', 0.598756135),\n",
       " ('1534953767', 0.598746538),\n",
       " ('1500321269', 0.5987096),\n",
       " ('1485227587', 0.59865725),\n",
       " ('1546644612', 0.5986119),\n",
       " ('1536495791', 0.598582149),\n",
       " ('1543042215', 0.598436058),\n",
       " ('1570464053', 0.5983276),\n",
       " ('1847443600', 0.598268032),\n",
       " ('1493378952', 0.59818244),\n",
       " ('1415493970', 0.598024368),\n",
       " ('1546399386', 0.5979276),\n",
       " ('1500133709', 0.5978634),\n",
       " ('177692115', 0.5975423),\n",
       " ('1570091982', 0.5974725),\n",
       " ('1506954524', 0.597317159),\n",
       " ('129753393', 0.597167432),\n",
       " ('1550811235', 0.597147346),\n",
       " ('1148100513', 0.597084045),\n",
       " ('1603152397', 0.597036064),\n",
       " ('1527523384', 0.5969924),\n",
       " ('1806769386', 0.5969198),\n",
       " ('102093602', 0.596866),\n",
       " ('1677989582', 0.596854568),\n",
       " ('1838722363', 0.596624255),\n",
       " ('1550799207', 0.5965888),\n",
       " ('1555075078', 0.59642),\n",
       " ('1561547499', 0.5962174),\n",
       " ('100675747', 0.59613204),\n",
       " ('1494357444', 0.5960316),\n",
       " ('1568245680', 0.595964551),\n",
       " ('1587496294', 0.5958656),\n",
       " ('1510740491', 0.595623553),\n",
       " ('1487694752', 0.595559),\n",
       " ('1217138953', 0.5955543),\n",
       " ('1549906000', 0.5954548),\n",
       " ('1555008035', 0.5954324),\n",
       " ('16525880', 0.5954256),\n",
       " ('1021599427', 0.5953884),\n",
       " ('1493806541', 0.595248),\n",
       " ('1515115016', 0.595125437),\n",
       " ('1595688718', 0.595050156),\n",
       " ('105553039', 0.594901145),\n",
       " ('1869322891', 0.594793141),\n",
       " ('1453949008', 0.5945279),\n",
       " ('1675005336', 0.594396949),\n",
       " ('1593297027', 0.593913734),\n",
       " ('1571142685', 0.5938843),\n",
       " ('155696699', 0.593609452),\n",
       " ('1546621867', 0.593527138),\n",
       " ('1587823158', 0.593372),\n",
       " ('1486522249', 0.5930613),\n",
       " ('1415164773', 0.592862),\n",
       " ('1615536950', 0.592762232),\n",
       " ('1575213566', 0.592679858),\n",
       " ('1682235971', 0.5925997),\n",
       " ('1695575388', 0.5925819),\n",
       " ('1506764710', 0.592106342),\n",
       " ('1513393615', 0.591980755),\n",
       " ('1530743848', 0.591964364),\n",
       " ('1524073011', 0.591463745),\n",
       " ('1790720757', 0.591404557),\n",
       " ('1529308426', 0.591383159),\n",
       " ('1580140641', 0.591376662),\n",
       " ('1600071831', 0.5911387),\n",
       " ('158740566', 0.591114163),\n",
       " ('1563436856', 0.5910664),\n",
       " ('1528909925', 0.5909611),\n",
       " ('1167777743', 0.5908191),\n",
       " ('1492606660', 0.5907031),\n",
       " ('1606744637', 0.5904952),\n",
       " ('1731660790', 0.5904003),\n",
       " ('1487770889', 0.5903281),\n",
       " ('1796523083', 0.5903143),\n",
       " ('1652143201', 0.5902697),\n",
       " ('1858528182', 0.590178),\n",
       " ('1483221362', 0.589964449),\n",
       " ('1869724661', 0.5898859),\n",
       " ('150523818', 0.5898503),\n",
       " ('1620305943', 0.5897956),\n",
       " ('1530367380', 0.589635253),\n",
       " ('172329233', 0.5891036),\n",
       " ('1605675458', 0.588888347),\n",
       " ('1495179992', 0.5887261),\n",
       " ('1561623053', 0.588293433),\n",
       " ('1558131819', 0.5882543),\n",
       " ('1698342393', 0.588164032),\n",
       " ('1487580064', 0.5879205),\n",
       " ('1540926272', 0.5877354),\n",
       " ('15452429', 0.587595344),\n",
       " ('1490698933', 0.5875702),\n",
       " ('155370122', 0.5874329),\n",
       " ('1517313325', 0.5872107),\n",
       " ('1585409595', 0.587210238),\n",
       " ('1554164897', 0.5870991),\n",
       " ('1771637207', 0.5870841),\n",
       " ('1553810244', 0.587052166),\n",
       " ('12448623', 0.5869181),\n",
       " ('1642893802', 0.586860538),\n",
       " ('1499878168', 0.586775),\n",
       " ('1523792715', 0.5865832),\n",
       " ('1553622138', 0.58604157),\n",
       " ('1492599646', 0.585845768),\n",
       " ('1564233179', 0.5858367),\n",
       " ('187742163', 0.585746467),\n",
       " ('137277287', 0.5854416),\n",
       " ('1493781716', 0.5854118),\n",
       " ('1571633914', 0.585406065),\n",
       " ('1500313987', 0.58536303),\n",
       " ('1481302509', 0.5853245),\n",
       " ('1489955287', 0.58527267),\n",
       " ('1516035587', 0.5852626),\n",
       " ('1547266759', 0.5852295),\n",
       " ('1575902665', 0.585228741),\n",
       " ('1591636649', 0.585068941),\n",
       " ('1606790911', 0.5843781),\n",
       " ('1486008480', 0.584277),\n",
       " ('1570929975', 0.5841252),\n",
       " ('1566318705', 0.5841137),\n",
       " ('1544441161', 0.5840962),\n",
       " ('1608405986', 0.584086835),\n",
       " ('1656486128', 0.5837446),\n",
       " ('1756711499', 0.583205),\n",
       " ('1560688988', 0.583204865),\n",
       " ('1531287146', 0.5831973),\n",
       " ('1516897624', 0.5831167),\n",
       " ('109570140', 0.5830866),\n",
       " ('1507360740', 0.582990348),\n",
       " ('1558305077', 0.582924962),\n",
       " ('1646425083', 0.58288157),\n",
       " ('1500464996', 0.5828549),\n",
       " ('1599595914', 0.582808733),\n",
       " ('1553322052', 0.5826898),\n",
       " ('1601514805', 0.582551658),\n",
       " ('161146372', 0.5824146),\n",
       " ('1523464982', 0.58229357),\n",
       " ('1571103246', 0.582290053),\n",
       " ('1491083704', 0.5821638),\n",
       " ('1508271527', 0.5820547),\n",
       " ('1873781119', 0.581964552),\n",
       " ('1512859533', 0.5818069),\n",
       " ('1509253480', 0.5814999),\n",
       " ('1611633262', 0.5814413),\n",
       " ('1592956136', 0.5813494),\n",
       " ('1491259737', 0.5812846),\n",
       " ('1417763661', 0.5812762),\n",
       " ('1592678109', 0.5811893),\n",
       " ('1602262571', 0.5809675),\n",
       " ('1540300983', 0.580826938),\n",
       " ('1648901089', 0.5807648),\n",
       " ('1635520707', 0.5807532),\n",
       " ('1532003653', 0.580736637),\n",
       " ('182066931', 0.580463469),\n",
       " ('111817534', 0.580419),\n",
       " ('1767035929', 0.5803748),\n",
       " ('1515872236', 0.580340147),\n",
       " ('1847598049', 0.5802523),\n",
       " ('1428926051', 0.5800145),\n",
       " ('1859746003', 0.5799191),\n",
       " ('150726026', 0.579825461),\n",
       " ('1502203619', 0.5797878),\n",
       " ('1739315857', 0.579696357),\n",
       " ('105444071', 0.5796953),\n",
       " ('1599480183', 0.5796316),\n",
       " ('1867219652', 0.579581559),\n",
       " ('187185293', 0.579573),\n",
       " ('1481687787', 0.5794935),\n",
       " ('164955263', 0.5794575),\n",
       " ('1538479093', 0.5794174),\n",
       " ('1484751036', 0.5793737),\n",
       " ('1564775810', 0.5793547),\n",
       " ('1536341978', 0.5793094),\n",
       " ('1514384604', 0.5790183),\n",
       " ('1560322753', 0.579010069),\n",
       " ('1549380895', 0.5789978),\n",
       " ('1505325300', 0.5789303),\n",
       " ('1587999781', 0.5788183),\n",
       " ('120118183', 0.578296363),\n",
       " ('1591174700', 0.578151166),\n",
       " ('1602350522', 0.5781289),\n",
       " ('1528887030', 0.578100443),\n",
       " ('1545498428', 0.5779896),\n",
       " ('1847996610', 0.577869654),\n",
       " ('1585374862', 0.5772193),\n",
       " ('1564122094', 0.5771921),\n",
       " ('109606602', 0.5771768),\n",
       " ('1562912659', 0.577065468),\n",
       " ('1541357769', 0.5770304),\n",
       " ('16166304', 0.576932132),\n",
       " ('1498407381', 0.576855838),\n",
       " ('1601347993', 0.576412737),\n",
       " ('116305646', 0.5763709),\n",
       " ('115318105', 0.5763419),\n",
       " ('1516655345', 0.576272964),\n",
       " ('186277990', 0.57624),\n",
       " ('1608144907', 0.576134),\n",
       " ('1831830715', 0.5761026),\n",
       " ('1601199285', 0.575944),\n",
       " ('1526206748', 0.5758973),\n",
       " ('174731992', 0.5756103),\n",
       " ('1577278623', 0.5755381),\n",
       " ('150064007', 0.5753483),\n",
       " ('1875348462', 0.5753095),\n",
       " ('162967998', 0.575012863),\n",
       " ('1763389899', 0.574934),\n",
       " ('181328752', 0.574922562),\n",
       " ('1582112542', 0.5748451),\n",
       " ('1494080345', 0.5747593),\n",
       " ('170772053', 0.5745614),\n",
       " ('1564276395', 0.574529946),\n",
       " ('1607138437', 0.5742694),\n",
       " ('1597925020', 0.574003339),\n",
       " ('1533950015', 0.5738746),\n",
       " ('1585326828', 0.5738718),\n",
       " ('1548930268', 0.573761463),\n",
       " ('1608529622', 0.573693037),\n",
       " ('1599799176', 0.5736783),\n",
       " ('1813507826', 0.57363236),\n",
       " ('1858032414', 0.573567),\n",
       " ('1498495987', 0.573433),\n",
       " ('1516829360', 0.5733604),\n",
       " ('1492713649', 0.5732641),\n",
       " ('148286327', 0.5732213),\n",
       " ('106368060', 0.5728274),\n",
       " ('1568783294', 0.572692037),\n",
       " ('1850858936', 0.5726109),\n",
       " ('1654523652', 0.572479248),\n",
       " ('1573576015', 0.5721254),\n",
       " ('1583821184', 0.571946561),\n",
       " ('184797823', 0.5718791),\n",
       " ('1494218802', 0.571592569),\n",
       " ('1492429820', 0.571561456),\n",
       " ('1865495892', 0.571455359),\n",
       " ('1680665716', 0.5712841),\n",
       " ('166474965', 0.5712525),\n",
       " ('1547400400', 0.571212),\n",
       " ('1597483931', 0.5711528),\n",
       " ('15345004', 0.5708941),\n",
       " ('1482162557', 0.5707802),\n",
       " ('1482705750', 0.57065624),\n",
       " ('1489950029', 0.570628345),\n",
       " ('10146683', 0.5705739),\n",
       " ('1483846157', 0.5704823),\n",
       " ('1621204387', 0.570174754),\n",
       " ('1480119373', 0.570149),\n",
       " ('1556160592', 0.5700859),\n",
       " ('1502907817', 0.570081353),\n",
       " ('1500252674', 0.570032537),\n",
       " ('1583837822', 0.5697409),\n",
       " ('1568680199', 0.5697266),\n",
       " ('1560480281', 0.5696984),\n",
       " ('1561361445', 0.569552541),\n",
       " ('121434341', 0.5694679),\n",
       " ('1827102505', 0.569317639),\n",
       " ('1518639613', 0.5692673),\n",
       " ('175208251', 0.5691794),\n",
       " ('1608894626', 0.5691492),\n",
       " ('1490761622', 0.5691189),\n",
       " ('1557628941', 0.5689313),\n",
       " ('1494877938', 0.5687756),\n",
       " ('1672519658', 0.5687663),\n",
       " ('1522625539', 0.568668246),\n",
       " ('1043256439', 0.568499267),\n",
       " ('1594474515', 0.5683765),\n",
       " ('1541113916', 0.568304956),\n",
       " ('1494556159', 0.5682144),\n",
       " ('1693103395', 0.5680462),\n",
       " ('18506878', 0.567886531),\n",
       " ('1711203498', 0.5678163),\n",
       " ('1779713490', 0.567798),\n",
       " ('142055954', 0.5677877),\n",
       " ('1592299288', 0.56764245),\n",
       " ('168929752', 0.5675354),\n",
       " ('1599286762', 0.5672588),\n",
       " ('164756760', 0.5671814),\n",
       " ('111364321', 0.5670705),\n",
       " ('1517677111', 0.5668948),\n",
       " ('1511587374', 0.5668162),\n",
       " ('1419972110', 0.566649556),\n",
       " ('173160397', 0.5666341),\n",
       " ('1552577611', 0.566320837),\n",
       " ('1505754624', 0.5662845),\n",
       " ('1522207511', 0.566088557),\n",
       " ('1558363312', 0.5659776),\n",
       " ('1650899034', 0.565965831),\n",
       " ('1603585558', 0.565725),\n",
       " ('186688418', 0.5656641),\n",
       " ('1490663290', 0.5656075),\n",
       " ('11261906', 0.5655472),\n",
       " ('1576613769', 0.565538347),\n",
       " ('1582090474', 0.565504551),\n",
       " ('1681738764', 0.565473735),\n",
       " ('1507235653', 0.565437),\n",
       " ('1764960375', 0.565397143),\n",
       " ('1730096675', 0.56532073),\n",
       " ('1497398057', 0.5652228),\n",
       " ('119740003', 0.565219045),\n",
       " ('1823041465', 0.5649504),\n",
       " ('1511278240', 0.5648856),\n",
       " ('1521147172', 0.5646962),\n",
       " ('1546870398', 0.5645848),\n",
       " ('1640617681', 0.5644414),\n",
       " ('1520626411', 0.5644334),\n",
       " ('1511322535', 0.564236045),\n",
       " ('1638010282', 0.5641389),\n",
       " ('1543297216', 0.5641118),\n",
       " ('1756979668', 0.56408596),\n",
       " ('1505639496', 0.5640532),\n",
       " ('1543760985', 0.5639862),\n",
       " ('1598084377', 0.563889146),\n",
       " ('1645187074', 0.56388),\n",
       " ('1832228304', 0.563714743),\n",
       " ('1490025227', 0.5637012),\n",
       " ('1793798057', 0.5636902),\n",
       " ('1615335876', 0.5636615),\n",
       " ('1497822740', 0.5636411),\n",
       " ('1844551489', 0.5634605),\n",
       " ('1510320776', 0.5634396),\n",
       " ('1604285016', 0.5632125),\n",
       " ('176303532', 0.563069344),\n",
       " ('1606269494', 0.5628258),\n",
       " ('1480850188', 0.5627013),\n",
       " ('1578513206', 0.562640846),\n",
       " ('1682270485', 0.562500238),\n",
       " ('1761255231', 0.5624992),\n",
       " ('1845517731', 0.5621735),\n",
       " ('1571657589', 0.562161565),\n",
       " ('1577965095', 0.5621007),\n",
       " ('130628196', 0.5619455),\n",
       " ('1525198965', 0.561934352),\n",
       " ('1482457059', 0.5618557),\n",
       " ('1596834353', 0.5617184),\n",
       " ('1540445079', 0.561667),\n",
       " ('1539865086', 0.561575353),\n",
       " ('1592897961', 0.5614668),\n",
       " ('1591318841', 0.5614308),\n",
       " ('1501690789', 0.561423838),\n",
       " ('1794343198', 0.5613976),\n",
       " ('1592616856', 0.5612586),\n",
       " ('1509402525', 0.560871),\n",
       " ('1579931793', 0.5607398),\n",
       " ('1550481629', 0.5607008),\n",
       " ('1517986545', 0.560666561),\n",
       " ('113566768', 0.5606645),\n",
       " ('1583694179', 0.560556233),\n",
       " ('1590227576', 0.560439944),\n",
       " ('118437950', 0.5604148),\n",
       " ('1515353665', 0.5603105),\n",
       " ('1504943972', 0.5601096),\n",
       " ('1431736832', 0.5597194),\n",
       " ('1501629688', 0.559599936),\n",
       " ('1798013924', 0.5595292),\n",
       " ('117210874', 0.5594704),\n",
       " ('1548936948', 0.559237063),\n",
       " ('128476445', 0.559227169),\n",
       " ('1516987176', 0.5592191),\n",
       " ('1525054340', 0.558852732),\n",
       " ('1795007352', 0.558764458),\n",
       " ('1532577894', 0.558659),\n",
       " ('1648985934', 0.558649957),\n",
       " ('1556206354', 0.558543563),\n",
       " ('163075107', 0.558493853),\n",
       " ('1526749440', 0.558467031),\n",
       " ('1575103378', 0.5584203),\n",
       " ('1567789586', 0.558304846),\n",
       " ('1439114241', 0.5581787),\n",
       " ('1547043203', 0.5581429),\n",
       " ('160534540', 0.5581214),\n",
       " ('1520986000', 0.5579241),\n",
       " ('178584157', 0.557789564),\n",
       " ('1521327265', 0.5576968),\n",
       " ('1673189746', 0.557557344),\n",
       " ('1495918796', 0.5575042),\n",
       " ('1571384192', 0.557415545),\n",
       " ('1536596105', 0.557358563),\n",
       " ('1498349721', 0.557241559),\n",
       " ('1779199206', 0.557207167),\n",
       " ('1602108763', 0.5571543),\n",
       " ('1488764676', 0.5571456),\n",
       " ('1592631076', 0.5571126),\n",
       " ('1581554029', 0.5568858),\n",
       " ('1675329038', 0.5568811),\n",
       " ('1503841096', 0.5568265),\n",
       " ('1571374013', 0.556793332),\n",
       " ('182663547', 0.556777358),\n",
       " ('1579131914', 0.556737065),\n",
       " ('167235341', 0.5565056),\n",
       " ('1608613360', 0.5564523),\n",
       " ('1524917932', 0.556432247),\n",
       " ('147620363', 0.5563481),\n",
       " ('1497388650', 0.556337059),\n",
       " ('1551124186', 0.556288838),\n",
       " ('1858638988', 0.5562442),\n",
       " ('1528183072', 0.556028366),\n",
       " ('1494162500', 0.5553586),\n",
       " ('1589869945', 0.5553302),\n",
       " ('155917439', 0.555293),\n",
       " ('1038470390', 0.5552916),\n",
       " ('1494446335', 0.555256665),\n",
       " ('1443119302', 0.5547731),\n",
       " ('1722809055', 0.5547074),\n",
       " ('136377090', 0.554650068),\n",
       " ('141603098', 0.5544004),\n",
       " ('1510317544', 0.55430907),\n",
       " ('1494726991', 0.554301441),\n",
       " ('1482319603', 0.554026365),\n",
       " ('1494564286', 0.5538941),\n",
       " ('1571967792', 0.553859234),\n",
       " ('1531078194', 0.5538297),\n",
       " ('1585138553', 0.5538065),\n",
       " ('1560656657', 0.553640246),\n",
       " ('1590626629', 0.5535376),\n",
       " ('1565476983', 0.553502858),\n",
       " ('1608760508', 0.553424358),\n",
       " ('1597229661', 0.5534182),\n",
       " ('1514021015', 0.553126752),\n",
       " ('143214892', 0.553043842),\n",
       " ('1481791030', 0.552979767),\n",
       " ('1596567652', 0.5529374),\n",
       " ('1571439816', 0.552708268),\n",
       " ('1606488985', 0.5526392),\n",
       " ('1593326420', 0.5526019),\n",
       " ('1507986445', 0.5525416),\n",
       " ...]"
      ]
     },
     "execution_count": 44,
     "metadata": {},
     "output_type": "execute_result"
    }
   ],
   "source": [
    "search_paper(\"Service provider\")"
   ]
  },
  {
   "cell_type": "code",
   "execution_count": 38,
   "metadata": {},
   "outputs": [
    {
     "ename": "KeyError",
     "evalue": "'Network'",
     "output_type": "error",
     "traceback": [
      "\u001b[0;31m---------------------------------------------------------------------------\u001b[0m",
      "\u001b[0;31mKeyError\u001b[0m                                  Traceback (most recent call last)",
      "\u001b[0;32m<ipython-input-38-25bed97e6da8>\u001b[0m in \u001b[0;36m<module>\u001b[0;34m\u001b[0m\n\u001b[0;32m----> 1\u001b[0;31m \u001b[0mkw_dic\u001b[0m\u001b[0;34m[\u001b[0m\u001b[0;34m'Network'\u001b[0m\u001b[0;34m]\u001b[0m\u001b[0;34m\u001b[0m\u001b[0m\n\u001b[0m",
      "\u001b[0;31mKeyError\u001b[0m: 'Network'"
     ]
    }
   ],
   "source": [
    "kw_dic['Network']"
   ]
  },
  {
   "cell_type": "code",
   "execution_count": 39,
   "metadata": {},
   "outputs": [],
   "source": [
    "def search_paper(sentence:str):\n",
    "    sentence = sentence.strip()\n",
    "    ans_dic = {}\n",
    "    if sentence in title_dic:\n",
    "        ans_dic[title_dic[sentence]] = 10.0\n",
    "    sentence = sentence.split(' ')\n",
    "    for st in range(len(sentence)):\n",
    "        for ed in range(st+1,len(sentence)+1):\n",
    "            kw = ' '.join(sentence[st:ed])\n",
    "            if kw in kw_dic:\n",
    "                for idx,weight in kw_dic[kw]:\n",
    "                    if idx not in ans_dic:\n",
    "                        ans_dic[idx] = 0\n",
    "                    ans_dic[idx] += weight\n",
    "    return sorted(ans_dic.items(),key = lambda x:x[1],reverse = True)"
   ]
  },
  {
   "cell_type": "code",
   "execution_count": 22,
   "metadata": {},
   "outputs": [
    {
     "data": {
      "text/plain": [
       "213661"
      ]
     },
     "execution_count": 22,
     "metadata": {},
     "output_type": "execute_result"
    }
   ],
   "source": [
    "len(citation_dict)"
   ]
  },
  {
   "cell_type": "code",
   "execution_count": 19,
   "metadata": {},
   "outputs": [
    {
     "name": "stderr",
     "output_type": "stream",
     "text": [
      "100%|██████████| 5/5 [00:00<00:00, 158.45it/s]"
     ]
    },
    {
     "name": "stdout",
     "output_type": "stream",
     "text": [
      "1\n",
      "2\n",
      "3\n",
      "4\n",
      "7\n"
     ]
    },
    {
     "name": "stderr",
     "output_type": "stream",
     "text": [
      "\n"
     ]
    }
   ],
   "source": [
    "a = [1,2,3,4,7]\n",
    "for i in tqdm(a):\n",
    "    print(i)"
   ]
  },
  {
   "cell_type": "code",
   "execution_count": 18,
   "metadata": {},
   "outputs": [],
   "source": [
    "from tqdm import tqdm"
   ]
  },
  {
   "cell_type": "code",
   "execution_count": 23,
   "metadata": {},
   "outputs": [],
   "source": [
    "import pickle"
   ]
  },
  {
   "cell_type": "code",
   "execution_count": 24,
   "metadata": {},
   "outputs": [
    {
     "data": {
      "text/plain": [
       "{'id': '1000018889',\n",
       " 'title': 'Remote Policy Enforcement for Trusted Application Execution in Mobile Environments',\n",
       " 'authors': [{'name': 'Fabio Martinelli',\n",
       "   'id': '2107438709',\n",
       "   'org': 'Istituto di Informatica e Telematica, Consiglio Nazionale delle Ricerche, Pisa, Italy#TAB#'},\n",
       "  {'name': 'Ilaria Matteucci',\n",
       "   'id': '2311169168',\n",
       "   'org': 'Istituto di Informatica e Telematica, Consiglio Nazionale delle Ricerche, Pisa, Italy#TAB#'},\n",
       "  {'name': 'Andrea Saracino',\n",
       "   'id': '2140477378',\n",
       "   'org': \"Dipartimento di Ingegneria dell'Informazione, Universit di Pisa, Pisa, Italy and Istituto di Informatica e Telematica, Consiglio Nazionale delle Ricerche, Pisa, Italy#TAB#\"},\n",
       "  {'name': 'Daniele Sgandurra',\n",
       "   'id': '252575161',\n",
       "   'org': 'Istituto di Informatica e Telematica, Consiglio Nazionale delle Ricerche, Pisa, Italy#TAB#'}],\n",
       " 'references': ['1504669610', '1542792105', '1639158619']}"
      ]
     },
     "execution_count": 24,
     "metadata": {},
     "output_type": "execute_result"
    }
   ],
   "source": [
    "node_dict['1000018889']"
   ]
  },
  {
   "cell_type": "code",
   "execution_count": 38,
   "metadata": {},
   "outputs": [
    {
     "data": {
      "text/plain": [
       "['1000018889',\n",
       " '1000328014',\n",
       " '101667962',\n",
       " '113540453',\n",
       " '1172671697',\n",
       " '121425029',\n",
       " '135494744',\n",
       " '138746455',\n",
       " '139529891',\n",
       " '140180654',\n",
       " '1480908949',\n",
       " '1485377379',\n",
       " '1485725695',\n",
       " '1486199168',\n",
       " '1486853642',\n",
       " '1492629097',\n",
       " '1492794793',\n",
       " '1494423854',\n",
       " '1497836530',\n",
       " '1510961363',\n",
       " '1512963268',\n",
       " '1513989276',\n",
       " '1533718058',\n",
       " '1539700910',\n",
       " '1539721902',\n",
       " '1540359676',\n",
       " '1543782959',\n",
       " '1557188230',\n",
       " '1562425714',\n",
       " '1562827700',\n",
       " '1565275587',\n",
       " '1571942358',\n",
       " '1579534168',\n",
       " '1582567049',\n",
       " '1584984507',\n",
       " '1591991997',\n",
       " '1592544607',\n",
       " '1597048264',\n",
       " '1600323250',\n",
       " '1601816691',\n",
       " '1617766523',\n",
       " '1639158619',\n",
       " '1657886273',\n",
       " '1658613573',\n",
       " '1753645083',\n",
       " '175930347',\n",
       " '1773459340',\n",
       " '1825665527',\n",
       " '183206270']"
      ]
     },
     "execution_count": 38,
     "metadata": {},
     "output_type": "execute_result"
    }
   ],
   "source": [
    "author_dict['2107438709']"
   ]
  },
  {
   "cell_type": "code",
   "execution_count": 43,
   "metadata": {},
   "outputs": [
    {
     "data": {
      "text/plain": [
       "'aaa'"
      ]
     },
     "execution_count": 43,
     "metadata": {},
     "output_type": "execute_result"
    }
   ],
   "source": [
    "a = 'AAA'\n",
    "a.lower()"
   ]
  },
  {
   "cell_type": "code",
   "execution_count": 39,
   "metadata": {},
   "outputs": [],
   "source": [
    "with open('data/processed_data_v11_1.pkl','wb') as f:\n",
    "    pickle.dump((node_dict,citation_dict,author_dict),f)"
   ]
  },
  {
   "cell_type": "code",
   "execution_count": null,
   "metadata": {},
   "outputs": [],
   "source": [
    "citation_dict['']"
   ]
  },
  {
   "cell_type": "code",
   "execution_count": 35,
   "metadata": {},
   "outputs": [],
   "source": [
    "def gen_graph(index):\n",
    "    index = str(index)\n",
    "    g = nx.DiGraph()\n",
    "    root_name = node_dict[index]['title']\n",
    "    g.add_node(index,label = root_name,value = 1.0,modularity_class = 'self')\n",
    "    for nd in node_dict[index]['references']:\n",
    "        if len(g.nodes)<5:\n",
    "            g.add_node(nd,label = node_dict[nd]['title'],value = get_value(index,nd), modularity_class = 'references')\n",
    "            g.add_edge(nd,index)\n",
    "    for nd in citation_dict.get(index,[]):\n",
    "        if len(g.nodes)<10:\n",
    "            g.add_node(nd,label = node_dict[nd]['title'],value = get_value(index,nd), modularity_class = 'cited')\n",
    "            g.add_edge(index,nd)\n",
    "    for aut in node_dict[index]['authors']:\n",
    "        for nd in author_dict[aut['id']]:\n",
    "            if nd not in g.nodes and len(g.nodes)<15:\n",
    "                g.add_node(nd,label = node_dict[nd]['title'],value = get_value(index,nd), modularity_class = 'co-author')\n",
    "                g.add_edge(index,nd)\n",
    "    return g"
   ]
  },
  {
   "cell_type": "code",
   "execution_count": 36,
   "metadata": {},
   "outputs": [],
   "source": [
    "g = gen_graph('1000018889')"
   ]
  },
  {
   "cell_type": "code",
   "execution_count": null,
   "metadata": {},
   "outputs": [],
   "source": [
    "import time"
   ]
  },
  {
   "cell_type": "code",
   "execution_count": 29,
   "metadata": {},
   "outputs": [],
   "source": [
    "import networkx as nx"
   ]
  },
  {
   "cell_type": "code",
   "execution_count": 31,
   "metadata": {},
   "outputs": [],
   "source": [
    "def get_value(x,y):\n",
    "    return 1.0"
   ]
  },
  {
   "cell_type": "code",
   "execution_count": 43,
   "metadata": {},
   "outputs": [
    {
     "name": "stdout",
     "output_type": "stream",
     "text": [
      "11.968333959579468\n"
     ]
    }
   ],
   "source": [
    "tic = time()\n",
    "with open('data/processed_data_v11_1.pkl','rb') as f:\n",
    "    node_dict,citation_dict,author_dict = pickle.load(f)\n",
    "toc = time()\n",
    "print(toc-tic)"
   ]
  },
  {
   "cell_type": "code",
   "execution_count": 42,
   "metadata": {},
   "outputs": [
    {
     "data": {
      "text/plain": [
       "1584241841.9177232"
      ]
     },
     "execution_count": 42,
     "metadata": {},
     "output_type": "execute_result"
    }
   ],
   "source": [
    "from time import time\n",
    "time()"
   ]
  },
  {
   "cell_type": "code",
   "execution_count": 44,
   "metadata": {},
   "outputs": [],
   "source": [
    "g = nx.DiGraph()\n",
    "g.add_node('a',attr = 1)\n",
    "g.add_node('b',attr = 2)\n",
    "g.add_edge('a','b',val = 1)"
   ]
  },
  {
   "cell_type": "code",
   "execution_count": 47,
   "metadata": {},
   "outputs": [
    {
     "data": {
      "text/plain": [
       "[('a', {'attr': 1}), ('b', {'attr': 2})]"
      ]
     },
     "execution_count": 47,
     "metadata": {},
     "output_type": "execute_result"
    }
   ],
   "source": [
    "list(dict(g.nodes).items())"
   ]
  },
  {
   "cell_type": "code",
   "execution_count": 49,
   "metadata": {},
   "outputs": [
    {
     "data": {
      "text/plain": [
       "{'val': 1}"
      ]
     },
     "execution_count": 49,
     "metadata": {},
     "output_type": "execute_result"
    }
   ],
   "source": [
    "g.edges[('a','b')]"
   ]
  },
  {
   "cell_type": "code",
   "execution_count": 60,
   "metadata": {},
   "outputs": [
    {
     "data": {
      "text/plain": [
       "[5, 3, 3, 2, 2, 2, 1, 1, 1, 0, 0]"
      ]
     },
     "execution_count": 60,
     "metadata": {},
     "output_type": "execute_result"
    }
   ],
   "source": [
    "a = [3,2,1,0,1,2,3,5,0,1,2]\n",
    "a.sort(reverse = True)\n",
    "a"
   ]
  },
  {
   "cell_type": "code",
   "execution_count": 61,
   "metadata": {},
   "outputs": [],
   "source": [
    "a = filter(lambda x:x>1,a)"
   ]
  },
  {
   "cell_type": "code",
   "execution_count": 62,
   "metadata": {},
   "outputs": [
    {
     "data": {
      "text/plain": [
       "[5, 3, 3, 2, 2, 2]"
      ]
     },
     "execution_count": 62,
     "metadata": {},
     "output_type": "execute_result"
    }
   ],
   "source": [
    "list(a)"
   ]
  },
  {
   "cell_type": "code",
   "execution_count": 18,
   "metadata": {},
   "outputs": [],
   "source": [
    "import numpy as np"
   ]
  },
  {
   "cell_type": "code",
   "execution_count": 19,
   "metadata": {},
   "outputs": [
    {
     "data": {
      "text/plain": [
       "11.0"
      ]
     },
     "execution_count": 19,
     "metadata": {},
     "output_type": "execute_result"
    }
   ],
   "source": [
    "np.ceil(10.5)"
   ]
  },
  {
   "cell_type": "code",
   "execution_count": 3,
   "metadata": {},
   "outputs": [],
   "source": [
    "import json"
   ]
  },
  {
   "cell_type": "code",
   "execution_count": 4,
   "metadata": {},
   "outputs": [],
   "source": [
    "weight_dict = None\n",
    "id2idx = None\n",
    "\n",
    "def load_baseline():\n",
    "    with open('data/edge_query_dict.json', 'r') as f:\n",
    "        edge_query_dict = json.load(f)\n",
    "    with open('data/id2idx.json', 'r') as f:\n",
    "        id2idx = json.load(f)\n",
    "    return edge_query_dict, id2idx\n",
    "\n",
    "def query_weight(id_i, id_j, weight: dict, id2idx: dict) -> list:\n",
    "    idx_i, idx_j = id2idx[id_i], id2idx[id_j]\n",
    "    key = str(idx_i) + '_' + str(idx_j)\n",
    "    queried_results = weight[key]\n",
    "    return queried_results"
   ]
  },
  {
   "cell_type": "code",
   "execution_count": 5,
   "metadata": {},
   "outputs": [],
   "source": [
    "weight_dict,id2idx = load_baseline()"
   ]
  },
  {
   "cell_type": "code",
   "execution_count": 73,
   "metadata": {},
   "outputs": [
    {
     "data": {
      "text/plain": [
       "[0, 7484, 0.3333333333333333]"
      ]
     },
     "execution_count": 73,
     "metadata": {},
     "output_type": "execute_result"
    }
   ],
   "source": [
    "weight_dict['1835_500005']"
   ]
  },
  {
   "cell_type": "code",
   "execution_count": 117,
   "metadata": {},
   "outputs": [
    {
     "name": "stderr",
     "output_type": "stream",
     "text": [
      "  0%|          | 175/614214 [00:31<37:23:52,  4.56it/s]"
     ]
    },
    {
     "ename": "KeyboardInterrupt",
     "evalue": "",
     "output_type": "error",
     "traceback": [
      "\u001b[0;31m---------------------------------------------------------------------------\u001b[0m",
      "\u001b[0;31mKeyboardInterrupt\u001b[0m                         Traceback (most recent call last)",
      "\u001b[0;32m<ipython-input-117-4c1449d01cae>\u001b[0m in \u001b[0;36m<module>\u001b[0;34m\u001b[0m\n\u001b[1;32m     11\u001b[0m                 \u001b[0merr\u001b[0m \u001b[0;34m+=\u001b[0m \u001b[0;36m1\u001b[0m\u001b[0;34m\u001b[0m\u001b[0m\n\u001b[1;32m     12\u001b[0m     \u001b[0;32mfor\u001b[0m \u001b[0maut\u001b[0m \u001b[0;32min\u001b[0m \u001b[0mnd\u001b[0m\u001b[0;34m[\u001b[0m\u001b[0;34m'authors'\u001b[0m\u001b[0;34m]\u001b[0m\u001b[0;34m:\u001b[0m\u001b[0;34m\u001b[0m\u001b[0m\n\u001b[0;32m---> 13\u001b[0;31m         \u001b[0;32mfor\u001b[0m \u001b[0mref\u001b[0m \u001b[0;32min\u001b[0m \u001b[0mauthor_dict\u001b[0m\u001b[0;34m[\u001b[0m\u001b[0maut\u001b[0m\u001b[0;34m]\u001b[0m\u001b[0;34m:\u001b[0m\u001b[0;34m\u001b[0m\u001b[0m\n\u001b[0m\u001b[1;32m     14\u001b[0m             \u001b[0;32mtry\u001b[0m\u001b[0;34m:\u001b[0m\u001b[0;34m\u001b[0m\u001b[0m\n\u001b[1;32m     15\u001b[0m                 \u001b[0mquery_weight\u001b[0m\u001b[0;34m(\u001b[0m\u001b[0midx\u001b[0m\u001b[0;34m,\u001b[0m\u001b[0mref\u001b[0m\u001b[0;34m,\u001b[0m\u001b[0mweight_dict\u001b[0m\u001b[0;34m,\u001b[0m\u001b[0mid2idx\u001b[0m\u001b[0;34m)\u001b[0m\u001b[0;34m\u001b[0m\u001b[0m\n",
      "\u001b[0;31mKeyboardInterrupt\u001b[0m: "
     ]
    }
   ],
   "source": [
    "err = 0\n",
    "for idx in tqdm(nds):\n",
    "    nd = nds[idx]\n",
    "    for ref in nd['references']:\n",
    "        try:\n",
    "            query_weight(idx,ref,weight_dict,id2idx)\n",
    "        except:\n",
    "            try:\n",
    "                query_weight(ref,idx,weight_dict,id2idx)\n",
    "            except:\n",
    "                err += 1\n",
    "    for aut in nd['authors']:\n",
    "        for ref in author_dict[aut]:\n",
    "            try:\n",
    "                query_weight(idx,ref,weight_dict,id2idx)\n",
    "            except:\n",
    "                try:\n",
    "                    query_weight(ref,idx,weight_dict,id2idx)\n",
    "                except:\n",
    "                    err += 1\n",
    "print(err)"
   ]
  },
  {
   "cell_type": "code",
   "execution_count": 118,
   "metadata": {},
   "outputs": [
    {
     "data": {
      "text/plain": [
       "3673"
      ]
     },
     "execution_count": 118,
     "metadata": {},
     "output_type": "execute_result"
    }
   ],
   "source": [
    "err"
   ]
  },
  {
   "cell_type": "code",
   "execution_count": 114,
   "metadata": {},
   "outputs": [
    {
     "data": {
      "text/plain": [
       "[0.9802898074904512, 3, 0.7174531897448793]"
      ]
     },
     "execution_count": 114,
     "metadata": {},
     "output_type": "execute_result"
    }
   ],
   "source": [
    "weight_dict['1835_1835']"
   ]
  },
  {
   "cell_type": "code",
   "execution_count": 8,
   "metadata": {},
   "outputs": [],
   "source": [
    "idx2id = dict((v,k) for k,v in id2idx.items())"
   ]
  },
  {
   "cell_type": "code",
   "execution_count": 12,
   "metadata": {},
   "outputs": [
    {
     "data": {
      "text/plain": [
       "{'title': 'The generalized MDL approach for summarization',\n",
       " 'authors': ['Laks V. S. Lakshmanan',\n",
       "  'Raymond T. Ng',\n",
       "  'Christine Xing Wang',\n",
       "  'Xiaodong Zhou',\n",
       "  'Theodore Johnson'],\n",
       " 'venue': 'very large data bases',\n",
       " 'year': 2002,\n",
       " 'citation': 47,\n",
       " 'keywords': ['Automatic summarization',\n",
       "  'Online analytical processing',\n",
       "  'Data cube',\n",
       "  'Minimum description length',\n",
       "  'Data mining'],\n",
       " 'abstract': 'There are many applications in OLAP and data analysis where we identify regions of interest. For example, in OLAP, an analysis query involving aggregate sales performance of various products in different locations and seasons could help identify interesting cells, such as cells of a data cube having an aggregate sales higher than a threshold. While a normal answer to such a quiry merely returns all interesting cells, it may be far more informative to the user if the system return summaries or descriptions of regions formed from the identified cells. The minimum Description Length (MDL) principle is a well-known strategy for finding such region descriptions.\\r\\n\\r\\nIn this paper, we propose a generalization of the MDL principle, called GMDL, and show that GMDL leads to fewer regions than MDL, and hence more concise \"answers\" returned to the user. The key idea is that a region may contain \"don\\'t care\" cells (up to a global maximum), if these \"don\\'t care\" cells help to form bigger summary regions, leading to a more concise overall summary. We study the problem of generating minimal region descriptions under the GMDL principle for two different scenarios. In the first, all dimensions of the data space are spatial. In the second scenario, all dimentions are categorial and organized in hierarchies. We propose region finding algorithms for both scenarios and evaluate their run time and compression performance using detailed experimentation. Our results show the effectiveness of the GMDL principle and the proposed algorithms.',\n",
       " 'references': ['1516516841', '1543222807']}"
      ]
     },
     "execution_count": 12,
     "metadata": {},
     "output_type": "execute_result"
    }
   ],
   "source": [
    "node_dict[idx2id[191760]]"
   ]
  },
  {
   "cell_type": "code",
   "execution_count": 13,
   "metadata": {},
   "outputs": [
    {
     "data": {
      "text/plain": [
       "{'title': 'Personalizing XML text search in PIMENT',\n",
       " 'authors': ['Sihem Amer-Yahia',\n",
       "  'Irini Fundulaki',\n",
       "  'Prateek Jain',\n",
       "  'Laks V. S. Lakshmanan'],\n",
       " 'venue': 'very large data bases',\n",
       " 'year': 2005,\n",
       " 'citation': 4,\n",
       " 'keywords': ['Query expansion',\n",
       "  'Ranking (information retrieval)',\n",
       "  'Web query classification',\n",
       "  'Sargable',\n",
       "  'Web search query'],\n",
       " 'abstract': \"A growing number of text-rich XML repositories are being made available. As a result, more efforts have been deployed to provide XML full-text search that combines querying structure with complex conditions on text ranging from simple keyword search to sophisticated proximity search composed with stemming and thesaurus. However, one of the key challenges in full-text search is to match users' expectations and determine the most relevant answers to a full-text query. In this context, we propose query personalization as a way to take user profiles into account in order to customize query answers based on individual users' needs.We present PIMENT, a system that enables query personalization by query rewriting and answer ranking. PIMENT is composed of a profile repository that stores user profiles, a query customizer that rewrites user queries based on user profiles and, a ranking module to rank query answers.\",\n",
       " 'references': []}"
      ]
     },
     "execution_count": 13,
     "metadata": {},
     "output_type": "execute_result"
    }
   ],
   "source": [
    "node_dict[idx2id[110451]]"
   ]
  },
  {
   "cell_type": "code",
   "execution_count": 7,
   "metadata": {},
   "outputs": [
    {
     "data": {
      "text/plain": [
       "614214"
      ]
     },
     "execution_count": 7,
     "metadata": {},
     "output_type": "execute_result"
    }
   ],
   "source": [
    "len(id2idx)"
   ]
  },
  {
   "cell_type": "code",
   "execution_count": 76,
   "metadata": {},
   "outputs": [
    {
     "data": {
      "text/plain": [
       "4950226"
      ]
     },
     "execution_count": 76,
     "metadata": {},
     "output_type": "execute_result"
    }
   ],
   "source": [
    "len(weight_dict)"
   ]
  },
  {
   "cell_type": "code",
   "execution_count": 6,
   "metadata": {},
   "outputs": [
    {
     "name": "stdout",
     "output_type": "stream",
     "text": [
      "0\n"
     ]
    }
   ],
   "source": [
    "num = 0\n",
    "for eg in weight_dict:\n",
    "    u,v = tuple(eg.split('_'))\n",
    "    if v + '_' + u not in weight_dict:\n",
    "        num += 1\n",
    "print(num)"
   ]
  },
  {
   "cell_type": "code",
   "execution_count": 104,
   "metadata": {},
   "outputs": [],
   "source": [
    "g = nx.DiGraph()\n",
    "g.add_node('a')\n",
    "g.add_node('b')\n",
    "g.add_node('c')\n",
    "g.add_edge('a','b')\n",
    "g.add_edge('b','a')\n",
    "g.add_edge('c','b')\n",
    "g.add_edge('b','c')\n",
    "adj = nx.adjacency_matrix(g).astype(float)"
   ]
  },
  {
   "cell_type": "code",
   "execution_count": 80,
   "metadata": {},
   "outputs": [],
   "source": [
    "import networkx as nx"
   ]
  },
  {
   "cell_type": "code",
   "execution_count": 106,
   "metadata": {},
   "outputs": [
    {
     "data": {
      "text/plain": [
       "<3x3 sparse matrix of type '<class 'numpy.float64'>'\n",
       "\twith 4 stored elements in Compressed Sparse Row format>"
      ]
     },
     "execution_count": 106,
     "metadata": {},
     "output_type": "execute_result"
    }
   ],
   "source": [
    "adj"
   ]
  },
  {
   "cell_type": "code",
   "execution_count": 98,
   "metadata": {},
   "outputs": [],
   "source": [
    "def print_adj(ad):\n",
    "    for i in range(ad.shape[0]):\n",
    "        print(ad[i].indices)"
   ]
  },
  {
   "cell_type": "code",
   "execution_count": 110,
   "metadata": {},
   "outputs": [],
   "source": [
    "g = nx.DiGraph()\n",
    "g.add_node('a')\n",
    "g.add_node('b')\n",
    "g.add_node('c')\n",
    "g.add_edge('a','c')\n",
    "g.add_edge('a','c')\n",
    "g.add_edge('c','a')\n",
    "adj_2 = nx.adjacency_matrix(g).astype(float)"
   ]
  },
  {
   "cell_type": "code",
   "execution_count": 111,
   "metadata": {},
   "outputs": [
    {
     "data": {
      "text/plain": [
       "<3x3 sparse matrix of type '<class 'numpy.float64'>'\n",
       "\twith 2 stored elements in Compressed Sparse Row format>"
      ]
     },
     "execution_count": 111,
     "metadata": {},
     "output_type": "execute_result"
    }
   ],
   "source": [
    "adj_2"
   ]
  },
  {
   "cell_type": "code",
   "execution_count": 108,
   "metadata": {},
   "outputs": [],
   "source": [
    "adj_3 = adj_2 + adj"
   ]
  },
  {
   "cell_type": "code",
   "execution_count": 113,
   "metadata": {},
   "outputs": [
    {
     "name": "stdout",
     "output_type": "stream",
     "text": [
      "[1]\n",
      "[0 2]\n",
      "[1]\n",
      "[2]\n",
      "[]\n",
      "[0]\n",
      "[1 2]\n",
      "[0 2]\n",
      "[0 1]\n"
     ]
    }
   ],
   "source": [
    "print_adj(adj)\n",
    "print_adj(adj_2)\n",
    "print_adj(adj_3)"
   ]
  },
  {
   "cell_type": "code",
   "execution_count": 14,
   "metadata": {},
   "outputs": [],
   "source": [
    "import numpy as np"
   ]
  },
  {
   "cell_type": "code",
   "execution_count": 18,
   "metadata": {},
   "outputs": [
    {
     "name": "stderr",
     "output_type": "stream",
     "text": [
      "100%|██████████| 10000000/10000000 [00:07<00:00, 1284735.15it/s]"
     ]
    },
    {
     "name": "stdout",
     "output_type": "stream",
     "text": [
      "0\n"
     ]
    },
    {
     "name": "stderr",
     "output_type": "stream",
     "text": [
      "\n"
     ]
    }
   ],
   "source": [
    "st = set()\n",
    "max_r = 10000000\n",
    "for i in range(max_r):\n",
    "    st.add((i,max_r-i))\n",
    "a = [_[0] for _ in st]\n",
    "b = [_[1] for _ in st]\n",
    "from tqdm import tqdm\n",
    "err = 0\n",
    "for i in tqdm(range(max_r)):\n",
    "    if a[i] + b[i] != max_r:\n",
    "        err += 1\n",
    "print(err)"
   ]
  },
  {
   "cell_type": "code",
   "execution_count": 24,
   "metadata": {},
   "outputs": [
    {
     "name": "stderr",
     "output_type": "stream",
     "text": [
      "100%|██████████| 604712/604712 [00:16<00:00, 35852.61it/s] \n"
     ]
    }
   ],
   "source": [
    "g_aut = set()\n",
    "for aut in tqdm(author_dict):\n",
    "    papers = [id2idx[_] for _ in author_dict[aut]]\n",
    "    for i in range(len(papers)):\n",
    "        for j in range(i + 1,len(papers)):\n",
    "            g_aut.add((papers[i],papers[j]))\n",
    "            g_aut.add((papers[j],papers[i]))"
   ]
  },
  {
   "cell_type": "code",
   "execution_count": 20,
   "metadata": {},
   "outputs": [
    {
     "name": "stderr",
     "output_type": "stream",
     "text": [
      "100%|██████████| 19233579/19233579 [00:18<00:00, 1033406.52it/s]\n"
     ]
    }
   ],
   "source": [
    "err = 0\n",
    "for i,j in tqdm(g_aut):\n",
    "    if (j,i) not in g_aut:\n",
    "        err += 1"
   ]
  },
  {
   "cell_type": "code",
   "execution_count": 21,
   "metadata": {},
   "outputs": [
    {
     "data": {
      "text/plain": [
       "0"
      ]
     },
     "execution_count": 21,
     "metadata": {},
     "output_type": "execute_result"
    }
   ],
   "source": [
    "err"
   ]
  },
  {
   "cell_type": "code",
   "execution_count": 25,
   "metadata": {},
   "outputs": [
    {
     "data": {
      "text/plain": [
       "19225850"
      ]
     },
     "execution_count": 25,
     "metadata": {},
     "output_type": "execute_result"
    }
   ],
   "source": [
    "len(g_aut)"
   ]
  },
  {
   "cell_type": "code",
   "execution_count": 23,
   "metadata": {},
   "outputs": [
    {
     "name": "stderr",
     "output_type": "stream",
     "text": [
      "100%|██████████| 604712/604712 [00:01<00:00, 583978.51it/s]\n"
     ]
    }
   ],
   "source": [
    "for aut in tqdm(author_dict):\n",
    "    author_dict[aut] = list(set(author_dict[aut]))"
   ]
  },
  {
   "cell_type": "code",
   "execution_count": null,
   "metadata": {},
   "outputs": [],
   "source": []
  }
 ],
 "metadata": {
  "kernelspec": {
   "display_name": "Python 3",
   "language": "python",
   "name": "python3"
  },
  "language_info": {
   "codemirror_mode": {
    "name": "ipython",
    "version": 3
   },
   "file_extension": ".py",
   "mimetype": "text/x-python",
   "name": "python",
   "nbconvert_exporter": "python",
   "pygments_lexer": "ipython3",
   "version": "3.7.1"
  }
 },
 "nbformat": 4,
 "nbformat_minor": 2
}
